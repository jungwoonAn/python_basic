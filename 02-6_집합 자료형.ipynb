{
 "cells": [
  {
   "cell_type": "markdown",
   "id": "80356985-3399-4c47-b88b-549b46bcdc76",
   "metadata": {},
   "source": [
    "# 집합 자료형은 어떻게 만들까?"
   ]
  },
  {
   "cell_type": "code",
   "execution_count": 1,
   "id": "ac31c7fb-0e8a-4f6f-9796-71b38e2d4c23",
   "metadata": {},
   "outputs": [
    {
     "data": {
      "text/plain": [
       "{1, 2, 3}"
      ]
     },
     "execution_count": 1,
     "metadata": {},
     "output_type": "execute_result"
    }
   ],
   "source": [
    "s1 = set([1,2,3])\n",
    "s1"
   ]
  },
  {
   "cell_type": "code",
   "execution_count": 2,
   "id": "396e086b-941d-4111-80a9-f796dc7edb49",
   "metadata": {},
   "outputs": [
    {
     "data": {
      "text/plain": [
       "{'H', 'e', 'l', 'o'}"
      ]
     },
     "execution_count": 2,
     "metadata": {},
     "output_type": "execute_result"
    }
   ],
   "source": [
    "s2 = set('Hello')\n",
    "s2"
   ]
  },
  {
   "cell_type": "markdown",
   "id": "9a87133c-55d1-4a70-abb4-ed60a60b67d2",
   "metadata": {},
   "source": [
    "# 집합 자료형의 특징\n",
    "\n",
    "* 중복을 허용하지 않는다.\r",
    "* \n",
    "순서가 없다(Unordered)\n",
    "\n",
    "리스트나 튜플은 순서가 있기(ordered) 때문에 인덱싱을 통해 요솟값을 얻을 수 있지만,    \n",
    "set 자료형은 순서가 없기(unordered) 때문에 인덱싱을 통해 요솟값을 얻을 수 없다.."
   ]
  },
  {
   "cell_type": "code",
   "execution_count": 3,
   "id": "0691b3ee-4ea1-4968-b2bb-d3e4ff9386c0",
   "metadata": {},
   "outputs": [
    {
     "data": {
      "text/plain": [
       "[1, 2, 3]"
      ]
     },
     "execution_count": 3,
     "metadata": {},
     "output_type": "execute_result"
    }
   ],
   "source": [
    "# set 자료형에 저장된 값을 인덱싱으로 접근하려면 리스트나 튜플로 변환한 후\n",
    "s1 = set([1, 2, 3])\n",
    "l1 = list(s1)\n",
    "l1"
   ]
  },
  {
   "cell_type": "code",
   "execution_count": 4,
   "id": "663060dc-a8e6-44b2-86f9-43c3b02ba01b",
   "metadata": {},
   "outputs": [
    {
     "data": {
      "text/plain": [
       "1"
      ]
     },
     "execution_count": 4,
     "metadata": {},
     "output_type": "execute_result"
    }
   ],
   "source": [
    "l1[0]"
   ]
  },
  {
   "cell_type": "code",
   "execution_count": 5,
   "id": "b3e07c92-5a81-428d-b457-472d36805a23",
   "metadata": {},
   "outputs": [
    {
     "data": {
      "text/plain": [
       "(1, 2, 3)"
      ]
     },
     "execution_count": 5,
     "metadata": {},
     "output_type": "execute_result"
    }
   ],
   "source": [
    "t1 = tuple(s1)\n",
    "t1"
   ]
  },
  {
   "cell_type": "code",
   "execution_count": 6,
   "id": "db73588b-2ffc-4b9d-ad34-4579e45a5b08",
   "metadata": {},
   "outputs": [
    {
     "data": {
      "text/plain": [
       "1"
      ]
     },
     "execution_count": 6,
     "metadata": {},
     "output_type": "execute_result"
    }
   ],
   "source": [
    "t1[0]"
   ]
  },
  {
   "cell_type": "markdown",
   "id": "19d63c09-4706-4412-9296-22784b3eedc2",
   "metadata": {},
   "source": [
    "# 교집합, 합집합, 차집합 구하기"
   ]
  },
  {
   "cell_type": "code",
   "execution_count": 7,
   "id": "ef2546d9-158b-49ab-90dd-b8cdc97384ac",
   "metadata": {},
   "outputs": [],
   "source": [
    "s1 = set([1,2,3,4,5,6])\n",
    "s2 = set([4,5,6,7,8,9])"
   ]
  },
  {
   "cell_type": "markdown",
   "id": "f696c044-ee78-4281-9824-511b8f1f605c",
   "metadata": {},
   "source": [
    "### 교집합 구하기"
   ]
  },
  {
   "cell_type": "code",
   "execution_count": 8,
   "id": "9a78708d-a1ef-4341-bf8e-14c665d6dba6",
   "metadata": {},
   "outputs": [
    {
     "data": {
      "text/plain": [
       "{4, 5, 6}"
      ]
     },
     "execution_count": 8,
     "metadata": {},
     "output_type": "execute_result"
    }
   ],
   "source": [
    "s1 & s2"
   ]
  },
  {
   "cell_type": "code",
   "execution_count": 9,
   "id": "df6e13b4-a14d-4401-b722-26b97cb156ea",
   "metadata": {},
   "outputs": [
    {
     "data": {
      "text/plain": [
       "{4, 5, 6}"
      ]
     },
     "execution_count": 9,
     "metadata": {},
     "output_type": "execute_result"
    }
   ],
   "source": [
    "s1.intersection(s2)"
   ]
  },
  {
   "cell_type": "markdown",
   "id": "01a5f850-5bdd-48c8-9f45-bbf674c6dcd1",
   "metadata": {},
   "source": [
    "### 합집합 구하기"
   ]
  },
  {
   "cell_type": "code",
   "execution_count": 10,
   "id": "8c9ed57a-a982-4b1b-b669-6e31ca9f5655",
   "metadata": {},
   "outputs": [
    {
     "data": {
      "text/plain": [
       "{1, 2, 3, 4, 5, 6, 7, 8, 9}"
      ]
     },
     "execution_count": 10,
     "metadata": {},
     "output_type": "execute_result"
    }
   ],
   "source": [
    "s1 | s2"
   ]
  },
  {
   "cell_type": "code",
   "execution_count": 11,
   "id": "a3de0704-a639-4b96-a222-6ee4c914cab6",
   "metadata": {},
   "outputs": [
    {
     "data": {
      "text/plain": [
       "{1, 2, 3, 4, 5, 6, 7, 8, 9}"
      ]
     },
     "execution_count": 11,
     "metadata": {},
     "output_type": "execute_result"
    }
   ],
   "source": [
    "s1.union(s2)"
   ]
  },
  {
   "cell_type": "markdown",
   "id": "1111a41f-9df3-4322-ad61-a7ad21a839a6",
   "metadata": {},
   "source": [
    "### 차집합 구하기"
   ]
  },
  {
   "cell_type": "code",
   "execution_count": 12,
   "id": "30b14db4-d2b5-429b-b76d-3043258c0197",
   "metadata": {},
   "outputs": [
    {
     "data": {
      "text/plain": [
       "{1, 2, 3}"
      ]
     },
     "execution_count": 12,
     "metadata": {},
     "output_type": "execute_result"
    }
   ],
   "source": [
    "s1 - s2"
   ]
  },
  {
   "cell_type": "code",
   "execution_count": 13,
   "id": "b08db0d6-0cb8-4fca-9696-c768e4361f18",
   "metadata": {},
   "outputs": [
    {
     "data": {
      "text/plain": [
       "{7, 8, 9}"
      ]
     },
     "execution_count": 13,
     "metadata": {},
     "output_type": "execute_result"
    }
   ],
   "source": [
    "s2 - s1"
   ]
  },
  {
   "cell_type": "markdown",
   "id": "c11c35ac-123a-4392-8e24-7299b907f56b",
   "metadata": {},
   "source": [
    "# 집합 자료형 관련 함수"
   ]
  },
  {
   "cell_type": "markdown",
   "id": "da37d177-b187-48ec-a3ca-228e4f062978",
   "metadata": {},
   "source": [
    "### 값 1개 추가하기 - add"
   ]
  },
  {
   "cell_type": "code",
   "execution_count": 14,
   "id": "eaae4949-20ea-45d1-a4c8-d15513c6f929",
   "metadata": {},
   "outputs": [
    {
     "data": {
      "text/plain": [
       "{1, 2, 3, 4}"
      ]
     },
     "execution_count": 14,
     "metadata": {},
     "output_type": "execute_result"
    }
   ],
   "source": [
    "s1 = set([1,2,3])\n",
    "s1.add(4)\n",
    "s1"
   ]
  },
  {
   "cell_type": "markdown",
   "id": "712161b8-03df-482a-b209-1a7380ac5b6a",
   "metadata": {},
   "source": [
    "### 값 여러 개 추가하기 - update"
   ]
  },
  {
   "cell_type": "code",
   "execution_count": 15,
   "id": "b9aeb573-3450-43b9-bf59-7328b44667c2",
   "metadata": {},
   "outputs": [
    {
     "data": {
      "text/plain": [
       "{1, 2, 3, 4, 5, 6}"
      ]
     },
     "execution_count": 15,
     "metadata": {},
     "output_type": "execute_result"
    }
   ],
   "source": [
    "s1 = set([1,2,3])\n",
    "s1.update([4,5,6])\n",
    "s1"
   ]
  },
  {
   "cell_type": "markdown",
   "id": "4677e990-d5a9-441e-a38d-140b401dd387",
   "metadata": {},
   "source": [
    "### 특정 값 제거하기 - remove"
   ]
  },
  {
   "cell_type": "code",
   "execution_count": 16,
   "id": "d9a02acc-ddf4-47d1-9629-5f830b381603",
   "metadata": {},
   "outputs": [
    {
     "data": {
      "text/plain": [
       "{1, 3}"
      ]
     },
     "execution_count": 16,
     "metadata": {},
     "output_type": "execute_result"
    }
   ],
   "source": [
    "s1 = set([1,2,3])\n",
    "s1.remove(2)\n",
    "s1"
   ]
  }
 ],
 "metadata": {
  "kernelspec": {
   "display_name": "Python 3 (ipykernel)",
   "language": "python",
   "name": "python3"
  },
  "language_info": {
   "codemirror_mode": {
    "name": "ipython",
    "version": 3
   },
   "file_extension": ".py",
   "mimetype": "text/x-python",
   "name": "python",
   "nbconvert_exporter": "python",
   "pygments_lexer": "ipython3",
   "version": "3.12.4"
  }
 },
 "nbformat": 4,
 "nbformat_minor": 5
}
