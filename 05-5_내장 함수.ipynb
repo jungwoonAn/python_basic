{
 "cells": [
  {
   "cell_type": "markdown",
   "id": "6eff8a1b-590b-4f0a-8a97-2de039d32120",
   "metadata": {},
   "source": [
    "# abs\n",
    "abs(x)는 어떤 숫자를 입력받았을 때 그 숫자의 절댓값을 리턴하는 함수"
   ]
  },
  {
   "cell_type": "code",
   "execution_count": 1,
   "id": "b96f6b7e-ed56-4708-a0a3-b19f43705515",
   "metadata": {},
   "outputs": [
    {
     "data": {
      "text/plain": [
       "3"
      ]
     },
     "execution_count": 1,
     "metadata": {},
     "output_type": "execute_result"
    }
   ],
   "source": [
    "abs(3)"
   ]
  },
  {
   "cell_type": "code",
   "execution_count": 2,
   "id": "89149f19-db94-47b2-bf02-ee66c7bb4088",
   "metadata": {},
   "outputs": [
    {
     "data": {
      "text/plain": [
       "3"
      ]
     },
     "execution_count": 2,
     "metadata": {},
     "output_type": "execute_result"
    }
   ],
   "source": [
    "abs(-3)"
   ]
  },
  {
   "cell_type": "code",
   "execution_count": 3,
   "id": "36a3ac35-883f-413e-8091-6b3c2a264373",
   "metadata": {},
   "outputs": [
    {
     "data": {
      "text/plain": [
       "1.2"
      ]
     },
     "execution_count": 3,
     "metadata": {},
     "output_type": "execute_result"
    }
   ],
   "source": [
    "abs(-1.2)"
   ]
  },
  {
   "cell_type": "markdown",
   "id": "161ab52e-9ed4-4216-bf85-0d030eeb2d93",
   "metadata": {},
   "source": [
    "# all\n",
    "all(x)는 반복 가능한 데이터 x를 입력값으로 받아   \n",
    "x의 요소가 모두 참이면 True, 거짓이 하나라도 있으면 False를 리턴"
   ]
  },
  {
   "cell_type": "code",
   "execution_count": 4,
   "id": "78f29593-0d92-49f3-ab44-15aa709a14fb",
   "metadata": {},
   "outputs": [
    {
     "data": {
      "text/plain": [
       "True"
      ]
     },
     "execution_count": 4,
     "metadata": {},
     "output_type": "execute_result"
    }
   ],
   "source": [
    "all([1, 2, 3])"
   ]
  },
  {
   "cell_type": "code",
   "execution_count": 5,
   "id": "b8c7672d-7e24-4e50-aaf9-0398382f62da",
   "metadata": {},
   "outputs": [
    {
     "data": {
      "text/plain": [
       "False"
      ]
     },
     "execution_count": 5,
     "metadata": {},
     "output_type": "execute_result"
    }
   ],
   "source": [
    "all([1, 2, 3, 0])"
   ]
  },
  {
   "cell_type": "code",
   "execution_count": 6,
   "id": "86768771-a65c-4279-9cef-6bc94778f006",
   "metadata": {},
   "outputs": [
    {
     "data": {
      "text/plain": [
       "True"
      ]
     },
     "execution_count": 6,
     "metadata": {},
     "output_type": "execute_result"
    }
   ],
   "source": [
    "# all의 입력 인수가 빈 값인 경우에는 True를 리턴\n",
    "all([])"
   ]
  },
  {
   "cell_type": "markdown",
   "id": "83e36501-3583-4093-9959-b435670cf0e0",
   "metadata": {},
   "source": [
    "# any\n",
    "any(x)는 반복 가능한 데이터 x를 입력으로 받아   \n",
    "x의 요소 중 하나라도 참이 있으면 True를 리턴하고 x가 모두 거짓일 때만 False를 리턴   \n",
    "all(x)의 반대로 작동"
   ]
  },
  {
   "cell_type": "code",
   "execution_count": 7,
   "id": "2b0052f4-54fd-471d-a5f3-b5be258d36f4",
   "metadata": {},
   "outputs": [
    {
     "data": {
      "text/plain": [
       "True"
      ]
     },
     "execution_count": 7,
     "metadata": {},
     "output_type": "execute_result"
    }
   ],
   "source": [
    "any([1, 2, 3, 0])"
   ]
  },
  {
   "cell_type": "code",
   "execution_count": 8,
   "id": "617870cd-920a-4142-8982-4062cc28bc98",
   "metadata": {},
   "outputs": [
    {
     "data": {
      "text/plain": [
       "False"
      ]
     },
     "execution_count": 8,
     "metadata": {},
     "output_type": "execute_result"
    }
   ],
   "source": [
    "any([0, \"\"])"
   ]
  },
  {
   "cell_type": "code",
   "execution_count": 9,
   "id": "f9221dc7-afd8-4ea1-a35a-d2366913c7c4",
   "metadata": {},
   "outputs": [
    {
     "data": {
      "text/plain": [
       "False"
      ]
     },
     "execution_count": 9,
     "metadata": {},
     "output_type": "execute_result"
    }
   ],
   "source": [
    "any([])"
   ]
  },
  {
   "cell_type": "markdown",
   "id": "40666250-99eb-4f6b-8dbf-4f43f931e6b2",
   "metadata": {},
   "source": [
    "# chr\n",
    "chr(i)는 유니코드 숫자 값을 입력받아 그 코드에 해당하는 문자를 리턴"
   ]
  },
  {
   "cell_type": "code",
   "execution_count": 10,
   "id": "fabcd85d-ada4-484e-85ca-603a3db6102a",
   "metadata": {},
   "outputs": [
    {
     "data": {
      "text/plain": [
       "'a'"
      ]
     },
     "execution_count": 10,
     "metadata": {},
     "output_type": "execute_result"
    }
   ],
   "source": [
    "chr(97)  # 아스키코드 97 = 'a'"
   ]
  },
  {
   "cell_type": "code",
   "execution_count": 11,
   "id": "58b7a336-6fd2-4ca5-8110-514173513c75",
   "metadata": {},
   "outputs": [
    {
     "data": {
      "text/plain": [
       "'가'"
      ]
     },
     "execution_count": 11,
     "metadata": {},
     "output_type": "execute_result"
    }
   ],
   "source": [
    "chr(44032)  # 유니코드 44032 = '가'"
   ]
  },
  {
   "cell_type": "markdown",
   "id": "0ac2ce58-5bc2-4483-a620-fe55759f2322",
   "metadata": {},
   "source": [
    "# dir\n",
    "dir은 객체가 지닌 변수나 함수를 보여 주는 함수"
   ]
  },
  {
   "cell_type": "code",
   "execution_count": 12,
   "id": "e5530f7f-8208-49e8-8618-0a9e57bb11b8",
   "metadata": {},
   "outputs": [
    {
     "data": {
      "text/plain": [
       "['__add__',\n",
       " '__class__',\n",
       " '__class_getitem__',\n",
       " '__contains__',\n",
       " '__delattr__',\n",
       " '__delitem__',\n",
       " '__dir__',\n",
       " '__doc__',\n",
       " '__eq__',\n",
       " '__format__',\n",
       " '__ge__',\n",
       " '__getattribute__',\n",
       " '__getitem__',\n",
       " '__getstate__',\n",
       " '__gt__',\n",
       " '__hash__',\n",
       " '__iadd__',\n",
       " '__imul__',\n",
       " '__init__',\n",
       " '__init_subclass__',\n",
       " '__iter__',\n",
       " '__le__',\n",
       " '__len__',\n",
       " '__lt__',\n",
       " '__mul__',\n",
       " '__ne__',\n",
       " '__new__',\n",
       " '__reduce__',\n",
       " '__reduce_ex__',\n",
       " '__repr__',\n",
       " '__reversed__',\n",
       " '__rmul__',\n",
       " '__setattr__',\n",
       " '__setitem__',\n",
       " '__sizeof__',\n",
       " '__str__',\n",
       " '__subclasshook__',\n",
       " 'append',\n",
       " 'clear',\n",
       " 'copy',\n",
       " 'count',\n",
       " 'extend',\n",
       " 'index',\n",
       " 'insert',\n",
       " 'pop',\n",
       " 'remove',\n",
       " 'reverse',\n",
       " 'sort']"
      ]
     },
     "execution_count": 12,
     "metadata": {},
     "output_type": "execute_result"
    }
   ],
   "source": [
    "dir([1, 2, 3])"
   ]
  },
  {
   "cell_type": "code",
   "execution_count": 13,
   "id": "2d9cdaea-b953-4449-b7d4-5de90e6401b9",
   "metadata": {},
   "outputs": [
    {
     "data": {
      "text/plain": [
       "['__class__',\n",
       " '__class_getitem__',\n",
       " '__contains__',\n",
       " '__delattr__',\n",
       " '__delitem__',\n",
       " '__dir__',\n",
       " '__doc__',\n",
       " '__eq__',\n",
       " '__format__',\n",
       " '__ge__',\n",
       " '__getattribute__',\n",
       " '__getitem__',\n",
       " '__getstate__',\n",
       " '__gt__',\n",
       " '__hash__',\n",
       " '__init__',\n",
       " '__init_subclass__',\n",
       " '__ior__',\n",
       " '__iter__',\n",
       " '__le__',\n",
       " '__len__',\n",
       " '__lt__',\n",
       " '__ne__',\n",
       " '__new__',\n",
       " '__or__',\n",
       " '__reduce__',\n",
       " '__reduce_ex__',\n",
       " '__repr__',\n",
       " '__reversed__',\n",
       " '__ror__',\n",
       " '__setattr__',\n",
       " '__setitem__',\n",
       " '__sizeof__',\n",
       " '__str__',\n",
       " '__subclasshook__',\n",
       " 'clear',\n",
       " 'copy',\n",
       " 'fromkeys',\n",
       " 'get',\n",
       " 'items',\n",
       " 'keys',\n",
       " 'pop',\n",
       " 'popitem',\n",
       " 'setdefault',\n",
       " 'update',\n",
       " 'values']"
      ]
     },
     "execution_count": 13,
     "metadata": {},
     "output_type": "execute_result"
    }
   ],
   "source": [
    "dir({'1':'a'})"
   ]
  },
  {
   "cell_type": "markdown",
   "id": "fd042fdd-6377-4bc9-b188-4b6ded8eddf4",
   "metadata": {},
   "source": [
    "# divmod\n",
    "2개의 숫자 a, b를 입력으로 받아   \n",
    "a를 b로 나눈 몫과 나머지를 튜플로 리턴"
   ]
  },
  {
   "cell_type": "code",
   "execution_count": 14,
   "id": "35b4cc96-7074-43a8-bf5b-c0daf10c54f7",
   "metadata": {},
   "outputs": [
    {
     "data": {
      "text/plain": [
       "(2, 1)"
      ]
     },
     "execution_count": 14,
     "metadata": {},
     "output_type": "execute_result"
    }
   ],
   "source": [
    "divmod(7, 3)"
   ]
  },
  {
   "cell_type": "code",
   "execution_count": 15,
   "id": "55659bd6-bc20-4cee-aebb-5b8e2fc16b61",
   "metadata": {},
   "outputs": [
    {
     "data": {
      "text/plain": [
       "2"
      ]
     },
     "execution_count": 15,
     "metadata": {},
     "output_type": "execute_result"
    }
   ],
   "source": [
    "7 // 3"
   ]
  },
  {
   "cell_type": "code",
   "execution_count": 16,
   "id": "2db4f3e2-fd8c-44c9-b376-02d0e3f1f7aa",
   "metadata": {},
   "outputs": [
    {
     "data": {
      "text/plain": [
       "1"
      ]
     },
     "execution_count": 16,
     "metadata": {},
     "output_type": "execute_result"
    }
   ],
   "source": [
    "7 % 3"
   ]
  },
  {
   "cell_type": "markdown",
   "id": "407c6307-083e-4f0c-bd7f-914e7c50732d",
   "metadata": {},
   "source": [
    "# enumerate\n",
    "순서가 있는 데이터(리스트, 튜플, 문자열)를 입력으로 받아   \n",
    "인덱스 값을 포함하는 enumerate 객체를 리턴"
   ]
  },
  {
   "cell_type": "code",
   "execution_count": 17,
   "id": "02983309-479f-43d6-85d7-f6c9643e9f42",
   "metadata": {},
   "outputs": [
    {
     "name": "stdout",
     "output_type": "stream",
     "text": [
      "0 body\n",
      "1 foo\n",
      "2 bar\n"
     ]
    }
   ],
   "source": [
    "for i, name in enumerate(['body', 'foo', 'bar']):\n",
    "    print(i, name)"
   ]
  },
  {
   "cell_type": "markdown",
   "id": "05da5ea3-a3ac-4f43-934b-2f0004dbbcbf",
   "metadata": {},
   "source": [
    "# eval\n",
    "문자열로 구성된 표현식을 입력으로 받아 해당 문자열을 실행한 결괏값을 리턴"
   ]
  },
  {
   "cell_type": "code",
   "execution_count": 18,
   "id": "6569f8ef-6e1d-4ad1-a2b9-7133bdc4f610",
   "metadata": {},
   "outputs": [
    {
     "data": {
      "text/plain": [
       "3"
      ]
     },
     "execution_count": 18,
     "metadata": {},
     "output_type": "execute_result"
    }
   ],
   "source": [
    "eval('1+2')"
   ]
  },
  {
   "cell_type": "code",
   "execution_count": 19,
   "id": "54cd051a-8c61-4058-8db8-b3e566696557",
   "metadata": {},
   "outputs": [
    {
     "data": {
      "text/plain": [
       "'hia'"
      ]
     },
     "execution_count": 19,
     "metadata": {},
     "output_type": "execute_result"
    }
   ],
   "source": [
    "eval(\"'hi' + 'a'\")"
   ]
  },
  {
   "cell_type": "code",
   "execution_count": 20,
   "id": "480525a3-2743-4574-860f-c6318da15095",
   "metadata": {},
   "outputs": [
    {
     "data": {
      "text/plain": [
       "(1, 1)"
      ]
     },
     "execution_count": 20,
     "metadata": {},
     "output_type": "execute_result"
    }
   ],
   "source": [
    "eval('divmod(4, 3)')"
   ]
  },
  {
   "cell_type": "markdown",
   "id": "273b1c0a-8850-47f6-88c5-7a90e2bc444a",
   "metadata": {},
   "source": [
    "# filter\n",
    "filter 함수는 첫 번째 인수로 함수, 두 번째 인수로 반복 가능한 데이터를 받아   \n",
    "반복 가능한 데이터의 요소 순서대로 함수를 호출했을 때   \n",
    "리턴값이 참인 것만 묶어서(걸러 내서) 리턴"
   ]
  },
  {
   "cell_type": "code",
   "execution_count": 21,
   "id": "dec222be-d0d7-49d9-b3d1-d8a6739c0103",
   "metadata": {},
   "outputs": [
    {
     "name": "stdout",
     "output_type": "stream",
     "text": [
      "[1, 2, 6]\n"
     ]
    }
   ],
   "source": [
    "def positive(l): \n",
    "    result = [] \n",
    "    for i in l: \n",
    "        if i > 0: \n",
    "            result.append(i) \n",
    "    return result\n",
    "\n",
    "print(positive([1,-3,2,0,-5,6]))"
   ]
  },
  {
   "cell_type": "code",
   "execution_count": 22,
   "id": "de049c03-9bac-4696-91d0-e03f2a8df2d5",
   "metadata": {},
   "outputs": [
    {
     "name": "stdout",
     "output_type": "stream",
     "text": [
      "[1, 2, 6]\n"
     ]
    }
   ],
   "source": [
    "def positive(x):\n",
    "    return x > 0\n",
    "\n",
    "# filter함수 사용\n",
    "print(list(filter(positive, [1, -3, 2, 0, -5, 6])))"
   ]
  },
  {
   "cell_type": "code",
   "execution_count": 23,
   "id": "ab97e6de-fcb4-41b1-8225-d20df0ecff6f",
   "metadata": {},
   "outputs": [
    {
     "data": {
      "text/plain": [
       "[1, 2, 6]"
      ]
     },
     "execution_count": 23,
     "metadata": {},
     "output_type": "execute_result"
    }
   ],
   "source": [
    "# 람다 사용\n",
    "list(filter(lambda x: x > 0, [1, -3, 2, 0, -5, 6]))"
   ]
  },
  {
   "cell_type": "markdown",
   "id": "74022c2f-c5ee-4ffa-a7e3-62656d1ac2a0",
   "metadata": {},
   "source": [
    "# hex\n",
    "정수를 입력받아 16진수(hexadecimal) 문자열로 변환하여 리턴"
   ]
  },
  {
   "cell_type": "code",
   "execution_count": 24,
   "id": "644298b0-4564-4d0d-a0a5-aecd4543df7f",
   "metadata": {},
   "outputs": [
    {
     "data": {
      "text/plain": [
       "'0xea'"
      ]
     },
     "execution_count": 24,
     "metadata": {},
     "output_type": "execute_result"
    }
   ],
   "source": [
    "hex(234)"
   ]
  },
  {
   "cell_type": "code",
   "execution_count": 25,
   "id": "f676753b-a273-4a16-bfc3-3d980252f82c",
   "metadata": {},
   "outputs": [
    {
     "data": {
      "text/plain": [
       "'0x3'"
      ]
     },
     "execution_count": 25,
     "metadata": {},
     "output_type": "execute_result"
    }
   ],
   "source": [
    "hex(3)"
   ]
  },
  {
   "cell_type": "markdown",
   "id": "cfd792a5-b915-4686-ae2b-214dfaafe458",
   "metadata": {},
   "source": [
    "# id\n",
    "객체를 입력받아 객체의 고유 주솟값(레퍼런스)을 리턴"
   ]
  },
  {
   "cell_type": "code",
   "execution_count": 26,
   "id": "46f1e21c-1090-4b9a-a723-16a2d48fc7b5",
   "metadata": {},
   "outputs": [
    {
     "data": {
      "text/plain": [
       "140709031983608"
      ]
     },
     "execution_count": 26,
     "metadata": {},
     "output_type": "execute_result"
    }
   ],
   "source": [
    "a = 3\n",
    "id(3)"
   ]
  },
  {
   "cell_type": "code",
   "execution_count": 27,
   "id": "7cdd7849-b134-4f99-a851-b10ea30e2d60",
   "metadata": {},
   "outputs": [
    {
     "data": {
      "text/plain": [
       "140709031983608"
      ]
     },
     "execution_count": 27,
     "metadata": {},
     "output_type": "execute_result"
    }
   ],
   "source": [
    "id(a)"
   ]
  },
  {
   "cell_type": "code",
   "execution_count": 28,
   "id": "bb56773b-b8d8-4806-88a9-0635d5a863df",
   "metadata": {},
   "outputs": [
    {
     "data": {
      "text/plain": [
       "140709031983608"
      ]
     },
     "execution_count": 28,
     "metadata": {},
     "output_type": "execute_result"
    }
   ],
   "source": [
    "b = a\n",
    "id(b)"
   ]
  },
  {
   "cell_type": "code",
   "execution_count": 29,
   "id": "b8097669-ee15-4134-8eb3-cd9aa3993237",
   "metadata": {},
   "outputs": [
    {
     "data": {
      "text/plain": [
       "140709031983640"
      ]
     },
     "execution_count": 29,
     "metadata": {},
     "output_type": "execute_result"
    }
   ],
   "source": [
    "id(4)"
   ]
  },
  {
   "cell_type": "markdown",
   "id": "a4c1f2d5-fac8-409b-b905-ddb0c4c514cf",
   "metadata": {},
   "source": [
    "# input\n",
    "사용자 입력을 받는 함수"
   ]
  },
  {
   "cell_type": "code",
   "execution_count": 30,
   "id": "95f54bb2-6294-4898-80a5-9626e9fd117f",
   "metadata": {},
   "outputs": [
    {
     "name": "stdin",
     "output_type": "stream",
     "text": [
      " hi\n"
     ]
    }
   ],
   "source": [
    "a = input()"
   ]
  },
  {
   "cell_type": "code",
   "execution_count": 31,
   "id": "8db957fb-aedd-45a2-a1f4-1cd210b7a9ad",
   "metadata": {},
   "outputs": [
    {
     "data": {
      "text/plain": [
       "'hi'"
      ]
     },
     "execution_count": 31,
     "metadata": {},
     "output_type": "execute_result"
    }
   ],
   "source": [
    "a"
   ]
  },
  {
   "cell_type": "code",
   "execution_count": 32,
   "id": "f7088c6d-0095-4841-b6fd-6ec4b6bcf254",
   "metadata": {},
   "outputs": [
    {
     "name": "stdin",
     "output_type": "stream",
     "text": [
      "Enter:  hi\n"
     ]
    }
   ],
   "source": [
    "b = input(\"Enter: \")"
   ]
  },
  {
   "cell_type": "code",
   "execution_count": 33,
   "id": "98e11ce9-1152-4268-8cbc-62c7210231bd",
   "metadata": {},
   "outputs": [
    {
     "data": {
      "text/plain": [
       "'hi'"
      ]
     },
     "execution_count": 33,
     "metadata": {},
     "output_type": "execute_result"
    }
   ],
   "source": [
    "b"
   ]
  },
  {
   "cell_type": "markdown",
   "id": "3ac31dc2-1a46-4b55-95f6-1935fb6c4c74",
   "metadata": {},
   "source": [
    "# int\n",
    "문자열 형태의 숫자나 소수점이 있는 숫자를 정수로 리턴   \n",
    "int(x, radix)는 radix 진수로 표현된 문자열 x를 10진수로 변환하여 리턴"
   ]
  },
  {
   "cell_type": "code",
   "execution_count": 34,
   "id": "0ff83587-f186-479c-b633-bf1e3b347c75",
   "metadata": {},
   "outputs": [
    {
     "data": {
      "text/plain": [
       "3"
      ]
     },
     "execution_count": 34,
     "metadata": {},
     "output_type": "execute_result"
    }
   ],
   "source": [
    "int('3')"
   ]
  },
  {
   "cell_type": "code",
   "execution_count": 35,
   "id": "d76e55eb-f9bd-4729-bff3-9859308f0ac0",
   "metadata": {},
   "outputs": [
    {
     "data": {
      "text/plain": [
       "3"
      ]
     },
     "execution_count": 35,
     "metadata": {},
     "output_type": "execute_result"
    }
   ],
   "source": [
    "int(3.4)"
   ]
  },
  {
   "cell_type": "code",
   "execution_count": 36,
   "id": "87d6273d-2a41-4ebd-b572-3036a266b111",
   "metadata": {},
   "outputs": [
    {
     "data": {
      "text/plain": [
       "3"
      ]
     },
     "execution_count": 36,
     "metadata": {},
     "output_type": "execute_result"
    }
   ],
   "source": [
    "# 2진수를 10진수로\n",
    "int('11', 2)"
   ]
  },
  {
   "cell_type": "code",
   "execution_count": 37,
   "id": "a0f0c6cd-4af9-4898-b00f-c5d3be6b6c8c",
   "metadata": {},
   "outputs": [
    {
     "data": {
      "text/plain": [
       "26"
      ]
     },
     "execution_count": 37,
     "metadata": {},
     "output_type": "execute_result"
    }
   ],
   "source": [
    "# 16진수를 10진수로\n",
    "int('1A', 16)"
   ]
  },
  {
   "cell_type": "markdown",
   "id": "4db2096e-7d50-4b5d-8980-0d9c80607923",
   "metadata": {},
   "source": [
    "# isinstance\n",
    "isinstance(object, class) 함수는 첫 번째 인수로 객체, 두 번째 인수로 클래스를 받는다.    \n",
    "입력으로 받은 객체가 그 클래스의 인스턴스인지를 판단하여 참이면 True, 거짓이면 False를 리턴한다."
   ]
  },
  {
   "cell_type": "code",
   "execution_count": 38,
   "id": "4479f10c-d978-4b7e-88dd-02e7681d5e5b",
   "metadata": {},
   "outputs": [
    {
     "data": {
      "text/plain": [
       "True"
      ]
     },
     "execution_count": 38,
     "metadata": {},
     "output_type": "execute_result"
    }
   ],
   "source": [
    "class Person: pass\n",
    "\n",
    "a = Person()\n",
    "isinstance(a, Person)"
   ]
  },
  {
   "cell_type": "code",
   "execution_count": 39,
   "id": "f7524370-5440-45c8-a2b8-b8725523c0cb",
   "metadata": {},
   "outputs": [
    {
     "data": {
      "text/plain": [
       "False"
      ]
     },
     "execution_count": 39,
     "metadata": {},
     "output_type": "execute_result"
    }
   ],
   "source": [
    "b = 3\n",
    "isinstance(b, Person)"
   ]
  },
  {
   "cell_type": "markdown",
   "id": "4b969a5f-bb08-4d7c-97fa-c32086fc7096",
   "metadata": {},
   "source": [
    "# len\n",
    "입력값 s의 길이(요소의 전체 개수)를 리턴"
   ]
  },
  {
   "cell_type": "code",
   "execution_count": 40,
   "id": "8b77b609-e411-44d3-8502-50817b338fd0",
   "metadata": {},
   "outputs": [
    {
     "data": {
      "text/plain": [
       "6"
      ]
     },
     "execution_count": 40,
     "metadata": {},
     "output_type": "execute_result"
    }
   ],
   "source": [
    "len(\"python\")"
   ]
  },
  {
   "cell_type": "code",
   "execution_count": 41,
   "id": "9e0c0d3c-8ce0-47ad-9507-4c6cf2f67250",
   "metadata": {},
   "outputs": [
    {
     "data": {
      "text/plain": [
       "3"
      ]
     },
     "execution_count": 41,
     "metadata": {},
     "output_type": "execute_result"
    }
   ],
   "source": [
    "len([1,2,3])"
   ]
  },
  {
   "cell_type": "code",
   "execution_count": 42,
   "id": "84bedc6f-76c4-4100-9a51-701896061401",
   "metadata": {},
   "outputs": [
    {
     "data": {
      "text/plain": [
       "2"
      ]
     },
     "execution_count": 42,
     "metadata": {},
     "output_type": "execute_result"
    }
   ],
   "source": [
    "len((1, 'a'))"
   ]
  },
  {
   "cell_type": "markdown",
   "id": "95fe95c9-75a6-4d4c-853c-d707c3e29d49",
   "metadata": {},
   "source": [
    "# list\n",
    "반복 가능한 데이터를 입력받아 리스트로 만들어 리턴"
   ]
  },
  {
   "cell_type": "code",
   "execution_count": 43,
   "id": "ecda88e0-33df-49e1-92e9-0cc18a20ea03",
   "metadata": {},
   "outputs": [
    {
     "data": {
      "text/plain": [
       "['p', 'y', 't', 'h', 'o', 'n']"
      ]
     },
     "execution_count": 43,
     "metadata": {},
     "output_type": "execute_result"
    }
   ],
   "source": [
    "list(\"python\")"
   ]
  },
  {
   "cell_type": "code",
   "execution_count": 44,
   "id": "388b4875-613f-4596-b066-0be016f9989c",
   "metadata": {},
   "outputs": [
    {
     "data": {
      "text/plain": [
       "[1, 2, 3]"
      ]
     },
     "execution_count": 44,
     "metadata": {},
     "output_type": "execute_result"
    }
   ],
   "source": [
    "list((1,2,3))"
   ]
  },
  {
   "cell_type": "code",
   "execution_count": 45,
   "id": "3daf8b63-678a-4093-a738-fae693aacc20",
   "metadata": {},
   "outputs": [
    {
     "data": {
      "text/plain": [
       "[1, 2, 3]"
      ]
     },
     "execution_count": 45,
     "metadata": {},
     "output_type": "execute_result"
    }
   ],
   "source": [
    "# list 함수에 리스트를 입력하면 똑같은 리스트를 복사하여 리턴\n",
    "a = [1, 2, 3]\n",
    "b = list(a)\n",
    "b"
   ]
  },
  {
   "cell_type": "markdown",
   "id": "696ca476-3f2b-4e31-be74-90857ee7b758",
   "metadata": {},
   "source": [
    "# map\n",
    "map(f, iterable)은 함수(f)와 반복 가능한 데이터를 입력받아   \n",
    "입력받은 데이터의 각 요소에 함수 f를 적용한 결과를 리턴"
   ]
  },
  {
   "cell_type": "code",
   "execution_count": 46,
   "id": "e4631a5a-6652-4a6c-9d9b-1f973b04811b",
   "metadata": {},
   "outputs": [
    {
     "name": "stdout",
     "output_type": "stream",
     "text": [
      "[2, 4, 6, 8]\n"
     ]
    }
   ],
   "source": [
    "def two_times(numberList):\n",
    "    result = []\n",
    "    for number in numberList:\n",
    "        result.append(number*2)\n",
    "    return result\n",
    "\n",
    "result = two_times([1, 2, 3, 4])\n",
    "print(result)"
   ]
  },
  {
   "cell_type": "code",
   "execution_count": 47,
   "id": "39857fb6-4c10-4cfe-8dad-42e6e4d5a325",
   "metadata": {},
   "outputs": [
    {
     "data": {
      "text/plain": [
       "[2, 4, 6, 8]"
      ]
     },
     "execution_count": 47,
     "metadata": {},
     "output_type": "execute_result"
    }
   ],
   "source": [
    "def two_times(x):\n",
    "    return x*2\n",
    "\n",
    "# map함수 이용\n",
    "list(map(two_times, [1, 2, 3, 4]))"
   ]
  },
  {
   "cell_type": "code",
   "execution_count": 48,
   "id": "f116dbf4-9995-4e26-9382-3a6447481c73",
   "metadata": {},
   "outputs": [
    {
     "data": {
      "text/plain": [
       "[2, 4, 6, 8]"
      ]
     },
     "execution_count": 48,
     "metadata": {},
     "output_type": "execute_result"
    }
   ],
   "source": [
    "# 람다 이용\n",
    "list(map(lambda a: a*2, [1, 2, 3, 4]))"
   ]
  },
  {
   "cell_type": "markdown",
   "id": "477cd0df-8081-41e2-bdd1-adc2c0373c42",
   "metadata": {},
   "source": [
    "# max\n",
    "반복 가능한 데이터를 입력받아 그 최댓값을 리턴"
   ]
  },
  {
   "cell_type": "code",
   "execution_count": 49,
   "id": "b8951e4d-549a-4a02-924e-67a855e780f2",
   "metadata": {},
   "outputs": [
    {
     "data": {
      "text/plain": [
       "3"
      ]
     },
     "execution_count": 49,
     "metadata": {},
     "output_type": "execute_result"
    }
   ],
   "source": [
    "max([1, 2, 3])"
   ]
  },
  {
   "cell_type": "code",
   "execution_count": 50,
   "id": "2261c25a-419c-4256-88c6-72950eda7db7",
   "metadata": {},
   "outputs": [
    {
     "data": {
      "text/plain": [
       "'y'"
      ]
     },
     "execution_count": 50,
     "metadata": {},
     "output_type": "execute_result"
    }
   ],
   "source": [
    "max(\"python\")"
   ]
  },
  {
   "cell_type": "markdown",
   "id": "689911b1-f1c9-4643-b5ae-8b9406822c57",
   "metadata": {},
   "source": [
    "# min\n",
    "반복 가능한 데이터를 입력받아 그 최솟값을 리턴"
   ]
  },
  {
   "cell_type": "code",
   "execution_count": 51,
   "id": "4d9bd480-e83e-4c67-b52c-07ad44f721f4",
   "metadata": {},
   "outputs": [
    {
     "data": {
      "text/plain": [
       "1"
      ]
     },
     "execution_count": 51,
     "metadata": {},
     "output_type": "execute_result"
    }
   ],
   "source": [
    "min([1, 2, 3])"
   ]
  },
  {
   "cell_type": "code",
   "execution_count": 52,
   "id": "de204086-8838-4999-8bbb-0e26df000264",
   "metadata": {},
   "outputs": [
    {
     "data": {
      "text/plain": [
       "'h'"
      ]
     },
     "execution_count": 52,
     "metadata": {},
     "output_type": "execute_result"
    }
   ],
   "source": [
    "min(\"python\")"
   ]
  },
  {
   "cell_type": "markdown",
   "id": "3750430d-0e0c-4c76-a9c4-92e633bf8893",
   "metadata": {},
   "source": [
    "# oct\n",
    "정수를 8진수 문자열로 바꾸어 리턴"
   ]
  },
  {
   "cell_type": "code",
   "execution_count": 53,
   "id": "492d775d-05ca-4b2e-9dc3-92806240a3ad",
   "metadata": {},
   "outputs": [
    {
     "data": {
      "text/plain": [
       "'0o42'"
      ]
     },
     "execution_count": 53,
     "metadata": {},
     "output_type": "execute_result"
    }
   ],
   "source": [
    "oct(34)"
   ]
  },
  {
   "cell_type": "code",
   "execution_count": 54,
   "id": "ef3d267f-9cd1-4d3a-b72c-d4514a975aa9",
   "metadata": {},
   "outputs": [
    {
     "data": {
      "text/plain": [
       "'0o30071'"
      ]
     },
     "execution_count": 54,
     "metadata": {},
     "output_type": "execute_result"
    }
   ],
   "source": [
    "oct(12345)"
   ]
  },
  {
   "cell_type": "markdown",
   "id": "eae21b02-3776-48f0-a82c-0690d2865950",
   "metadata": {},
   "source": [
    "# open\n",
    "open(filename, [mode])은 ‘파일 이름’과 ‘읽기 방법’을 입력받아 파일 객체를 리턴"
   ]
  },
  {
   "cell_type": "code",
   "execution_count": 55,
   "id": "e781008f-83bd-4345-923a-43da94337f56",
   "metadata": {},
   "outputs": [],
   "source": [
    "f = open(\"newfile.txt\", \"r\")"
   ]
  },
  {
   "cell_type": "markdown",
   "id": "4300f073-ecc2-4a72-a986-fbd2841b4139",
   "metadata": {},
   "source": [
    "# ord\n",
    "문자의 유니코드 숫자 값을 리턴"
   ]
  },
  {
   "cell_type": "code",
   "execution_count": 56,
   "id": "f30367ee-8411-4e59-a1eb-15ee3a0cc9ad",
   "metadata": {},
   "outputs": [
    {
     "data": {
      "text/plain": [
       "97"
      ]
     },
     "execution_count": 56,
     "metadata": {},
     "output_type": "execute_result"
    }
   ],
   "source": [
    "ord('a')"
   ]
  },
  {
   "cell_type": "code",
   "execution_count": 57,
   "id": "771afd9e-ea88-41a0-813e-be43c372aad7",
   "metadata": {},
   "outputs": [
    {
     "data": {
      "text/plain": [
       "44032"
      ]
     },
     "execution_count": 57,
     "metadata": {},
     "output_type": "execute_result"
    }
   ],
   "source": [
    "ord('가')"
   ]
  },
  {
   "cell_type": "markdown",
   "id": "5a439706-7b94-4e08-8075-e68c79306eef",
   "metadata": {},
   "source": [
    "# pow\n",
    "pow(x, y)는 x를 y제곱한 결괏값을 리턴"
   ]
  },
  {
   "cell_type": "code",
   "execution_count": 58,
   "id": "0f1123c2-ba71-48d8-ad7a-f3ac89e9df04",
   "metadata": {},
   "outputs": [
    {
     "data": {
      "text/plain": [
       "16"
      ]
     },
     "execution_count": 58,
     "metadata": {},
     "output_type": "execute_result"
    }
   ],
   "source": [
    "pow(2, 4)"
   ]
  },
  {
   "cell_type": "code",
   "execution_count": 59,
   "id": "53bb3f67-e635-418a-8119-f2f1554e16c2",
   "metadata": {},
   "outputs": [
    {
     "data": {
      "text/plain": [
       "27"
      ]
     },
     "execution_count": 59,
     "metadata": {},
     "output_type": "execute_result"
    }
   ],
   "source": [
    "pow(3, 3)"
   ]
  },
  {
   "cell_type": "markdown",
   "id": "ece89156-84b6-40ef-ad3c-71b1b7ea79a9",
   "metadata": {},
   "source": [
    "# range\n",
    "range([start,] stop [,step])는 입력받은 숫자에 해당하는 범위 값을 반복 가능한 객체로 만들어 리턴"
   ]
  },
  {
   "cell_type": "code",
   "execution_count": 60,
   "id": "b7915d41-71a3-4117-9bf8-0004e131261a",
   "metadata": {},
   "outputs": [
    {
     "data": {
      "text/plain": [
       "[0, 1, 2, 3, 4]"
      ]
     },
     "execution_count": 60,
     "metadata": {},
     "output_type": "execute_result"
    }
   ],
   "source": [
    "# 인수가 하나일 경우 0부터 시작\n",
    "list(range(5))"
   ]
  },
  {
   "cell_type": "code",
   "execution_count": 61,
   "id": "f07f027f-9ddb-4977-b38b-be13b4193428",
   "metadata": {},
   "outputs": [
    {
     "data": {
      "text/plain": [
       "[5, 6, 7, 8, 9]"
      ]
     },
     "execution_count": 61,
     "metadata": {},
     "output_type": "execute_result"
    }
   ],
   "source": [
    "# 인수가 2개일 경우 : 끝 숫자는 해당 범위에 포함되지 않는다는 것에 주의\n",
    "list(range(5, 10))"
   ]
  },
  {
   "cell_type": "code",
   "execution_count": 62,
   "id": "a77d1d49-bb66-419a-9114-12eb59d87036",
   "metadata": {},
   "outputs": [
    {
     "data": {
      "text/plain": [
       "[1, 3, 5, 7, 9]"
      ]
     },
     "execution_count": 62,
     "metadata": {},
     "output_type": "execute_result"
    }
   ],
   "source": [
    "# 인수가 3개일 경우 : 세 번째 인수는 숫자 사이의 거리\n",
    "list(range(1, 10, 2))"
   ]
  },
  {
   "cell_type": "code",
   "execution_count": 63,
   "id": "bfa0a49b-b3e3-44ad-b79a-eaefaee91069",
   "metadata": {},
   "outputs": [
    {
     "data": {
      "text/plain": [
       "[0, -1, -2, -3, -4, -5, -6, -7, -8, -9]"
      ]
     },
     "execution_count": 63,
     "metadata": {},
     "output_type": "execute_result"
    }
   ],
   "source": [
    "list(range(0, -10, -1))"
   ]
  },
  {
   "cell_type": "markdown",
   "id": "67059ad6-3e61-43eb-bc9e-4c1d4c0f51ed",
   "metadata": {},
   "source": [
    "# round\n",
    "숫자를 입력받아 반올림해 리턴"
   ]
  },
  {
   "cell_type": "code",
   "execution_count": 64,
   "id": "43e7e7ef-57da-4b75-bd5a-58c4f32654e1",
   "metadata": {},
   "outputs": [
    {
     "data": {
      "text/plain": [
       "5"
      ]
     },
     "execution_count": 64,
     "metadata": {},
     "output_type": "execute_result"
    }
   ],
   "source": [
    "round(4.6)"
   ]
  },
  {
   "cell_type": "code",
   "execution_count": 65,
   "id": "73c72ef0-cbe4-44e2-8661-1ebe29f9a51a",
   "metadata": {},
   "outputs": [
    {
     "data": {
      "text/plain": [
       "4"
      ]
     },
     "execution_count": 65,
     "metadata": {},
     "output_type": "execute_result"
    }
   ],
   "source": [
    "round(4.2)"
   ]
  },
  {
   "cell_type": "code",
   "execution_count": 66,
   "id": "b0b428c4-ca38-4c36-ab42-cd2f33f6470f",
   "metadata": {},
   "outputs": [
    {
     "data": {
      "text/plain": [
       "5.68"
      ]
     },
     "execution_count": 66,
     "metadata": {},
     "output_type": "execute_result"
    }
   ],
   "source": [
    "# 소수점 2자리까지만 반올림하여 표시\n",
    "round(5.678, 2)"
   ]
  },
  {
   "cell_type": "markdown",
   "id": "dd37a1d4-ff00-4609-a0cd-3c9f276f26f3",
   "metadata": {},
   "source": [
    "# sorted\n",
    "입력 데이터를 정렬한 후 그 결과를 리스트로 리턴"
   ]
  },
  {
   "cell_type": "code",
   "execution_count": 67,
   "id": "ee6bca81-8ba6-401e-b461-7fe16d3fbdeb",
   "metadata": {},
   "outputs": [
    {
     "data": {
      "text/plain": [
       "[1, 2, 3]"
      ]
     },
     "execution_count": 67,
     "metadata": {},
     "output_type": "execute_result"
    }
   ],
   "source": [
    "sorted([3, 1, 2])"
   ]
  },
  {
   "cell_type": "code",
   "execution_count": 68,
   "id": "c3c3991f-2852-4e9a-8d24-50699d312f6c",
   "metadata": {},
   "outputs": [
    {
     "data": {
      "text/plain": [
       "['a', 'b', 'c']"
      ]
     },
     "execution_count": 68,
     "metadata": {},
     "output_type": "execute_result"
    }
   ],
   "source": [
    "sorted(['a', 'c', 'b'])"
   ]
  },
  {
   "cell_type": "code",
   "execution_count": 69,
   "id": "2672b7cd-1d82-42e6-a76d-677ef6ff3bc4",
   "metadata": {},
   "outputs": [
    {
     "data": {
      "text/plain": [
       "['e', 'o', 'r', 'z']"
      ]
     },
     "execution_count": 69,
     "metadata": {},
     "output_type": "execute_result"
    }
   ],
   "source": [
    "sorted(\"zero\")"
   ]
  },
  {
   "cell_type": "code",
   "execution_count": 70,
   "id": "398f60be-7e5b-4568-9f3e-b63ce6c243c2",
   "metadata": {},
   "outputs": [
    {
     "data": {
      "text/plain": [
       "[1, 2, 3]"
      ]
     },
     "execution_count": 70,
     "metadata": {},
     "output_type": "execute_result"
    }
   ],
   "source": [
    "sorted((3, 2, 1))"
   ]
  },
  {
   "cell_type": "markdown",
   "id": "99101d86-b6b1-49b5-878b-65bb15330257",
   "metadata": {},
   "source": [
    "# str\n",
    "문자열 형태로 객체를 변환하여 리턴"
   ]
  },
  {
   "cell_type": "code",
   "execution_count": 71,
   "id": "fe72e11e-e398-4825-b9dd-21e30f78599a",
   "metadata": {},
   "outputs": [
    {
     "data": {
      "text/plain": [
       "'3'"
      ]
     },
     "execution_count": 71,
     "metadata": {},
     "output_type": "execute_result"
    }
   ],
   "source": [
    "str(3)"
   ]
  },
  {
   "cell_type": "code",
   "execution_count": 72,
   "id": "d9f74cb7-ea66-4370-845c-686b33670e6b",
   "metadata": {},
   "outputs": [
    {
     "data": {
      "text/plain": [
       "'hi'"
      ]
     },
     "execution_count": 72,
     "metadata": {},
     "output_type": "execute_result"
    }
   ],
   "source": [
    "str('hi')"
   ]
  },
  {
   "cell_type": "markdown",
   "id": "8b53677d-8ed0-4356-87fb-ecea51a961f5",
   "metadata": {},
   "source": [
    "# sum\n",
    "입력 데이터의 합을 리턴"
   ]
  },
  {
   "cell_type": "code",
   "execution_count": 73,
   "id": "fc568bcf-7789-4b40-be99-c195d169446b",
   "metadata": {},
   "outputs": [
    {
     "data": {
      "text/plain": [
       "6"
      ]
     },
     "execution_count": 73,
     "metadata": {},
     "output_type": "execute_result"
    }
   ],
   "source": [
    "sum([1,2,3])"
   ]
  },
  {
   "cell_type": "code",
   "execution_count": 74,
   "id": "00deb858-1764-4606-9e9c-4cebb05af921",
   "metadata": {},
   "outputs": [
    {
     "data": {
      "text/plain": [
       "15"
      ]
     },
     "execution_count": 74,
     "metadata": {},
     "output_type": "execute_result"
    }
   ],
   "source": [
    "sum((4,5,6))"
   ]
  },
  {
   "cell_type": "markdown",
   "id": "e86f3247-d363-4163-963d-1f568da633cd",
   "metadata": {},
   "source": [
    "# tuple\n",
    "반복 가능한 데이터를 튜플로 바꾸어 리턴"
   ]
  },
  {
   "cell_type": "code",
   "execution_count": 75,
   "id": "12abeaa8-d4bb-4f2c-8177-96164dbb2a47",
   "metadata": {},
   "outputs": [
    {
     "data": {
      "text/plain": [
       "('a', 'b', 'c')"
      ]
     },
     "execution_count": 75,
     "metadata": {},
     "output_type": "execute_result"
    }
   ],
   "source": [
    "tuple(\"abc\")"
   ]
  },
  {
   "cell_type": "code",
   "execution_count": 76,
   "id": "179cf4ef-6fd3-434c-b86a-a0a3327e5be2",
   "metadata": {},
   "outputs": [
    {
     "data": {
      "text/plain": [
       "(1, 2, 3)"
      ]
     },
     "execution_count": 76,
     "metadata": {},
     "output_type": "execute_result"
    }
   ],
   "source": [
    "tuple([1, 2, 3])"
   ]
  },
  {
   "cell_type": "code",
   "execution_count": 77,
   "id": "2b75f150-3b1a-4d0d-bae8-ba4b2617fd1b",
   "metadata": {},
   "outputs": [
    {
     "data": {
      "text/plain": [
       "(1, 2, 3)"
      ]
     },
     "execution_count": 77,
     "metadata": {},
     "output_type": "execute_result"
    }
   ],
   "source": [
    "tuple((1, 2, 3))"
   ]
  },
  {
   "cell_type": "markdown",
   "id": "a72d85ca-e8d8-4975-bdec-be22d48cf83d",
   "metadata": {},
   "source": [
    "# type\n",
    "입력값의 자료형이 무엇인지 알려 주는 함수"
   ]
  },
  {
   "cell_type": "code",
   "execution_count": 78,
   "id": "2d574e68-a91f-4f31-b1b5-4310935d96da",
   "metadata": {},
   "outputs": [
    {
     "data": {
      "text/plain": [
       "str"
      ]
     },
     "execution_count": 78,
     "metadata": {},
     "output_type": "execute_result"
    }
   ],
   "source": [
    "type(\"abc\")"
   ]
  },
  {
   "cell_type": "code",
   "execution_count": 79,
   "id": "19631d89-ead1-4ec9-9cef-90c2ad377209",
   "metadata": {},
   "outputs": [
    {
     "data": {
      "text/plain": [
       "list"
      ]
     },
     "execution_count": 79,
     "metadata": {},
     "output_type": "execute_result"
    }
   ],
   "source": [
    "type([ ])"
   ]
  },
  {
   "cell_type": "code",
   "execution_count": 80,
   "id": "173d53f7-c6e7-4c21-811a-f4e168c504f4",
   "metadata": {},
   "outputs": [
    {
     "data": {
      "text/plain": [
       "_io.TextIOWrapper"
      ]
     },
     "execution_count": 80,
     "metadata": {},
     "output_type": "execute_result"
    }
   ],
   "source": [
    "type(open(\"test\", 'w'))"
   ]
  },
  {
   "cell_type": "markdown",
   "id": "f314982c-db1d-495b-9e01-60b11db9425b",
   "metadata": {},
   "source": [
    "# zip\n",
    "zip(*iterable)은 동일한 개수로 이루어진 데이터들을 묶어서 리턴"
   ]
  },
  {
   "cell_type": "code",
   "execution_count": 81,
   "id": "17fa6f53-575f-44c3-a6d6-b42a39256eb0",
   "metadata": {},
   "outputs": [
    {
     "data": {
      "text/plain": [
       "[(1, 4), (2, 5), (3, 6)]"
      ]
     },
     "execution_count": 81,
     "metadata": {},
     "output_type": "execute_result"
    }
   ],
   "source": [
    "list(zip([1, 2, 3], [4, 5, 6]))"
   ]
  },
  {
   "cell_type": "code",
   "execution_count": 82,
   "id": "d4816a38-9c1d-4394-aec9-23a063f3f8a1",
   "metadata": {},
   "outputs": [
    {
     "data": {
      "text/plain": [
       "[(1, 4, 7), (2, 5, 8), (3, 6, 9)]"
      ]
     },
     "execution_count": 82,
     "metadata": {},
     "output_type": "execute_result"
    }
   ],
   "source": [
    "list(zip([1, 2, 3], [4, 5, 6], [7, 8, 9]))"
   ]
  },
  {
   "cell_type": "code",
   "execution_count": 83,
   "id": "9e98b393-c716-4c2d-b73a-ec6d81fd9868",
   "metadata": {},
   "outputs": [
    {
     "data": {
      "text/plain": [
       "[('a', 'd'), ('b', 'e'), ('c', 'f')]"
      ]
     },
     "execution_count": 83,
     "metadata": {},
     "output_type": "execute_result"
    }
   ],
   "source": [
    "list(zip(\"abc\", \"def\"))"
   ]
  }
 ],
 "metadata": {
  "kernelspec": {
   "display_name": "Python 3 (ipykernel)",
   "language": "python",
   "name": "python3"
  },
  "language_info": {
   "codemirror_mode": {
    "name": "ipython",
    "version": 3
   },
   "file_extension": ".py",
   "mimetype": "text/x-python",
   "name": "python",
   "nbconvert_exporter": "python",
   "pygments_lexer": "ipython3",
   "version": "3.12.4"
  }
 },
 "nbformat": 4,
 "nbformat_minor": 5
}
