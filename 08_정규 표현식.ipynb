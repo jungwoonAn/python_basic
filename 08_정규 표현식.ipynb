{
 "cells": [
  {
   "cell_type": "markdown",
   "id": "8268765f-da01-46d5-aef0-71e4bcfd37bc",
   "metadata": {},
   "source": [
    "# 정규 표현식은 왜 필요한가?\n",
    "문제) 주민등록번호를 포함하고 있는 텍스트가 있다. 이 텍스트에 포함된 모든 주민등록번호의 뒷자리를 * 문자로 변경해 보자.\n",
    "\n",
    "먼저 정규식을 전혀 모르면 다음과 같은 순서로 프로그램을 작성해야 할 것이다.\n",
    "\n",
    "1. 전체 텍스트를 공백 문자로 나눈다(split).\n",
    "2. 나뉜 단어가 주민등록번호 형식인지 조사한다.\n",
    "3. 단어가 주민등록번호 형식이라면 뒷자리를 *로 변환한다.\n",
    "4. 나뉜 단어를 다시 조립한다.    조립한다."
   ]
  },
  {
   "cell_type": "code",
   "execution_count": 1,
   "id": "04adecc0-e52e-4a3b-b3b6-3413a369cb57",
   "metadata": {},
   "outputs": [
    {
     "name": "stdout",
     "output_type": "stream",
     "text": [
      "\n",
      "park 800905-*******\n",
      "kim  700905-*******\n",
      "\n"
     ]
    }
   ],
   "source": [
    "data = '''\n",
    "park 800905-1049118\n",
    "kim  700905-1059119\n",
    "'''\n",
    "\n",
    "result = []\n",
    "for line in data.split('\\n'):\n",
    "    word_result = []\n",
    "    for word in line.split(' '):\n",
    "        if len(word) == 14 and word[:6].isdigit() and word[7:].isdigit():\n",
    "            word = word[:6] + \"-\" + \"*******\"\n",
    "        word_result.append(word)\n",
    "    result.append(\" \".join(word_result))\n",
    "\n",
    "print('\\n'.join(result))"
   ]
  },
  {
   "cell_type": "code",
   "execution_count": 2,
   "id": "1076d286-2132-40e2-ad60-cad9c1399fdc",
   "metadata": {},
   "outputs": [
    {
     "name": "stdout",
     "output_type": "stream",
     "text": [
      "\n",
      "park 800905-*******\n",
      "kim  700905-*******\n",
      "\n"
     ]
    }
   ],
   "source": [
    "# 정규표현식을 사용하여 훤씬 간편하고 직관적이 코드 작성\n",
    "import re\n",
    "\n",
    "data = '''\n",
    "park 800905-1049118\n",
    "kim  700905-1059119\n",
    "'''\n",
    "\n",
    "pat = re.compile(r\"(\\d{6})[-]\\d{7}\")\n",
    "print(pat.sub(r\"\\g<1>-*******\", data))"
   ]
  },
  {
   "cell_type": "markdown",
   "id": "e29d2823-bcc8-476e-8b64-febabcb83d0a",
   "metadata": {},
   "source": [
    "# 정규 표현식의 기초, 메타 문자\n",
    "메타 문자란 원래 그 문자가 가진 뜻이 아니라 특별한 의미를 가진 문자를 말한다.\n",
    "\n",
    "### [ ] 문자 - 문자 클래스\n",
    "문자 클래스(character class)로 만들어진 정규식은 `[` 와 `]` 사이의 문자들과 매치’라는 의미    \n",
    "`[ ]` 사이에는 어떤 문자도 들어갈 수 있다.    \n",
    "`[]` 안의 두 문자 사이에 하이픈(-)을 사용하면 두 문자 사이의 범위를 의미\n",
    "\n",
    "* `[a-zA-Z]` : 모든 알파벳\n",
    "* `[0-9]` : 모든 숫자\n",
    "* ^ 메타 문자를 사용할 경우에는 반대(not)라는 의미\n",
    "\n",
    "### ** 자주 사용하는 문자 클래스\n",
    "* `\\d` - 숫자와 매치된다. `[0-9]`와 동일한 표현식.\n",
    "* `\\D` - 숫자가 아닌 것과 매치된다. `[^0-9]`와 동일한 표현식.\n",
    "* `\\s` - 화이트스페이스(whitespace) 문자와 매치된다. `[ \\t\\n\\r\\f\\v]`와 동일한 표현식. 맨 앞의 빈칸은 공백 문자(space)를 의미.\n",
    "* `\\s` - 화이트스페이스(whitespace) 문자와 매치된다. `[^ \\t\\n\\r\\f\\v]`와 동일한 표현식. 맨 앞의 빈칸은 공백 문자(space)를 의미.\n",
    "* `\\w` - 문자+숫자(alphanumeric)와 매치된다. `[a-zA-Z0-9_]`와 동일한 표현식.\n",
    "* `\\W` - 문자+숫자(alphanumeric)가 아닌 문자와 매치된다. `[^a-zA-Z0-9_]`와 동일한 표현식.    \n",
    "**대문자로 사용된 것은 소문자의 반대임을 추측할 수 있다."
   ]
  },
  {
   "cell_type": "markdown",
   "id": "d4d1559e-d84f-4843-b11d-cf814e691bfc",
   "metadata": {},
   "source": [
    "### .(dot) 문자 - \\n을 제외한 모든 문자\n",
    "`a.b   `\n",
    "a와 b라는 문자 사이에 어떤 문자가 들어가도 모두 매치된다는 의미\n",
    "\n",
    "** 정규식을 작성할 때 re.DOTALL 옵션을 주면 `.`(dot) 문자와 `\\n`"
   ]
  },
  {
   "cell_type": "markdown",
   "id": "9e2b9ec2-bb00-47ab-8648-1f99dc875316",
   "metadata": {},
   "source": [
    "### * 문자\n",
    "`ca*t`\n",
    "`*`은 반복을 의미하는 메타 문자   \n",
    "`*`바로 앞에 있는 문자 a가 0부터 무한대까지 반복될 수 있다는 의미"
   ]
  },
  {
   "cell_type": "markdown",
   "id": "84edac3b-00db-4354-b51b-a1ab0f16f93b",
   "metadata": {},
   "source": [
    "### + 문자\n",
    "`+`는 최소 1번 이상 반복될 때 사용   \n",
    "`*`가 반복 횟수가 0부터라면 `+`는 반복 횟수가 1부터인 것이다."
   ]
  },
  {
   "cell_type": "markdown",
   "id": "588d94a6-7844-4fb2-a289-464e61c27c2c",
   "metadata": {},
   "source": [
    "### {} 문자와 ? 문자\n",
    "`{}` 메타 문자를 사용하면 반복 횟수를 고정할 수 있다.   \n",
    "`{m, n}` 정규식을 사용하면 반복 횟수가 m부터 n까지인 문자와 매치할 수 있다.   \n",
    "\n",
    "m 또는 n을 생략할 수도 있다.   \n",
    "만약 `{3,}`처럼 사용하면 반복 횟수가 3 이상인 경우이고   \n",
    "`{, 3}`처럼 사용하면 반복 횟수가 3 이하인 경우를 의미한다.    \n",
    "생략된 m은 0과 동일하며, 생략된 n은 무한대(약 2억 개 미만)의 의미\n",
    "\n",
    "#### 1. {m}\n",
    "`ca{2}t`  \n",
    "\"a\"가 2번 반복\n",
    "\n",
    "#### 2. {m, n}\n",
    "`ca{2,5}t`   \n",
    "\"a\"를 2~5회 반복\n",
    "\n",
    "#### 3. ?\n",
    "`?` 메타 문자가 의미하는 것은 {0, 1}이다.\n",
    "\n",
    "`ab?c`\n",
    "b가 1번 있어도 되고 없어도 됨"
   ]
  },
  {
   "cell_type": "markdown",
   "id": "67747b58-8e1a-4ee5-9084-bdd4112d1bfc",
   "metadata": {},
   "source": [
    "# 파이썬에서 정규 표현식을 지원하는 re 모듈\n",
    "파이썬은 정규 표현식을 지원하기 위해 re(regular expression) 모듈을 제공   \n",
    "re 모듈은 파이썬을 설치할 때 자동으로 설치되는 표준 라이브러리"
   ]
  },
  {
   "cell_type": "code",
   "execution_count": 3,
   "id": "22223ddb-b8de-404b-a459-d4921b850390",
   "metadata": {},
   "outputs": [],
   "source": [
    "import re\n",
    "p = re.compile('ab*')"
   ]
  },
  {
   "cell_type": "markdown",
   "id": "46485135-11ba-4f34-9cf0-fd7b908a7db4",
   "metadata": {},
   "source": [
    "re.compile을 사용하여 정규 표현식(위 예에서는 `ab*`)을 컴파일한다.   \n",
    "re.compile의 리턴값을 객체 p(컴파일된 패턴 객체)에 할당해 그 이후의 작업을 수행"
   ]
  },
  {
   "cell_type": "markdown",
   "id": "75796e58-6a6f-4bdf-a41a-b8e48aff6ed3",
   "metadata": {},
   "source": [
    "# 정규식을 이용한 문자열 검색\n",
    "* match() : 문자열의 처음부터 정규식과 매치되는지 조사\n",
    "* search() : 문자열 전체를 검색하여 정규식과 매치되는지 조사\n",
    "* findall() : 정규식과 매치되는 모든 문자열(substring)을 리스트로 리턴\n",
    "* finditer() : 정규식과 매치되는 모든 문자열(substring)을 반복 가능한 객체로 리턴\n",
    "\n",
    "** match, search는 정규식과 매치될 때는 match 객체를 리턴하고 매치되지 않을 때는 None을 리턴"
   ]
  },
  {
   "cell_type": "code",
   "execution_count": 4,
   "id": "0096e9b9-0ed9-4d86-86df-c47f8e011c94",
   "metadata": {},
   "outputs": [],
   "source": [
    "import re\n",
    "p = re.compile('[a-z]+')"
   ]
  },
  {
   "cell_type": "markdown",
   "id": "6563dfb2-cb67-4c3f-bc31-85f5a1b8595a",
   "metadata": {},
   "source": [
    "### match()"
   ]
  },
  {
   "cell_type": "code",
   "execution_count": 5,
   "id": "98bcf1af-62a0-4026-979f-ea7c3a72827d",
   "metadata": {},
   "outputs": [
    {
     "name": "stdout",
     "output_type": "stream",
     "text": [
      "<re.Match object; span=(0, 6), match='python'>\n"
     ]
    }
   ],
   "source": [
    "m = p.match(\"python\")\n",
    "print(m)  # \"python\" 문자열은 [a-z]+ 정규식에 부합되므로 match 객체가 리턴"
   ]
  },
  {
   "cell_type": "code",
   "execution_count": 6,
   "id": "a990cc89-fc7f-4be7-8134-a90603e228ac",
   "metadata": {},
   "outputs": [
    {
     "name": "stdout",
     "output_type": "stream",
     "text": [
      "None\n"
     ]
    }
   ],
   "source": [
    "m = p.match(\"3 python\")\n",
    "print(m)  # 처음에 나오는 문자 3이 정규식 [a-z]+에 부합되지 않으므로 None이 리턴"
   ]
  },
  {
   "cell_type": "markdown",
   "id": "332cf115-6a25-493c-a831-25b5083980d2",
   "metadata": {},
   "source": [
    "### search()"
   ]
  },
  {
   "cell_type": "code",
   "execution_count": 7,
   "id": "c099a954-ef9c-4587-82eb-e544ee28a85a",
   "metadata": {},
   "outputs": [
    {
     "name": "stdout",
     "output_type": "stream",
     "text": [
      "<re.Match object; span=(0, 6), match='python'>\n"
     ]
    }
   ],
   "source": [
    "m = p.search(\"python\")\n",
    "print(m)  # \"python\" 문자열에 search 메서드를 수행하면 match 메서드를 수행했을 때와 동일하게 매치"
   ]
  },
  {
   "cell_type": "code",
   "execution_count": 8,
   "id": "e61573ff-9ba6-476b-a997-aec2e09471d4",
   "metadata": {},
   "outputs": [
    {
     "name": "stdout",
     "output_type": "stream",
     "text": [
      "<re.Match object; span=(2, 8), match='python'>\n"
     ]
    }
   ],
   "source": [
    "m = p.search(\"3 python\")\n",
    "print(m)   # search는 문자열 전체를 검색하기 때문에 \"3\" 이후의 \"python\" 문자열과 매치"
   ]
  },
  {
   "cell_type": "markdown",
   "id": "1b80a1cf-8337-475f-9109-b0c2ea7b260a",
   "metadata": {},
   "source": [
    "### findall()"
   ]
  },
  {
   "cell_type": "code",
   "execution_count": 9,
   "id": "84e9efad-5445-412b-845c-59b2c1a39216",
   "metadata": {},
   "outputs": [
    {
     "name": "stdout",
     "output_type": "stream",
     "text": [
      "['life', 'is', 'too', 'short']\n"
     ]
    }
   ],
   "source": [
    "result = p.findall(\"life is too short\")\n",
    "print(result)   # findall은 패턴([a-z]+)과 매치되는 모든 값을 찾아 리스트로 리턴"
   ]
  },
  {
   "cell_type": "markdown",
   "id": "f33f2fd0-4bf3-4d57-bf08-7be32860f67c",
   "metadata": {},
   "source": [
    "### finditer()"
   ]
  },
  {
   "cell_type": "code",
   "execution_count": 10,
   "id": "a4caf406-9295-4796-8607-20736bcc087b",
   "metadata": {},
   "outputs": [
    {
     "name": "stdout",
     "output_type": "stream",
     "text": [
      "<callable_iterator object at 0x00000161D9BDE860>\n"
     ]
    }
   ],
   "source": [
    "result = p.finditer(\"life is too short\")\n",
    "print(result)"
   ]
  },
  {
   "cell_type": "code",
   "execution_count": 11,
   "id": "055a6b26-842c-4e0a-bd5d-5086122c59bd",
   "metadata": {},
   "outputs": [
    {
     "name": "stdout",
     "output_type": "stream",
     "text": [
      "<re.Match object; span=(0, 4), match='life'>\n",
      "<re.Match object; span=(5, 7), match='is'>\n",
      "<re.Match object; span=(8, 11), match='too'>\n",
      "<re.Match object; span=(12, 17), match='short'>\n"
     ]
    }
   ],
   "source": [
    "for r in result: print(r)   # finditer는 findall과 동일하지만, 그 결과로 반복 가능한 객체(iterator object)를 리턴"
   ]
  },
  {
   "cell_type": "markdown",
   "id": "7eabd2d8-f07f-44e3-a51c-4a1b5cf7df8c",
   "metadata": {},
   "source": [
    "# match 객체의 메서드\n",
    "match 객체란 p.match, p.search 또는 p.finditer 메서드에 의해 리턴된 매치 객체(Match Object)를 의미\n",
    "\n",
    "* group : 매치된 문자열을 리턴\n",
    "* start : 매치된 문자열의 시작 위치를 리턴\n",
    "* end : 매치된 문자열의 끝 위치를 리턴\n",
    "* span매치된 문자열의 (시작, 끝)에 해당하는 튜플을 리턴"
   ]
  },
  {
   "cell_type": "code",
   "execution_count": 12,
   "id": "5c4e1f96-ccf2-46b8-80a9-bf7d1f95a428",
   "metadata": {},
   "outputs": [
    {
     "data": {
      "text/plain": [
       "'python'"
      ]
     },
     "execution_count": 12,
     "metadata": {},
     "output_type": "execute_result"
    }
   ],
   "source": [
    "m = p.match(\"python\")\n",
    "m.group()"
   ]
  },
  {
   "cell_type": "code",
   "execution_count": 13,
   "id": "992d01e6-d134-4397-9f3f-0bb1f0665f4a",
   "metadata": {},
   "outputs": [
    {
     "data": {
      "text/plain": [
       "0"
      ]
     },
     "execution_count": 13,
     "metadata": {},
     "output_type": "execute_result"
    }
   ],
   "source": [
    "m.start()"
   ]
  },
  {
   "cell_type": "code",
   "execution_count": 14,
   "id": "ecc0cb33-d8ff-43bc-9c4d-2d9a6c7a569c",
   "metadata": {},
   "outputs": [
    {
     "data": {
      "text/plain": [
       "6"
      ]
     },
     "execution_count": 14,
     "metadata": {},
     "output_type": "execute_result"
    }
   ],
   "source": [
    "m.end()"
   ]
  },
  {
   "cell_type": "code",
   "execution_count": 15,
   "id": "940bc900-7cd4-4fb1-8d8f-a2bd07305b20",
   "metadata": {},
   "outputs": [
    {
     "data": {
      "text/plain": [
       "(0, 6)"
      ]
     },
     "execution_count": 15,
     "metadata": {},
     "output_type": "execute_result"
    }
   ],
   "source": [
    "m.span()"
   ]
  },
  {
   "cell_type": "code",
   "execution_count": 16,
   "id": "53a81899-40f0-4013-a0b3-7111fa0a46b3",
   "metadata": {},
   "outputs": [
    {
     "data": {
      "text/plain": [
       "'python'"
      ]
     },
     "execution_count": 16,
     "metadata": {},
     "output_type": "execute_result"
    }
   ],
   "source": [
    "# search 메서드를 사용하면\n",
    "m = p.search(\"3 python\")\n",
    "m.group()"
   ]
  },
  {
   "cell_type": "code",
   "execution_count": 17,
   "id": "fa868cdc-3979-43b5-8cd9-8a0653c0095c",
   "metadata": {},
   "outputs": [
    {
     "data": {
      "text/plain": [
       "2"
      ]
     },
     "execution_count": 17,
     "metadata": {},
     "output_type": "execute_result"
    }
   ],
   "source": [
    "m.start()"
   ]
  },
  {
   "cell_type": "code",
   "execution_count": 18,
   "id": "c8c77718-e1a0-4a88-967c-e6517b11f410",
   "metadata": {},
   "outputs": [
    {
     "data": {
      "text/plain": [
       "8"
      ]
     },
     "execution_count": 18,
     "metadata": {},
     "output_type": "execute_result"
    }
   ],
   "source": [
    "m.end()"
   ]
  },
  {
   "cell_type": "code",
   "execution_count": 19,
   "id": "e6c90ffe-fac7-4f4c-a205-5d743d2b6460",
   "metadata": {},
   "outputs": [
    {
     "data": {
      "text/plain": [
       "(2, 8)"
      ]
     },
     "execution_count": 19,
     "metadata": {},
     "output_type": "execute_result"
    }
   ],
   "source": [
    "m.span()"
   ]
  },
  {
   "cell_type": "markdown",
   "id": "c2883d22-151c-4555-8201-0190fdca4ff7",
   "metadata": {},
   "source": [
    "### ** 모듈 단위로 수행하기\n",
    "보통 한 번 만든 패턴 객체를 여러 번 사용해야 할 때는 축약 방법보다 re.compile을 사용하는 것이 편리"
   ]
  },
  {
   "cell_type": "code",
   "execution_count": 20,
   "id": "b3756dbf-9897-447c-a904-7eb7d9112885",
   "metadata": {},
   "outputs": [
    {
     "data": {
      "text/plain": [
       "<re.Match object; span=(0, 6), match='python'>"
      ]
     },
     "execution_count": 20,
     "metadata": {},
     "output_type": "execute_result"
    }
   ],
   "source": [
    "import re\n",
    "p = re.compile('[a-z]+')\n",
    "m = p.match(\"python\")\n",
    "m"
   ]
  },
  {
   "cell_type": "code",
   "execution_count": 21,
   "id": "578ef88f-b053-4123-936a-9820f5468785",
   "metadata": {},
   "outputs": [
    {
     "data": {
      "text/plain": [
       "<re.Match object; span=(0, 6), match='python'>"
      ]
     },
     "execution_count": 21,
     "metadata": {},
     "output_type": "execute_result"
    }
   ],
   "source": [
    "# 위 코드를 축약하면 \n",
    "import re\n",
    "m = re.match('[a-z]+', \"python\")\n",
    "m"
   ]
  },
  {
   "cell_type": "markdown",
   "id": "1c5fe8db-7af7-4a1c-80e0-baf0686ca7ce",
   "metadata": {},
   "source": [
    "# 컴파일 옵션\n",
    "* DOTALL(S) : .(dot)이 줄바꿈 문자를 포함해 모든 문자와 매치될 수 있게 한다.\r",
    "* \n",
    "IGNORECASE(I):- 대소문자에 관계없이 매치될 수 있게 한다\n",
    "* MULTILINE(M) - 여러 줄과 매치될 수 있게 한다. ^, $ 메타 문자 사용과 관계 있는 옵션이다.\n",
    "* VERBOSE(X) - verbose 모드를 사용할 수 있게 한다. 정규식을 보기 편하게 만들 수 있고 주석 등을 사용할 수 있게 된다.된다."
   ]
  },
  {
   "cell_type": "markdown",
   "id": "9bf21613-a59f-4e03-b307-4bf4c61be647",
   "metadata": {},
   "source": [
    "### DOTALL, S\n",
    "`.` 메타 문자는 줄바꿈 문자(`\\n`)를 제외한 모든 문자와 매치되는 규칙이 있다.   \n",
    "만약 `\\n` 문자도 포함하여 매치하고 싶다면 re.DOTALL 또는 re.S 옵션을 사용해 정규식을 컴파일하면 된다."
   ]
  },
  {
   "cell_type": "code",
   "execution_count": 22,
   "id": "0bbd542b-37b6-4d1f-a9c0-4bbfa867fee7",
   "metadata": {},
   "outputs": [
    {
     "name": "stdout",
     "output_type": "stream",
     "text": [
      "None\n"
     ]
    }
   ],
   "source": [
    "import re\n",
    "p = re.compile('a.b')\n",
    "m = p.match('a\\nb')\n",
    "print(m)"
   ]
  },
  {
   "cell_type": "code",
   "execution_count": 23,
   "id": "eae7cbf1-0ce8-467d-a976-ecbdc1c7250b",
   "metadata": {},
   "outputs": [
    {
     "name": "stdout",
     "output_type": "stream",
     "text": [
      "<re.Match object; span=(0, 3), match='a\\nb'>\n"
     ]
    }
   ],
   "source": [
    "p = re.compile('a.b', re.DOTALL)\n",
    "m = p.match('a\\nb')\n",
    "print(m)"
   ]
  },
  {
   "cell_type": "markdown",
   "id": "008beccc-622a-4afe-8e44-243ee0e46668",
   "metadata": {},
   "source": [
    "### IGNORECASE, I\n",
    "대소문자 구별 없이 매치를 수행"
   ]
  },
  {
   "cell_type": "code",
   "execution_count": 24,
   "id": "662113a5-321c-42a4-b06b-ad75031e7e4a",
   "metadata": {},
   "outputs": [
    {
     "data": {
      "text/plain": [
       "<re.Match object; span=(0, 6), match='python'>"
      ]
     },
     "execution_count": 24,
     "metadata": {},
     "output_type": "execute_result"
    }
   ],
   "source": [
    "p = re.compile('[a-z]+', re.I)\n",
    "p.match('python')"
   ]
  },
  {
   "cell_type": "code",
   "execution_count": 25,
   "id": "0343b5d1-4e20-4385-bd6c-bde5546b81fe",
   "metadata": {},
   "outputs": [
    {
     "data": {
      "text/plain": [
       "<re.Match object; span=(0, 6), match='Python'>"
      ]
     },
     "execution_count": 25,
     "metadata": {},
     "output_type": "execute_result"
    }
   ],
   "source": [
    "p.match('Python')"
   ]
  },
  {
   "cell_type": "code",
   "execution_count": 26,
   "id": "3a6df75d-24b7-47d6-b620-0fa92d82b0c3",
   "metadata": {},
   "outputs": [
    {
     "data": {
      "text/plain": [
       "<re.Match object; span=(0, 6), match='PYTHON'>"
      ]
     },
     "execution_count": 26,
     "metadata": {},
     "output_type": "execute_result"
    }
   ],
   "source": [
    "p.match('PYTHON')"
   ]
  },
  {
   "cell_type": "markdown",
   "id": "a8b45068-1753-4284-a49a-ef1cc031d5ca",
   "metadata": {},
   "source": [
    "### MULTILINE, M\n",
    "^는 문자열의 처음, $는 문자열의 마지막   \n",
    "`^python`인 경우, 문자열의 처음은 항상 python으로 시작해야 매치   \n",
    "`python$`이라면 문자열의 마지막은 항상 python으로 끝나야 매치"
   ]
  },
  {
   "cell_type": "code",
   "execution_count": 27,
   "id": "4c94eb52-943c-4d78-8ec1-5a85047738ca",
   "metadata": {},
   "outputs": [
    {
     "name": "stdout",
     "output_type": "stream",
     "text": [
      "['python one']\n"
     ]
    }
   ],
   "source": [
    "import re\n",
    "p = re.compile(r\"^python\\s\\w+\")  \n",
    "#python이라는 문자열로 시작하고 그 뒤에 화이트스페이스, 그 뒤에 단어가 와야 한다는 의미\n",
    "\n",
    "data = \"\"\"python one\n",
    "life is too short\n",
    "python two\n",
    "you need python\n",
    "python three\"\"\"\n",
    "\n",
    "print(p.findall(data))"
   ]
  },
  {
   "cell_type": "code",
   "execution_count": 28,
   "id": "97e17bb3-89b8-44f8-add5-749332579d45",
   "metadata": {},
   "outputs": [
    {
     "name": "stdout",
     "output_type": "stream",
     "text": [
      "['python one', 'python two', 'python three']\n"
     ]
    }
   ],
   "source": [
    "# ^ 메타 문자를 문자열 전체의 처음이 아니라 각 라인의 처음으로 인식시키고 싶은 경우\n",
    "import re\n",
    "p = re.compile(r\"^python\\s\\w+\", re.MULTILINE)\n",
    "\n",
    "data = \"\"\"python one\n",
    "life is too short\n",
    "python two\n",
    "you need python\n",
    "python three\"\"\"\n",
    "\n",
    "print(p.findall(data))"
   ]
  },
  {
   "cell_type": "markdown",
   "id": "517fb2f8-6fb8-4a12-82d4-4ad33ee8dd4c",
   "metadata": {},
   "source": [
    "### VERBOSE, X\n",
    "정규식 전문가들이 만든 정규식을 보면 거의 암호 수준이다.   \n",
    "어려운 정규식을 주석 또는 줄 단위로 구분할 수 있다면 얼마나 보기 좋고 이해하기 쉬울까?   \n",
    "이 경우에는 re.VERBOSE 또는 re.X 옵션을 사용하면 된다."
   ]
  },
  {
   "cell_type": "code",
   "execution_count": 29,
   "id": "70cdbc65-0484-47b2-b031-2d00cbeff3b4",
   "metadata": {},
   "outputs": [],
   "source": [
    "charref = re.compile(r'&[#](0[0-7]+|[0-9]+|x[0-9a-fA-F]+);')"
   ]
  },
  {
   "cell_type": "code",
   "execution_count": 30,
   "id": "93ef06ac-0364-4673-9313-729fc0757557",
   "metadata": {},
   "outputs": [],
   "source": [
    "# 정규식이 복잡할 경우, 두 번째처럼 주석을 적고 여러 줄로 표현하는 것이 훨씬 가독성이 좋다\n",
    "charref = re.compile(r\"\"\"\n",
    " &[#]                # Start of a numeric entity reference\n",
    " (\n",
    "     0[0-7]+         # Octal form\n",
    "   | [0-9]+          # Decimal form\n",
    "   | x[0-9a-fA-F]+   # Hexadecimal form\n",
    " )\n",
    " ;                   # Trailing semicolon\n",
    "\"\"\", re.VERBOSE)"
   ]
  },
  {
   "cell_type": "markdown",
   "id": "b0760ff7-50cd-435c-9453-273389c7dc55",
   "metadata": {},
   "source": [
    "# 역슬래시 문제\n",
    "`\\section` 문자열을 찾기 위한 정규식을 만든다고 가정해 보자.   \n",
    "정규식은 `\\s` 문자가 whitespace로 해석되어 의도한 대로 매치가 이루어지지 않는다.\n",
    "\n",
    "의도한 대로 매치하고 싶다면, `\\\\section` 와 같이 역슬래시 2개를 사용해 이스케이프 처리를 해야 한다."
   ]
  },
  {
   "cell_type": "code",
   "execution_count": 31,
   "id": "d7b444a2-3ab9-4c92-a0f9-815dc4fc7f28",
   "metadata": {},
   "outputs": [],
   "source": [
    "p = re.compile('\\\\section')"
   ]
  },
  {
   "cell_type": "markdown",
   "id": "3df7bcd1-57db-4af8-9dad-d3dd683a96a9",
   "metadata": {},
   "source": [
    "이처럼 정규식을 만들어서 컴파일하면 실제 파이썬 정규식 엔진에는   \n",
    "파이썬 문자열 리터럴 규칙에 따라 `\\\\`이 `\\`로 변경되어 `\\section`이 전달된다.\n",
    "결국 정규식 엔진에 `\\\\` 문자를 전달하려면 파이썬은 `\\\\\\\\`처럼 역슬래시를 4개나 사용해야 한다.\n",
    "\n",
    "만약 이와 같이 `\\`를 사용한 표현이 계속 반복되는 정규식이라면   \n",
    "**raw string** 표현법을 사용해야 한다.    \n",
    "정규식 문자열 앞에 r 문자를 삽입하면 이 정규식은 raw string 규칙에 의해   \n",
    "역슬래시 2개 대신 1개만 써도 2개를 쓴 것과 동일한 의미를 가지게 된다."
   ]
  },
  {
   "cell_type": "code",
   "execution_count": 32,
   "id": "6c94d84e-8399-4577-b85f-7a4c92e2b4ce",
   "metadata": {},
   "outputs": [],
   "source": [
    "p = re.compile(r'\\\\section')"
   ]
  },
  {
   "cell_type": "markdown",
   "id": "40b62c94-e436-4e4d-975e-c956849d5eae",
   "metadata": {},
   "source": [
    "# 문자열 소비가 없는 메타 문자\n",
    "### `|`\n",
    "`|` 메타 문자는 or과 동일한 의미"
   ]
  },
  {
   "cell_type": "code",
   "execution_count": 33,
   "id": "3a27db59-74b6-4288-b92c-0e2379784e38",
   "metadata": {},
   "outputs": [
    {
     "name": "stdout",
     "output_type": "stream",
     "text": [
      "<re.Match object; span=(0, 4), match='Crow'>\n"
     ]
    }
   ],
   "source": [
    "p = re.compile('Crow|Servo')\n",
    "m = p.match('CrowHello')\n",
    "print(m)"
   ]
  },
  {
   "cell_type": "markdown",
   "id": "56577793-4ae8-4305-949f-f8bb04bde3f5",
   "metadata": {},
   "source": [
    "### `^`\n",
    "`^` 메타 문자는 문자열의 맨 처음과 일치한다는 것을 의미"
   ]
  },
  {
   "cell_type": "code",
   "execution_count": 34,
   "id": "9bb8889f-7574-47a2-b84f-5d0a730396c5",
   "metadata": {},
   "outputs": [
    {
     "name": "stdout",
     "output_type": "stream",
     "text": [
      "<re.Match object; span=(0, 4), match='Life'>\n"
     ]
    }
   ],
   "source": [
    "print(re.search('^Life', 'Life is too short'))"
   ]
  },
  {
   "cell_type": "code",
   "execution_count": 35,
   "id": "cc053bef-8042-40ad-b420-74f7f7a488c9",
   "metadata": {},
   "outputs": [
    {
     "name": "stdout",
     "output_type": "stream",
     "text": [
      "None\n"
     ]
    }
   ],
   "source": [
    "print(re.search('^Life', 'My Life'))"
   ]
  },
  {
   "cell_type": "markdown",
   "id": "b6890d4f-0a01-4480-8c52-350a85fd4c29",
   "metadata": {},
   "source": [
    "### `$`\n",
    "`$`는 문자열의 끝과 매치한다는 것을 의미"
   ]
  },
  {
   "cell_type": "code",
   "execution_count": 36,
   "id": "02212e3a-6770-4578-accd-4318fc3c680c",
   "metadata": {},
   "outputs": [
    {
     "name": "stdout",
     "output_type": "stream",
     "text": [
      "<re.Match object; span=(12, 17), match='short'>\n"
     ]
    }
   ],
   "source": [
    "print(re.search('short$', 'Life is too short'))"
   ]
  },
  {
   "cell_type": "code",
   "execution_count": 37,
   "id": "99c48007-47d6-492d-a406-cfd3fda8dc1b",
   "metadata": {},
   "outputs": [
    {
     "name": "stdout",
     "output_type": "stream",
     "text": [
      "None\n"
     ]
    }
   ],
   "source": [
    "print(re.search('short$', 'Life is too short, you need python'))"
   ]
  },
  {
   "cell_type": "markdown",
   "id": "2b61067e-eff2-41da-95a6-638cacbe72aa",
   "metadata": {},
   "source": [
    "### `\\A`\n",
    "`\\A`는 문자열의 처음과 매치된다는 것을 의미    \n",
    "`^` 메타 문자와 동일한 의미이지만, re.MULTILINE 옵션을 사용할 경우   \n",
    "`^`은 각 줄의 문자열의 처음과 매치되지만, `\\A`는 줄과 상관없이 전체 문자열의 처음하고만 매치\n",
    "\n",
    "### `\\Z`\n",
    "`\\Z`는 문자열의 끝과 매치된다는 것을 의미   \n",
    "re.MULTILINE 옵션을 사용할 경우, `\\Z`는 달리 전체 문자열의 끝과 매치"
   ]
  },
  {
   "cell_type": "markdown",
   "id": "33a73753-2ac4-49af-b2c8-6d1f7a3f6886",
   "metadata": {},
   "source": [
    "### `\\b`\n",
    "`\\b`는 단어 구분자(word boundary)이다.   \n",
    "보통 단어는 화이트스페이스에 의해 구분"
   ]
  },
  {
   "cell_type": "code",
   "execution_count": 38,
   "id": "ecccd20e-ed85-4d26-9161-04df62830040",
   "metadata": {},
   "outputs": [
    {
     "name": "stdout",
     "output_type": "stream",
     "text": [
      "<re.Match object; span=(3, 8), match='class'>\n"
     ]
    }
   ],
   "source": [
    "p = re.compile(r'\\bclass\\b')  # 앞뒤가 화이트스페이스로 구분된 class라는 단어와 매치\n",
    "print(p.search('no class at all'))"
   ]
  },
  {
   "cell_type": "code",
   "execution_count": 39,
   "id": "7a0171e1-0946-4cdb-9b05-4c8bc08bfbe0",
   "metadata": {},
   "outputs": [
    {
     "name": "stdout",
     "output_type": "stream",
     "text": [
      "None\n"
     ]
    }
   ],
   "source": [
    "print(p.search('the declassified algorithm'))"
   ]
  },
  {
   "cell_type": "code",
   "execution_count": 40,
   "id": "c6ccec11-cbb6-4c21-9e95-cc1d5338ce35",
   "metadata": {},
   "outputs": [
    {
     "name": "stdout",
     "output_type": "stream",
     "text": [
      "None\n"
     ]
    }
   ],
   "source": [
    "print(p.search('one subclass is'))"
   ]
  },
  {
   "cell_type": "markdown",
   "id": "5353ee82-473d-4eda-9e92-7d6d775c5313",
   "metadata": {},
   "source": [
    "### `\\B`\n",
    "`\\B` 메타 문자는 `\\b` 메타 문자와 반대의 경우   \n",
    "화이트스페이스로 구분된 단어가 아닌 경우에만 매치"
   ]
  },
  {
   "cell_type": "code",
   "execution_count": 41,
   "id": "efbea5a5-2073-4be7-b1f9-92b54c102d02",
   "metadata": {},
   "outputs": [
    {
     "name": "stdout",
     "output_type": "stream",
     "text": [
      "None\n"
     ]
    }
   ],
   "source": [
    "p = re.compile(r'\\Bclass\\B')  # class 단어의 앞뒤에 화이트스페이스가 하나라도 있는 경우에는 매치\n",
    "print(p.search('no class at all'))  "
   ]
  },
  {
   "cell_type": "code",
   "execution_count": 42,
   "id": "5f6533bd-c839-4e00-b125-853863bf04b4",
   "metadata": {},
   "outputs": [
    {
     "name": "stdout",
     "output_type": "stream",
     "text": [
      "<re.Match object; span=(6, 11), match='class'>\n"
     ]
    }
   ],
   "source": [
    "print(p.search('the declassified algorithm'))"
   ]
  },
  {
   "cell_type": "code",
   "execution_count": 43,
   "id": "7ac17f4c-9a21-48f8-b55e-baccfe4ef643",
   "metadata": {},
   "outputs": [
    {
     "name": "stdout",
     "output_type": "stream",
     "text": [
      "None\n"
     ]
    }
   ],
   "source": [
    "print(p.search('one subclass is'))"
   ]
  },
  {
   "cell_type": "markdown",
   "id": "87b329b1-a5de-4fb9-8d55-10c7796a9e2b",
   "metadata": {},
   "source": [
    "# 그루핑\n",
    "ABC 문자열이 계속해서 반복되는지 조사하는 정규식을 작성할 때 필요한 것이 **그루핑(grouping)** 이다.   \n",
    "그룹을 만들어 주는 메타 문자는 바로 `()`이다."
   ]
  },
  {
   "cell_type": "code",
   "execution_count": 44,
   "id": "182c91ec-abb7-4c56-9fbf-fb60df484772",
   "metadata": {},
   "outputs": [
    {
     "name": "stdout",
     "output_type": "stream",
     "text": [
      "<re.Match object; span=(0, 9), match='ABCABCABC'>\n"
     ]
    }
   ],
   "source": [
    "p = re.compile('(ABC)+')\n",
    "m = p.search('ABCABCABC OK?')\n",
    "print(m)"
   ]
  },
  {
   "cell_type": "code",
   "execution_count": 45,
   "id": "dbcab6d7-a371-416b-af1b-abb3f66938cb",
   "metadata": {},
   "outputs": [
    {
     "name": "stdout",
     "output_type": "stream",
     "text": [
      "ABCABCABC\n"
     ]
    }
   ],
   "source": [
    "print(m.group())"
   ]
  },
  {
   "cell_type": "code",
   "execution_count": 46,
   "id": "5c69e304-8614-4639-8096-e20bdc6ba01f",
   "metadata": {},
   "outputs": [
    {
     "name": "stdout",
     "output_type": "stream",
     "text": [
      "<re.Match object; span=(0, 18), match='park 010-1234-1234'>\n"
     ]
    }
   ],
   "source": [
    "# \\w+\\s+\\d+[-]\\d+[-]\\d+은 이름 + \" \" + 전화번호 형태의 문자열을 찾는 정규식\n",
    "p = re.compile(r\"\\w+\\s+\\d+[-]\\d+[-]\\d+\")\n",
    "m = p.search(\"park 010-1234-1234\")\n",
    "print(m)"
   ]
  },
  {
   "cell_type": "code",
   "execution_count": 47,
   "id": "711fe057-e4e1-403e-be67-0a570447052a",
   "metadata": {},
   "outputs": [
    {
     "name": "stdout",
     "output_type": "stream",
     "text": [
      "park\n"
     ]
    }
   ],
   "source": [
    "# \"이름\" 부분만 출력 하려면\n",
    "p = re.compile(r\"(\\w+)\\s+\\d+[-]\\d+[-]\\d+\")\n",
    "m = p.search(\"park 010-1234-1234\")\n",
    "print(m.group(1))  # match 객체의 group(인덱스) 메서드를 사용하여 그루핑된 부분의 문자열만 뽑아 낼 수 있다."
   ]
  },
  {
   "cell_type": "code",
   "execution_count": 48,
   "id": "115047e8-375e-4b0e-97ac-7530ad6e97de",
   "metadata": {},
   "outputs": [
    {
     "name": "stdout",
     "output_type": "stream",
     "text": [
      "010-1234-1234\n"
     ]
    }
   ],
   "source": [
    "# 전화번호만 출력\n",
    "p = re.compile(r\"(\\w+)\\s+(\\d+[-]\\d+[-]\\d+)\")\n",
    "m = p.search(\"park 010-1234-1234\")\n",
    "print(m.group(2))"
   ]
  },
  {
   "cell_type": "code",
   "execution_count": 49,
   "id": "a0b4fc36-ce70-4a06-956b-02bf3e32cec7",
   "metadata": {},
   "outputs": [
    {
     "name": "stdout",
     "output_type": "stream",
     "text": [
      "010\n"
     ]
    }
   ],
   "source": [
    "# 전화번호중에서 국번만 출력\n",
    "p = re.compile(r\"(\\w+)\\s+((\\d+)[-]\\d+[-]\\d+)\")\n",
    "m = p.search(\"park 010-1234-1234\")\n",
    "print(m.group(3))"
   ]
  },
  {
   "cell_type": "markdown",
   "id": "b5993083-7082-4a8f-99c8-1e04b0cb2300",
   "metadata": {},
   "source": [
    "### 그루핑된 문자열 재참조하기\n",
    "재참조 메타 문자인 `\\1`이다.   \n",
    "`\\1`은 정규식의 그룹 중 첫 번째 그룹을 가리킨다.   \n",
    "두 번째 그룹을 참조하려면 `\\2`를 사용하면 된다."
   ]
  },
  {
   "cell_type": "code",
   "execution_count": 50,
   "id": "64dbda55-4dd5-45cc-b0a5-d14c30455f34",
   "metadata": {},
   "outputs": [
    {
     "data": {
      "text/plain": [
       "'the the'"
      ]
     },
     "execution_count": 50,
     "metadata": {},
     "output_type": "execute_result"
    }
   ],
   "source": [
    "p = re.compile(r'(\\b\\w+)\\s+\\1')  # (그룹) + \" \" + 그룹과 동일한 단어와 매치\n",
    "p.search('Paris in the the spring').group()"
   ]
  },
  {
   "cell_type": "markdown",
   "id": "84a4fb4c-54be-47d8-a0a0-fcbdda589920",
   "metadata": {},
   "source": [
    "### 그루핑된 문자열에 이름 붙이기\n",
    "정규식 안에 그룹이 무척 많아진다고 가정해 보자.   \n",
    "예를 들어 정규식 안에 그룹이 10개 이상만 되어도 매우 혼란스러울 것이다.   \n",
    "이러한 이유로 정규식은 그룹을 만들 때 그룹 이름을 지정할 수 있다.\n",
    "\n",
    "이름과 전화번호를 추출하는 정규식 `(?P<name>\\w+)\\s+((\\d+)[-]\\d+[-]\\d+)`   \n",
    "기존과 달라진 부분은 `(\\w+) → (?P<name>\\w+)`   \n",
    "`(\\w+)`라는 그룹에 `name`이라는 이름을 붙인 것에 불과하다.   \n",
    "여기에서 사용한 `(?P<그룹명>...)`표현식은 정규 표현식의 확장 구문이다."
   ]
  },
  {
   "cell_type": "code",
   "execution_count": 51,
   "id": "45fe96fe-09e6-44f5-9766-dc500b7b8530",
   "metadata": {},
   "outputs": [
    {
     "name": "stdout",
     "output_type": "stream",
     "text": [
      "park\n"
     ]
    }
   ],
   "source": [
    "# 그룹에 이름을 지정하고 참조\n",
    "p = re.compile(r\"(?P<name>\\w+)\\s+((\\d+)[-]\\d+[-]\\d+)\")\n",
    "m = p.search(\"park 010-1234-1234\")\n",
    "print(m.group(\"name\"))"
   ]
  },
  {
   "cell_type": "code",
   "execution_count": 52,
   "id": "a5507dc6-9e47-4d4f-bd4b-add463ce1fbf",
   "metadata": {},
   "outputs": [
    {
     "data": {
      "text/plain": [
       "'the the'"
      ]
     },
     "execution_count": 52,
     "metadata": {},
     "output_type": "execute_result"
    }
   ],
   "source": [
    "# 정규식 안에서 재참조\n",
    "p = re.compile(r'(?P<word>\\b\\w+)\\s+(?P=word)')  # 재참조할 때는 (?P=그룹이름)이라는 확장 구문을 사용\n",
    "p.search('Paris in the the spring').group()"
   ]
  },
  {
   "cell_type": "markdown",
   "id": "6b448809-e36f-42d1-b33c-c2395256a8db",
   "metadata": {},
   "source": [
    "# 문자열 바꾸기\n",
    "sub() 메서드를 사용하면 정규식과 매치되는 부분을 다른 문자로 쉽게 바꿀 수 있다.   \n",
    "sub(\"바꿀 문자열(replacement)\", \"대상 문자열\")"
   ]
  },
  {
   "cell_type": "code",
   "execution_count": 53,
   "id": "f0bc2c7d-62e0-44c7-b19c-e02bfbbf01d3",
   "metadata": {},
   "outputs": [
    {
     "data": {
      "text/plain": [
       "'colour socks and colour shoes'"
      ]
     },
     "execution_count": 53,
     "metadata": {},
     "output_type": "execute_result"
    }
   ],
   "source": [
    "p = re.compile('(blue|white|red)')\n",
    "p.sub('colour', 'blue socks and red shoes')"
   ]
  },
  {
   "cell_type": "code",
   "execution_count": 54,
   "id": "39ea6eb9-ff9e-426b-9535-e5552ab6a773",
   "metadata": {},
   "outputs": [
    {
     "data": {
      "text/plain": [
       "'colour socks and red shoes'"
      ]
     },
     "execution_count": 54,
     "metadata": {},
     "output_type": "execute_result"
    }
   ],
   "source": [
    "# 바꾸기 횟수를 제어 - 세 번째 인수에 count 값을 설정\n",
    "p.sub('colour', 'blue socks and red shoes', count=1)"
   ]
  },
  {
   "cell_type": "markdown",
   "id": "5fe9b6cc-fcd4-4b2b-b90f-ed4c1b23115a",
   "metadata": {},
   "source": [
    "### sub() 메서드 사용 시 참조 구문 사용하기\n",
    "sub의 바꿀 문자열 부분에 `\\g<그룹_이름>`을 사용하면 정규식의 그룹 이름을 참조할 수 있게 된다."
   ]
  },
  {
   "cell_type": "code",
   "execution_count": 55,
   "id": "395107b2-12e9-4458-99a1-540a512fbf77",
   "metadata": {},
   "outputs": [
    {
     "name": "stdout",
     "output_type": "stream",
     "text": [
      "010-1234-1234 park\n"
     ]
    }
   ],
   "source": [
    "p = re.compile(r\"(?P<name>\\w+)\\s+(?P<phone>(\\d+)[-]\\d+[-]\\d+)\")\n",
    "print(p.sub(r\"\\g<2> \\g<1>\", \"park 010-1234-1234\"))"
   ]
  },
  {
   "cell_type": "markdown",
   "id": "434e041a-a7d9-47b0-9c2b-af7ef9463445",
   "metadata": {},
   "source": [
    "### sub() 메서드의 매개변수로 함수 넣기\n",
    "sub() 메서드의 첫 번째 인수에 함수를 전달할 수도 있다."
   ]
  },
  {
   "cell_type": "code",
   "execution_count": 56,
   "id": "d4437ae5-69d6-4d26-b09c-a88d40ab56b4",
   "metadata": {},
   "outputs": [
    {
     "data": {
      "text/plain": [
       "'Call 0xffd2 for printing, 0xc000 for user code.'"
      ]
     },
     "execution_count": 56,
     "metadata": {},
     "output_type": "execute_result"
    }
   ],
   "source": [
    "# hexrepl()은 match 객체를 입력으로 받아 16진수로 변환하여 리턴해 주는 함수\n",
    "def hexrepl(match):\n",
    "    value = int(match.group())\n",
    "    return hex(value)\n",
    "\n",
    "p = re.compile(r'\\d+')\n",
    "p.sub(hexrepl, 'Call 65490 for printing, 49152 for user code.')"
   ]
  }
 ],
 "metadata": {
  "kernelspec": {
   "display_name": "Python 3 (ipykernel)",
   "language": "python",
   "name": "python3"
  },
  "language_info": {
   "codemirror_mode": {
    "name": "ipython",
    "version": 3
   },
   "file_extension": ".py",
   "mimetype": "text/x-python",
   "name": "python",
   "nbconvert_exporter": "python",
   "pygments_lexer": "ipython3",
   "version": "3.12.4"
  }
 },
 "nbformat": 4,
 "nbformat_minor": 5
}
