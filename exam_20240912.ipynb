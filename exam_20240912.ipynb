{
 "cells": [
  {
   "cell_type": "markdown",
   "id": "1bc0297e-9138-4695-a8b5-7419204c9454",
   "metadata": {},
   "source": [
    "### 1. 지방, 탄수화물, 단백질의 그램을 숫자만 키보드로 입력하면, 칼로리로 계산하여 출력하는 프로그램을 작성한다.   \n",
    "#### 단, 칼로리는 지방x9 + 단백질x4 + 탄수화물x4 로함, Python언어 활용, class이용)"
   ]
  },
  {
   "cell_type": "code",
   "execution_count": 1,
   "id": "4c415dbf-cdb2-427a-9889-49c5da3738c8",
   "metadata": {},
   "outputs": [],
   "source": [
    "class CalorieCal:\n",
    "    def __init__(self, fat, carbo, protein):\n",
    "        self.fat = fat\n",
    "        self.carbo = carbo\n",
    "        self.protein = protein\n",
    "\n",
    "    def calory(self):\n",
    "        result = self.fat*9 + self.carbo*4 + self.protein*4\n",
    "        return result"
   ]
  },
  {
   "cell_type": "code",
   "execution_count": 2,
   "id": "63b463b4-60ec-4fb6-954b-2422cf13c88a",
   "metadata": {},
   "outputs": [
    {
     "name": "stdin",
     "output_type": "stream",
     "text": [
      "지방 함량 :  1.07\n",
      "탄수화물 함량 :  3.45\n",
      "단백질 함량 :  0.27\n"
     ]
    }
   ],
   "source": [
    "fat = float(input('지방 함량 : '))\n",
    "carbo = float(input('탄수화물 함량 : '))\n",
    "protein = float(input('단백질 함량 : '))"
   ]
  },
  {
   "cell_type": "code",
   "execution_count": 3,
   "id": "260aec48-6947-446d-b46e-5fa4b11ad53c",
   "metadata": {},
   "outputs": [
    {
     "name": "stdout",
     "output_type": "stream",
     "text": [
      "쿠키 한조각 칼로리 : 24.51kcal\n"
     ]
    }
   ],
   "source": [
    "cookie = CalorieCal(fat, carbo, protein)\n",
    "cookieCalory = cookie.calory()\n",
    "print(f'쿠키 한조각 칼로리 : {cookieCalory:0.2f}kcal')"
   ]
  },
  {
   "cell_type": "markdown",
   "id": "a896580a-14a3-46ff-bcc2-bf3da4bd7d6c",
   "metadata": {},
   "source": [
    "### 2. 임의의 1~45의 여섯 개 숫자를 출력하도록 하되, 여섯개의 숫자는 중복이 허용되지 않으며, 오름차순으로 정렬되어 출력하는 프로그램을 작성한다.(Python 언어 활용)"
   ]
  },
  {
   "cell_type": "code",
   "execution_count": 4,
   "id": "9fe5a74c-0228-4476-8d30-9deba6a4e458",
   "metadata": {},
   "outputs": [
    {
     "data": {
      "text/plain": [
       "20"
      ]
     },
     "execution_count": 4,
     "metadata": {},
     "output_type": "execute_result"
    }
   ],
   "source": [
    "import random\n",
    "num = random.randrange(1,46)\n",
    "num"
   ]
  },
  {
   "cell_type": "code",
   "execution_count": 5,
   "id": "f8b9ff09-a1af-4044-9d00-ab6c1a44130e",
   "metadata": {},
   "outputs": [
    {
     "name": "stdout",
     "output_type": "stream",
     "text": [
      "[1, 5, 20, 35, 40, 43]\n"
     ]
    }
   ],
   "source": [
    "import random\n",
    "\n",
    "nums = set()\n",
    "\n",
    "while len(nums) < 6:\n",
    "    num = random.randrange(1,46)\n",
    "    nums.add(num)\n",
    "    \n",
    "nums = list(nums)\n",
    "nums.sort()\n",
    "print(nums)"
   ]
  }
 ],
 "metadata": {
  "kernelspec": {
   "display_name": "Python 3 (ipykernel)",
   "language": "python",
   "name": "python3"
  },
  "language_info": {
   "codemirror_mode": {
    "name": "ipython",
    "version": 3
   },
   "file_extension": ".py",
   "mimetype": "text/x-python",
   "name": "python",
   "nbconvert_exporter": "python",
   "pygments_lexer": "ipython3",
   "version": "3.12.4"
  }
 },
 "nbformat": 4,
 "nbformat_minor": 5
}
