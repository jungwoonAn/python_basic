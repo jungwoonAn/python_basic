{
 "cells": [
  {
   "cell_type": "markdown",
   "id": "1fbc8696-07f5-41d6-94f4-24dcaa23798d",
   "metadata": {},
   "source": [
    "# 문자열은 어떻게 만들고 사용할까?"
   ]
  },
  {
   "cell_type": "markdown",
   "id": "18763d8a-61ae-4cf5-8b80-6344f6ab560c",
   "metadata": {},
   "source": [
    "### 1. 큰따옴표로 양쪽 둘러싸기"
   ]
  },
  {
   "cell_type": "code",
   "execution_count": 140,
   "id": "f81bfeb5-cad2-4ba7-a8c4-a53157e6fc34",
   "metadata": {},
   "outputs": [
    {
     "data": {
      "text/plain": [
       "'Hello World'"
      ]
     },
     "execution_count": 140,
     "metadata": {},
     "output_type": "execute_result"
    }
   ],
   "source": [
    "\"Hello World\""
   ]
  },
  {
   "cell_type": "markdown",
   "id": "108634c0-c55c-460d-96aa-d7e387bbf693",
   "metadata": {},
   "source": [
    "### 2. 작은따옴표로 양쪽 둘러싸기"
   ]
  },
  {
   "cell_type": "code",
   "execution_count": 141,
   "id": "600c6105-cb40-4373-ad54-ebc95b41708f",
   "metadata": {},
   "outputs": [
    {
     "data": {
      "text/plain": [
       "'Python is fun'"
      ]
     },
     "execution_count": 141,
     "metadata": {},
     "output_type": "execute_result"
    }
   ],
   "source": [
    "'Python is fun'"
   ]
  },
  {
   "cell_type": "markdown",
   "id": "28332cc7-d60f-4bff-88cb-3fc27a539586",
   "metadata": {},
   "source": [
    "### 3. 큰따옴표 3개를 연속으로 써서 양쪽 둘러싸기"
   ]
  },
  {
   "cell_type": "code",
   "execution_count": 142,
   "id": "4feb0fb2-5d81-41e8-a1a1-4259fdf759c7",
   "metadata": {},
   "outputs": [
    {
     "data": {
      "text/plain": [
       "'Life is too short, You need python'"
      ]
     },
     "execution_count": 142,
     "metadata": {},
     "output_type": "execute_result"
    }
   ],
   "source": [
    "\"\"\"Life is too short, You need python\"\"\""
   ]
  },
  {
   "cell_type": "markdown",
   "id": "a4381ff6-f260-4bc0-895d-08a749c8b35a",
   "metadata": {},
   "source": [
    "### 4. 작은따옴표 3개를 연속으로 써서 양쪽 둘러싸기"
   ]
  },
  {
   "cell_type": "code",
   "execution_count": 143,
   "id": "4c00caca-4771-479f-b1ac-de7e0608809d",
   "metadata": {},
   "outputs": [
    {
     "data": {
      "text/plain": [
       "'Life is too short, You need python'"
      ]
     },
     "execution_count": 143,
     "metadata": {},
     "output_type": "execute_result"
    }
   ],
   "source": [
    "'''Life is too short, You need python'''"
   ]
  },
  {
   "cell_type": "markdown",
   "id": "87790401-c54e-4a9b-a83a-57aa44d0e07e",
   "metadata": {},
   "source": [
    "# 문자열 안에 작은따옴표나 큰따옴표를 포함시키고 싶을 때"
   ]
  },
  {
   "cell_type": "markdown",
   "id": "dfcbd63c-4433-4a02-b968-abff0ea87565",
   "metadata": {},
   "source": [
    "### 1. 문자열에 작은따옴표 포함하기"
   ]
  },
  {
   "cell_type": "code",
   "execution_count": 144,
   "id": "c0421f3e-4182-4e98-91a5-a3e34b6b8f21",
   "metadata": {},
   "outputs": [
    {
     "data": {
      "text/plain": [
       "\"Python's favorite food is perl\""
      ]
     },
     "execution_count": 144,
     "metadata": {},
     "output_type": "execute_result"
    }
   ],
   "source": [
    "food = \"Python's favorite food is perl\"\n",
    "food"
   ]
  },
  {
   "cell_type": "code",
   "execution_count": 145,
   "id": "0d3d063a-e431-48ce-a272-06f858c59704",
   "metadata": {},
   "outputs": [
    {
     "ename": "SyntaxError",
     "evalue": "unterminated string literal (detected at line 1) (3264339671.py, line 1)",
     "output_type": "error",
     "traceback": [
      "\u001b[1;36m  Cell \u001b[1;32mIn[145], line 1\u001b[1;36m\u001b[0m\n\u001b[1;33m    food = 'Python's favorite food is perl'\u001b[0m\n\u001b[1;37m                                          ^\u001b[0m\n\u001b[1;31mSyntaxError\u001b[0m\u001b[1;31m:\u001b[0m unterminated string literal (detected at line 1)\n"
     ]
    }
   ],
   "source": [
    "food = 'Python's favorite food is perl'"
   ]
  },
  {
   "cell_type": "markdown",
   "id": "37d1f4e2-488d-4872-a33f-67bcdc2accce",
   "metadata": {},
   "source": [
    "### 2. 문자열에 큰따옴표 포함하기"
   ]
  },
  {
   "cell_type": "code",
   "execution_count": null,
   "id": "7029db6b-fa97-4d1c-a55c-b0207870f521",
   "metadata": {},
   "outputs": [],
   "source": [
    "say = '\"Python is very easy.\" he says.'\n",
    "say"
   ]
  },
  {
   "cell_type": "markdown",
   "id": "6fbf71db-26c7-4b52-a50c-40c9da4e2d94",
   "metadata": {},
   "source": [
    "### 3. 역슬래시를 사용해서 작은따옴표와 큰따옴표를 문자열에 포함하기"
   ]
  },
  {
   "cell_type": "code",
   "execution_count": null,
   "id": "81207a48-9c9b-44ca-bd5b-a993580f8e48",
   "metadata": {},
   "outputs": [],
   "source": [
    "food = 'Python\\'s favorite food is perl'\n",
    "food"
   ]
  },
  {
   "cell_type": "code",
   "execution_count": null,
   "id": "059c6b1c-ce96-45b9-8cc0-046e4001b3f5",
   "metadata": {},
   "outputs": [],
   "source": [
    "say = \"\\\"Python is very easy.\\\" he says.\"\n",
    "say"
   ]
  },
  {
   "cell_type": "markdown",
   "id": "136e6c30-3392-4f1b-99ad-da5f485aa61e",
   "metadata": {},
   "source": [
    "# 여러 줄인 문자열을 변수에 대입하고 싶을 때"
   ]
  },
  {
   "cell_type": "markdown",
   "id": "1f1a418c-605f-4d84-993d-3557ff404a75",
   "metadata": {},
   "source": [
    "### 1. 줄을 바꾸기 위한 이스케이프 코드 \\n 삽입하기 "
   ]
  },
  {
   "cell_type": "code",
   "execution_count": null,
   "id": "9aeb2e00-ec8c-40f0-a581-9b0400464d21",
   "metadata": {},
   "outputs": [],
   "source": [
    "multiline = \"Life is too short\\nYou need python\"\n",
    "print(multiline)"
   ]
  },
  {
   "cell_type": "markdown",
   "id": "6c56bba1-220c-4ff3-a481-a5f5caa46b27",
   "metadata": {},
   "source": [
    "### 2. 연속된 작은따옴표 3개 또는 큰따옴표 3개 사용하기"
   ]
  },
  {
   "cell_type": "code",
   "execution_count": null,
   "id": "af33440b-e4c2-4470-9b8e-e571fb6bf9b4",
   "metadata": {},
   "outputs": [],
   "source": [
    "multiline='''\n",
    "Life is too short\n",
    "You need python\n",
    "'''\n",
    "print(multiline)"
   ]
  },
  {
   "cell_type": "code",
   "execution_count": null,
   "id": "0ee9384a-0d02-4895-94ec-70cbdac26d30",
   "metadata": {},
   "outputs": [],
   "source": [
    "multiline=\"\"\"\n",
    "Life is too short\n",
    "You need python\n",
    "\"\"\"\n",
    "print(multiline)"
   ]
  },
  {
   "cell_type": "markdown",
   "id": "0e4303dd-88ee-470c-b76d-df410b2bd0d5",
   "metadata": {},
   "source": [
    "# 문자열 연산하기"
   ]
  },
  {
   "cell_type": "markdown",
   "id": "e4969eaa-8fd3-4a53-9d1e-818e23c50756",
   "metadata": {},
   "source": [
    "### 문자열 더해서 연결하기"
   ]
  },
  {
   "cell_type": "code",
   "execution_count": null,
   "id": "1443dcff-4595-4e88-950c-03d0e0d0f453",
   "metadata": {},
   "outputs": [],
   "source": [
    "head = \"Python\"\n",
    "tail = \" is fun!\"\n",
    "head + tail"
   ]
  },
  {
   "cell_type": "markdown",
   "id": "251b5932-791f-475a-8ed4-6d116acb0d93",
   "metadata": {},
   "source": [
    "### 문자열 곱하기"
   ]
  },
  {
   "cell_type": "code",
   "execution_count": null,
   "id": "96c6da7c-6230-4ab6-9d1a-a574c951fa99",
   "metadata": {},
   "outputs": [],
   "source": [
    "a = \"python\"\n",
    "a * 2"
   ]
  },
  {
   "cell_type": "markdown",
   "id": "8fc6448a-df3a-4c34-975d-1f101a55202d",
   "metadata": {},
   "source": [
    "### 문자열 곱하기를 응용하기"
   ]
  },
  {
   "cell_type": "code",
   "execution_count": null,
   "id": "50c0a8b3-02a4-4b36-9ed7-09de38871f76",
   "metadata": {},
   "outputs": [],
   "source": [
    "print(\"=\" * 50)\n",
    "print(\"My Program\")\n",
    "print(\"=\" * 50)"
   ]
  },
  {
   "cell_type": "markdown",
   "id": "e6712f82-b63f-416f-933c-c7ecb3e8267d",
   "metadata": {},
   "source": [
    "# 문자열 길이 구하기"
   ]
  },
  {
   "cell_type": "code",
   "execution_count": null,
   "id": "d05a4d1b-e442-476b-be63-d13e30b1ed6a",
   "metadata": {},
   "outputs": [],
   "source": [
    "a = \"Life is too short\"\n",
    "len(a)"
   ]
  },
  {
   "cell_type": "markdown",
   "id": "d81e099d-cfbb-41da-92a7-aa34aba3120d",
   "metadata": {},
   "source": [
    "# 문자열 인덱싱과 슬라이싱"
   ]
  },
  {
   "cell_type": "markdown",
   "id": "9ec06339-c330-442b-ba2a-9d8c6f8a6595",
   "metadata": {},
   "source": [
    "### 문자열 인덱싱"
   ]
  },
  {
   "cell_type": "code",
   "execution_count": null,
   "id": "0ebc1e0d-9daf-4a63-adb3-067f9d8ec114",
   "metadata": {},
   "outputs": [],
   "source": [
    "a = \"Life is too short, You need Python\"\n",
    "a[3]"
   ]
  },
  {
   "cell_type": "code",
   "execution_count": null,
   "id": "3778d632-2d2c-4e51-af98-70de233c1c71",
   "metadata": {},
   "outputs": [],
   "source": [
    "a[0]"
   ]
  },
  {
   "cell_type": "code",
   "execution_count": null,
   "id": "3b33b423-26bd-435e-8458-feb51551dbe5",
   "metadata": {},
   "outputs": [],
   "source": [
    "a[12]"
   ]
  },
  {
   "cell_type": "code",
   "execution_count": null,
   "id": "06e26d65-7315-47a4-94d0-1307c1c6c373",
   "metadata": {},
   "outputs": [],
   "source": [
    "a[-1]"
   ]
  },
  {
   "cell_type": "code",
   "execution_count": 146,
   "id": "aeda8039-a9ec-4a1d-9fa8-3f06a70b09a0",
   "metadata": {},
   "outputs": [
    {
     "data": {
      "text/plain": [
       "'L'"
      ]
     },
     "execution_count": 146,
     "metadata": {},
     "output_type": "execute_result"
    }
   ],
   "source": [
    "a[-0]"
   ]
  },
  {
   "cell_type": "code",
   "execution_count": 147,
   "id": "2a2f8a0a-b690-4daa-9198-9926fa1f496b",
   "metadata": {},
   "outputs": [
    {
     "data": {
      "text/plain": [
       "'r'"
      ]
     },
     "execution_count": 147,
     "metadata": {},
     "output_type": "execute_result"
    }
   ],
   "source": [
    "a[-2]"
   ]
  },
  {
   "cell_type": "code",
   "execution_count": 148,
   "id": "eb8faa2e-d6bf-491e-8daf-d90d491fe081",
   "metadata": {},
   "outputs": [
    {
     "data": {
      "text/plain": [
       "'s'"
      ]
     },
     "execution_count": 148,
     "metadata": {},
     "output_type": "execute_result"
    }
   ],
   "source": [
    "a[-5]"
   ]
  },
  {
   "cell_type": "markdown",
   "id": "110d2139-41fe-4116-8fbc-d3dfef75c7cd",
   "metadata": {},
   "source": [
    "### 문자열 슬라이싱"
   ]
  },
  {
   "cell_type": "code",
   "execution_count": 149,
   "id": "71cc6f54-35a5-44ac-abaa-080dfc2aee37",
   "metadata": {},
   "outputs": [
    {
     "data": {
      "text/plain": [
       "'Life'"
      ]
     },
     "execution_count": 149,
     "metadata": {},
     "output_type": "execute_result"
    }
   ],
   "source": [
    "a = \"Life is too short, You need Python\"\n",
    "b = a[0] + a[1] + a[2] + a[3]\n",
    "b"
   ]
  },
  {
   "cell_type": "code",
   "execution_count": 150,
   "id": "cd0f125f-e479-4141-a50a-7a2020bc37d6",
   "metadata": {},
   "outputs": [
    {
     "data": {
      "text/plain": [
       "'Life'"
      ]
     },
     "execution_count": 150,
     "metadata": {},
     "output_type": "execute_result"
    }
   ],
   "source": [
    "a[0:4]"
   ]
  },
  {
   "cell_type": "code",
   "execution_count": 151,
   "id": "1c322aae-78d9-47ed-9e11-10aee9d3fb6a",
   "metadata": {},
   "outputs": [
    {
     "data": {
      "text/plain": [
       "'Lif'"
      ]
     },
     "execution_count": 151,
     "metadata": {},
     "output_type": "execute_result"
    }
   ],
   "source": [
    "a[0:3]"
   ]
  },
  {
   "cell_type": "markdown",
   "id": "a6bf3606-4c31-4457-ab1f-437b57c2fee1",
   "metadata": {},
   "source": [
    "### 문자열을 슬라이싱하는 방법"
   ]
  },
  {
   "cell_type": "code",
   "execution_count": 152,
   "id": "fddce78c-5510-45dc-a40e-b63d42d9c555",
   "metadata": {},
   "outputs": [
    {
     "data": {
      "text/plain": [
       "'Life '"
      ]
     },
     "execution_count": 152,
     "metadata": {},
     "output_type": "execute_result"
    }
   ],
   "source": [
    "a[0:5]"
   ]
  },
  {
   "cell_type": "code",
   "execution_count": 153,
   "id": "7b0561ec-e913-4931-8c67-43ae545f63b0",
   "metadata": {},
   "outputs": [
    {
     "data": {
      "text/plain": [
       "'Li'"
      ]
     },
     "execution_count": 153,
     "metadata": {},
     "output_type": "execute_result"
    }
   ],
   "source": [
    "a[0:2]"
   ]
  },
  {
   "cell_type": "code",
   "execution_count": 154,
   "id": "48e771c9-c993-40c9-ad1a-b0761a963db9",
   "metadata": {},
   "outputs": [
    {
     "data": {
      "text/plain": [
       "'is'"
      ]
     },
     "execution_count": 154,
     "metadata": {},
     "output_type": "execute_result"
    }
   ],
   "source": [
    "a[5:7]"
   ]
  },
  {
   "cell_type": "code",
   "execution_count": 155,
   "id": "05412bdb-895d-4419-8a07-59d13733bd95",
   "metadata": {},
   "outputs": [
    {
     "data": {
      "text/plain": [
       "'short'"
      ]
     },
     "execution_count": 155,
     "metadata": {},
     "output_type": "execute_result"
    }
   ],
   "source": [
    "a[12:17]"
   ]
  },
  {
   "cell_type": "code",
   "execution_count": 156,
   "id": "e4457446-a1f4-42d9-92a4-f6617c988797",
   "metadata": {},
   "outputs": [
    {
     "data": {
      "text/plain": [
       "'You need Python'"
      ]
     },
     "execution_count": 156,
     "metadata": {},
     "output_type": "execute_result"
    }
   ],
   "source": [
    "a[19:]"
   ]
  },
  {
   "cell_type": "code",
   "execution_count": 157,
   "id": "05492961-b978-44f2-ab50-e60c3e89008f",
   "metadata": {},
   "outputs": [
    {
     "data": {
      "text/plain": [
       "'Life is too short'"
      ]
     },
     "execution_count": 157,
     "metadata": {},
     "output_type": "execute_result"
    }
   ],
   "source": [
    "a[:17]"
   ]
  },
  {
   "cell_type": "code",
   "execution_count": 158,
   "id": "92a03ad6-68a1-41f5-b643-98771a7837d0",
   "metadata": {},
   "outputs": [
    {
     "data": {
      "text/plain": [
       "'Life is too short, You need Python'"
      ]
     },
     "execution_count": 158,
     "metadata": {},
     "output_type": "execute_result"
    }
   ],
   "source": [
    "a[:]"
   ]
  },
  {
   "cell_type": "code",
   "execution_count": 159,
   "id": "590194c9-399d-4d8c-8e68-afa045558c3d",
   "metadata": {},
   "outputs": [
    {
     "data": {
      "text/plain": [
       "'You need'"
      ]
     },
     "execution_count": 159,
     "metadata": {},
     "output_type": "execute_result"
    }
   ],
   "source": [
    "a[19:-7]"
   ]
  },
  {
   "cell_type": "markdown",
   "id": "28f5e26d-cd35-4e9a-bace-286c025df3c7",
   "metadata": {},
   "source": [
    "### 슬라이싱으로 문자열 나누기"
   ]
  },
  {
   "cell_type": "code",
   "execution_count": 160,
   "id": "1d639e02-a528-4059-b706-d27628e6c377",
   "metadata": {},
   "outputs": [
    {
     "name": "stdout",
     "output_type": "stream",
     "text": [
      "20230331\n",
      "Rainy\n"
     ]
    }
   ],
   "source": [
    "a = \"20230331Rainy\"\n",
    "date = a[:8]\n",
    "weather = a[8:]\n",
    "print(date)\n",
    "print(weather)"
   ]
  },
  {
   "cell_type": "code",
   "execution_count": 161,
   "id": "975de00f-b964-42ea-83f6-811b1142f31b",
   "metadata": {},
   "outputs": [],
   "source": [
    "year = a[:4]\n",
    "day = a[4:8]"
   ]
  },
  {
   "cell_type": "code",
   "execution_count": 162,
   "id": "d5b0d731-2fe9-4023-88e1-0fca4ddf750a",
   "metadata": {},
   "outputs": [
    {
     "data": {
      "text/plain": [
       "'2023'"
      ]
     },
     "execution_count": 162,
     "metadata": {},
     "output_type": "execute_result"
    }
   ],
   "source": [
    "year"
   ]
  },
  {
   "cell_type": "code",
   "execution_count": 163,
   "id": "84309c06-8e5e-41d8-af80-78be559cb877",
   "metadata": {},
   "outputs": [
    {
     "data": {
      "text/plain": [
       "'0331'"
      ]
     },
     "execution_count": 163,
     "metadata": {},
     "output_type": "execute_result"
    }
   ],
   "source": [
    "day"
   ]
  },
  {
   "cell_type": "code",
   "execution_count": 164,
   "id": "b12e666f-852e-4721-949d-1dd4aebd8d74",
   "metadata": {},
   "outputs": [
    {
     "data": {
      "text/plain": [
       "'Rainy'"
      ]
     },
     "execution_count": 164,
     "metadata": {},
     "output_type": "execute_result"
    }
   ],
   "source": [
    "weather"
   ]
  },
  {
   "cell_type": "markdown",
   "id": "44a6d09c-1410-4047-80f6-187a97355e14",
   "metadata": {},
   "source": [
    "### ** Pithon 문자열을 Python으로 바꾸려면? (문자열은 변경 불가능한(immutable) 자료형)"
   ]
  },
  {
   "cell_type": "code",
   "execution_count": 165,
   "id": "83d0f6c3-07dc-406c-984a-18c1f748d0eb",
   "metadata": {},
   "outputs": [
    {
     "data": {
      "text/plain": [
       "'i'"
      ]
     },
     "execution_count": 165,
     "metadata": {},
     "output_type": "execute_result"
    }
   ],
   "source": [
    "a = \"Pithon\"\n",
    "a[1]"
   ]
  },
  {
   "cell_type": "code",
   "execution_count": 166,
   "id": "eeeace16-7586-48ee-85c1-7f64304ad62a",
   "metadata": {},
   "outputs": [
    {
     "ename": "TypeError",
     "evalue": "'str' object does not support item assignment",
     "output_type": "error",
     "traceback": [
      "\u001b[1;31m---------------------------------------------------------------------------\u001b[0m",
      "\u001b[1;31mTypeError\u001b[0m                                 Traceback (most recent call last)",
      "Cell \u001b[1;32mIn[166], line 1\u001b[0m\n\u001b[1;32m----> 1\u001b[0m a[\u001b[38;5;241m1\u001b[39m] \u001b[38;5;241m=\u001b[39m y\n",
      "\u001b[1;31mTypeError\u001b[0m: 'str' object does not support item assignment"
     ]
    }
   ],
   "source": [
    "a[1] = y"
   ]
  },
  {
   "cell_type": "code",
   "execution_count": 167,
   "id": "d6345361-7038-48f6-96ef-05e33d64dc01",
   "metadata": {},
   "outputs": [
    {
     "data": {
      "text/plain": [
       "'P'"
      ]
     },
     "execution_count": 167,
     "metadata": {},
     "output_type": "execute_result"
    }
   ],
   "source": [
    "a[:1]"
   ]
  },
  {
   "cell_type": "code",
   "execution_count": 168,
   "id": "e539c734-4dd5-4c72-a509-2ffa95ae0832",
   "metadata": {},
   "outputs": [
    {
     "data": {
      "text/plain": [
       "'thon'"
      ]
     },
     "execution_count": 168,
     "metadata": {},
     "output_type": "execute_result"
    }
   ],
   "source": [
    "a[2:]"
   ]
  },
  {
   "cell_type": "code",
   "execution_count": 169,
   "id": "e183b2c9-cff1-447f-afc3-1b27e1a0644a",
   "metadata": {},
   "outputs": [
    {
     "data": {
      "text/plain": [
       "'Python'"
      ]
     },
     "execution_count": 169,
     "metadata": {},
     "output_type": "execute_result"
    }
   ],
   "source": [
    "b = a[:1] + 'y' + a[2:]\n",
    "b"
   ]
  },
  {
   "cell_type": "markdown",
   "id": "84a411d8-c266-4474-8c36-36b69690d826",
   "metadata": {},
   "source": [
    "# 문자열 포매팅"
   ]
  },
  {
   "cell_type": "markdown",
   "id": "bf2d2e71-813e-4caa-ac2a-5119c2562bcd",
   "metadata": {},
   "source": [
    "### 1. 숫자 바로 대입"
   ]
  },
  {
   "cell_type": "code",
   "execution_count": 170,
   "id": "09644035-11bf-4785-960a-d3a70165ccd8",
   "metadata": {},
   "outputs": [
    {
     "data": {
      "text/plain": [
       "'I eat 3 apples.'"
      ]
     },
     "execution_count": 170,
     "metadata": {},
     "output_type": "execute_result"
    }
   ],
   "source": [
    "\"I eat %d apples.\" %3"
   ]
  },
  {
   "cell_type": "markdown",
   "id": "53c386f8-3f5e-4286-a2ca-ba6ef4456561",
   "metadata": {},
   "source": [
    "### 2. 문자열 바로 대입"
   ]
  },
  {
   "cell_type": "code",
   "execution_count": 171,
   "id": "65a1dfd6-43e1-4a47-aefe-c1e9eb27a9e6",
   "metadata": {},
   "outputs": [
    {
     "data": {
      "text/plain": [
       "'I eat five apples.'"
      ]
     },
     "execution_count": 171,
     "metadata": {},
     "output_type": "execute_result"
    }
   ],
   "source": [
    "\"I eat %s apples.\" %\"five\""
   ]
  },
  {
   "cell_type": "markdown",
   "id": "8658eb46-f4ce-42a9-a41e-167377eede51",
   "metadata": {},
   "source": [
    "### 3. 숫자 값을 나타내는 변수로 대입"
   ]
  },
  {
   "cell_type": "code",
   "execution_count": 172,
   "id": "d7ecb1cf-bf18-4ceb-a698-8b63476f1e48",
   "metadata": {},
   "outputs": [
    {
     "data": {
      "text/plain": [
       "'I eat 3 apples.'"
      ]
     },
     "execution_count": 172,
     "metadata": {},
     "output_type": "execute_result"
    }
   ],
   "source": [
    "number = 3\n",
    "\"I eat %d apples.\" % number"
   ]
  },
  {
   "cell_type": "markdown",
   "id": "4730bb19-d65c-469c-a554-f0e54797bd48",
   "metadata": {},
   "source": [
    "### 4. 2개 이상의 값 넣기"
   ]
  },
  {
   "cell_type": "code",
   "execution_count": 173,
   "id": "9671ae1a-9972-4c2e-9671-57b2fad157d5",
   "metadata": {},
   "outputs": [
    {
     "data": {
      "text/plain": [
       "'I ate 10 apples. so I was sick for three days.'"
      ]
     },
     "execution_count": 173,
     "metadata": {},
     "output_type": "execute_result"
    }
   ],
   "source": [
    "number = 10\n",
    "day = \"three\"\n",
    "\"I ate %d apples. so I was sick for %s days.\" %(number, day)"
   ]
  },
  {
   "cell_type": "markdown",
   "id": "42a32faf-5102-4ee1-8990-05f6392baa58",
   "metadata": {},
   "source": [
    "# 문자열 포맷 코드"
   ]
  },
  {
   "cell_type": "code",
   "execution_count": 174,
   "id": "5febd27d-6fa9-4de6-830a-41fdd6f79bd9",
   "metadata": {},
   "outputs": [
    {
     "data": {
      "text/plain": [
       "'I have 3 apples.'"
      ]
     },
     "execution_count": 174,
     "metadata": {},
     "output_type": "execute_result"
    }
   ],
   "source": [
    "# %s 포맷 코드는 어떤 형태의 값이든 변환해 넣을 수 있다.\n",
    "\"I have %s apples.\" %3"
   ]
  },
  {
   "cell_type": "code",
   "execution_count": 175,
   "id": "0d9cf642-1c8f-4d5f-ba25-7bb6a329e22c",
   "metadata": {},
   "outputs": [
    {
     "data": {
      "text/plain": [
       "'rate is 3.234'"
      ]
     },
     "execution_count": 175,
     "metadata": {},
     "output_type": "execute_result"
    }
   ],
   "source": [
    "\"rate is %s\" %3.234"
   ]
  },
  {
   "cell_type": "markdown",
   "id": "164ac736-d8a8-4bbc-a604-a44ce428b9cc",
   "metadata": {},
   "source": [
    "### ** 포매팅 연산자 %d와 %를 같이 쓸 때는 %%"
   ]
  },
  {
   "cell_type": "code",
   "execution_count": 176,
   "id": "06f278ab-f589-44aa-a356-a871155a665e",
   "metadata": {},
   "outputs": [
    {
     "ename": "ValueError",
     "evalue": "incomplete format",
     "output_type": "error",
     "traceback": [
      "\u001b[1;31m---------------------------------------------------------------------------\u001b[0m",
      "\u001b[1;31mValueError\u001b[0m                                Traceback (most recent call last)",
      "Cell \u001b[1;32mIn[176], line 1\u001b[0m\n\u001b[1;32m----> 1\u001b[0m \u001b[38;5;124m\"\u001b[39m\u001b[38;5;124mError is \u001b[39m\u001b[38;5;132;01m%d\u001b[39;00m\u001b[38;5;124m%\u001b[39m\u001b[38;5;124m.\u001b[39m\u001b[38;5;124m\"\u001b[39m \u001b[38;5;241m%\u001b[39m\u001b[38;5;241m98\u001b[39m\n",
      "\u001b[1;31mValueError\u001b[0m: incomplete format"
     ]
    }
   ],
   "source": [
    "\"Error is %d%.\" %98"
   ]
  },
  {
   "cell_type": "code",
   "execution_count": 177,
   "id": "2ba90f76-3b62-4973-8d99-a34b961b437f",
   "metadata": {},
   "outputs": [
    {
     "data": {
      "text/plain": [
       "'Error is 98%.'"
      ]
     },
     "execution_count": 177,
     "metadata": {},
     "output_type": "execute_result"
    }
   ],
   "source": [
    "\"Error is %d%%.\" %98"
   ]
  },
  {
   "cell_type": "markdown",
   "id": "ef2474ea-e23b-4558-9a79-f3cae99b7915",
   "metadata": {},
   "source": [
    "# 포맷 코드와 숫자 함께 사용하기"
   ]
  },
  {
   "cell_type": "markdown",
   "id": "ee4cad22-ce19-435f-bd84-64f6ab3c6d14",
   "metadata": {},
   "source": [
    "### 1. 정렬과 공백"
   ]
  },
  {
   "cell_type": "code",
   "execution_count": 178,
   "id": "ab231d33-d5cc-4d7a-b8ab-277ba866fc78",
   "metadata": {},
   "outputs": [
    {
     "data": {
      "text/plain": [
       "'        hi'"
      ]
     },
     "execution_count": 178,
     "metadata": {},
     "output_type": "execute_result"
    }
   ],
   "source": [
    "\"%10s\" %\"hi\""
   ]
  },
  {
   "cell_type": "code",
   "execution_count": 179,
   "id": "fd6c1f78-ef26-4e2f-b7e3-49685cb1a340",
   "metadata": {},
   "outputs": [
    {
     "data": {
      "text/plain": [
       "'hi        jane.'"
      ]
     },
     "execution_count": 179,
     "metadata": {},
     "output_type": "execute_result"
    }
   ],
   "source": [
    "\"%-10sjane.\" %'hi'"
   ]
  },
  {
   "cell_type": "markdown",
   "id": "a46c12f2-75ae-4dab-b06e-10b842dd785a",
   "metadata": {},
   "source": [
    "### 2. 소수점 표현하기"
   ]
  },
  {
   "cell_type": "code",
   "execution_count": 180,
   "id": "57422c35-99f2-4447-8f81-8ee942753110",
   "metadata": {},
   "outputs": [
    {
     "data": {
      "text/plain": [
       "'3.4213'"
      ]
     },
     "execution_count": 180,
     "metadata": {},
     "output_type": "execute_result"
    }
   ],
   "source": [
    "\"%0.4f\" %3.42134234"
   ]
  },
  {
   "cell_type": "code",
   "execution_count": 181,
   "id": "5dd9a1a8-83ee-42af-bf31-c4745088eff9",
   "metadata": {},
   "outputs": [
    {
     "data": {
      "text/plain": [
       "'    3.4231'"
      ]
     },
     "execution_count": 181,
     "metadata": {},
     "output_type": "execute_result"
    }
   ],
   "source": [
    "\"%10.4f\" %3.4231234"
   ]
  },
  {
   "cell_type": "markdown",
   "id": "aa58777c-541a-41c1-9e1c-3af49b2a79e9",
   "metadata": {},
   "source": [
    "# format함수를 사용한 포매팅"
   ]
  },
  {
   "cell_type": "markdown",
   "id": "7a154792-ce0b-47c9-baea-0642562cf5a0",
   "metadata": {},
   "source": [
    "### 숫자 바로 대입하기"
   ]
  },
  {
   "cell_type": "code",
   "execution_count": 182,
   "id": "000f5830-c9b2-4aa5-a4cb-7ef6088c7bc4",
   "metadata": {},
   "outputs": [
    {
     "data": {
      "text/plain": [
       "'I eat 3 apples.'"
      ]
     },
     "execution_count": 182,
     "metadata": {},
     "output_type": "execute_result"
    }
   ],
   "source": [
    "\"I eat {0} apples.\".format(3)"
   ]
  },
  {
   "cell_type": "markdown",
   "id": "102aeeea-eecb-4763-b6cf-584b6f376cd4",
   "metadata": {},
   "source": [
    "### 문자열 바로 대입하기"
   ]
  },
  {
   "cell_type": "code",
   "execution_count": 183,
   "id": "4d25306a-aee2-4cb0-8cf8-f0ae7dfc7905",
   "metadata": {},
   "outputs": [
    {
     "data": {
      "text/plain": [
       "'I eat five apples.'"
      ]
     },
     "execution_count": 183,
     "metadata": {},
     "output_type": "execute_result"
    }
   ],
   "source": [
    "\"I eat {0} apples.\".format(\"five\")"
   ]
  },
  {
   "cell_type": "markdown",
   "id": "b9ab7d07-52b4-4122-82af-f7efdc0a630b",
   "metadata": {},
   "source": [
    "### 숫자 값을 가진 변수로 대입하기"
   ]
  },
  {
   "cell_type": "code",
   "execution_count": 184,
   "id": "d48ddc36-b19a-4cdc-a8c0-3c9aa1c262fe",
   "metadata": {},
   "outputs": [
    {
     "data": {
      "text/plain": [
       "'I eat 3 apples.'"
      ]
     },
     "execution_count": 184,
     "metadata": {},
     "output_type": "execute_result"
    }
   ],
   "source": [
    "number = 3\n",
    "\"I eat {0} apples.\".format(number)"
   ]
  },
  {
   "cell_type": "markdown",
   "id": "7760d58f-a0dc-4f15-8d01-fb8cf8d25cfa",
   "metadata": {},
   "source": [
    "### 2개 이상의 값 넣기"
   ]
  },
  {
   "cell_type": "code",
   "execution_count": 185,
   "id": "c9e6f41a-315a-4125-b72d-1c7131ab91ea",
   "metadata": {},
   "outputs": [
    {
     "data": {
      "text/plain": [
       "'I ate 10 apples. so I was sick for three days.'"
      ]
     },
     "execution_count": 185,
     "metadata": {},
     "output_type": "execute_result"
    }
   ],
   "source": [
    "number = 10\n",
    "day = \"three\"\n",
    "\"I ate {0} apples. so I was sick for {1} days.\".format(number, day)"
   ]
  },
  {
   "cell_type": "markdown",
   "id": "1cd4231f-f238-4989-8133-8e4f39df9fd1",
   "metadata": {},
   "source": [
    "### 이름으로 넣기"
   ]
  },
  {
   "cell_type": "code",
   "execution_count": 186,
   "id": "6b8813fd-d46a-454c-b4c1-683670c46cb9",
   "metadata": {},
   "outputs": [
    {
     "data": {
      "text/plain": [
       "'I ate 10 apples. so I was sick for 3 days.'"
      ]
     },
     "execution_count": 186,
     "metadata": {},
     "output_type": "execute_result"
    }
   ],
   "source": [
    "\"I ate {number} apples. so I was sick for {day} days.\".format(number=10, day=3)"
   ]
  },
  {
   "cell_type": "markdown",
   "id": "12cf979a-c9ce-4ca9-8edd-14dfcc28199b",
   "metadata": {},
   "source": [
    "### 인덱스와 이름을 혼용해서 넣기"
   ]
  },
  {
   "cell_type": "code",
   "execution_count": 187,
   "id": "ff67418e-4698-41b9-93d9-9213ea3387e3",
   "metadata": {},
   "outputs": [
    {
     "data": {
      "text/plain": [
       "'I ate 10 apples. so I was sick for 3 days.'"
      ]
     },
     "execution_count": 187,
     "metadata": {},
     "output_type": "execute_result"
    }
   ],
   "source": [
    "\"I ate {0} apples. so I was sick for {day} days.\".format(10, day=3)"
   ]
  },
  {
   "cell_type": "markdown",
   "id": "2605caa8-452f-4597-98a3-1490ffdc6639",
   "metadata": {},
   "source": [
    "### 왼쪽 정렬"
   ]
  },
  {
   "cell_type": "code",
   "execution_count": 188,
   "id": "f5e90a46-6551-4238-813c-0553c4713026",
   "metadata": {},
   "outputs": [
    {
     "data": {
      "text/plain": [
       "'hi        '"
      ]
     },
     "execution_count": 188,
     "metadata": {},
     "output_type": "execute_result"
    }
   ],
   "source": [
    "\"{0:<10}\".format(\"hi\")"
   ]
  },
  {
   "cell_type": "markdown",
   "id": "3e4b760a-82cb-457c-8677-ed0d8ba70632",
   "metadata": {},
   "source": [
    "### 오른쪽 정렬"
   ]
  },
  {
   "cell_type": "code",
   "execution_count": 189,
   "id": "c6ef6959-1747-4258-914b-311050102e0f",
   "metadata": {},
   "outputs": [
    {
     "data": {
      "text/plain": [
       "'        hi'"
      ]
     },
     "execution_count": 189,
     "metadata": {},
     "output_type": "execute_result"
    }
   ],
   "source": [
    "\"{0:>10}\".format(\"hi\")"
   ]
  },
  {
   "cell_type": "markdown",
   "id": "369f7a9a-5e17-41a6-ac3e-61bdc16e0e0a",
   "metadata": {},
   "source": [
    "### 가운데 정렬"
   ]
  },
  {
   "cell_type": "code",
   "execution_count": 190,
   "id": "725b3755-7011-4c01-8b3b-67ef9c231a05",
   "metadata": {},
   "outputs": [
    {
     "data": {
      "text/plain": [
       "'    hi    '"
      ]
     },
     "execution_count": 190,
     "metadata": {},
     "output_type": "execute_result"
    }
   ],
   "source": [
    "\"{0:^10}\".format(\"hi\")"
   ]
  },
  {
   "cell_type": "markdown",
   "id": "8c05478d-16ff-4f44-b12e-51abc8053c6c",
   "metadata": {},
   "source": [
    "### 공백 채우기"
   ]
  },
  {
   "cell_type": "code",
   "execution_count": 191,
   "id": "eb46d9f7-ecb3-471b-aa8c-b5753069fb02",
   "metadata": {},
   "outputs": [
    {
     "data": {
      "text/plain": [
       "'====hi===='"
      ]
     },
     "execution_count": 191,
     "metadata": {},
     "output_type": "execute_result"
    }
   ],
   "source": [
    "\"{0:=^10}\".format(\"hi\")"
   ]
  },
  {
   "cell_type": "code",
   "execution_count": 192,
   "id": "aebaf038-3bba-446d-9a74-9636eb580898",
   "metadata": {},
   "outputs": [
    {
     "data": {
      "text/plain": [
       "'hi!!!!!!!!'"
      ]
     },
     "execution_count": 192,
     "metadata": {},
     "output_type": "execute_result"
    }
   ],
   "source": [
    "\"{0:!<10}\".format(\"hi\")"
   ]
  },
  {
   "cell_type": "markdown",
   "id": "dbf1a624-f8cb-478a-83a7-59b8697845c8",
   "metadata": {},
   "source": [
    "### 소수점 표현하기"
   ]
  },
  {
   "cell_type": "code",
   "execution_count": 193,
   "id": "b7f63724-fcf7-4c56-bcaf-39d9f64b63de",
   "metadata": {},
   "outputs": [
    {
     "data": {
      "text/plain": [
       "'3.4213'"
      ]
     },
     "execution_count": 193,
     "metadata": {},
     "output_type": "execute_result"
    }
   ],
   "source": [
    "y = 3.42134234\n",
    "\"{0:0.4f}\".format(y)"
   ]
  },
  {
   "cell_type": "code",
   "execution_count": 194,
   "id": "decbd4ff-b941-4832-adea-0fa1e409bf1b",
   "metadata": {},
   "outputs": [
    {
     "data": {
      "text/plain": [
       "'    3.4213'"
      ]
     },
     "execution_count": 194,
     "metadata": {},
     "output_type": "execute_result"
    }
   ],
   "source": [
    "\"{0:10.4f}\".format(y)"
   ]
  },
  {
   "cell_type": "markdown",
   "id": "f99111fd-b0ea-4d27-b0ec-ebfb19d5e444",
   "metadata": {},
   "source": [
    "### { 또는 } 문자 표현하기"
   ]
  },
  {
   "cell_type": "code",
   "execution_count": 195,
   "id": "0d2923b6-4e15-4d68-aee1-fd0449092410",
   "metadata": {},
   "outputs": [
    {
     "data": {
      "text/plain": [
       "'{ and }'"
      ]
     },
     "execution_count": 195,
     "metadata": {},
     "output_type": "execute_result"
    }
   ],
   "source": [
    "\"{{ and }}\".format()"
   ]
  },
  {
   "cell_type": "markdown",
   "id": "e1f4c8af-664f-4fbe-bbe7-4cc261f08f13",
   "metadata": {},
   "source": [
    "# f문자열 포매팅"
   ]
  },
  {
   "cell_type": "code",
   "execution_count": 196,
   "id": "62e9fdb7-a06e-4bee-9afc-f4a3a3720cd6",
   "metadata": {},
   "outputs": [
    {
     "data": {
      "text/plain": [
       "'나의 이름은 홍길동입니다. 나이는 30입니다.'"
      ]
     },
     "execution_count": 196,
     "metadata": {},
     "output_type": "execute_result"
    }
   ],
   "source": [
    "name = \"홍길동\"\n",
    "age = 30\n",
    "f\"나의 이름은 {name}입니다. 나이는 {age}입니다.\""
   ]
  },
  {
   "cell_type": "code",
   "execution_count": 197,
   "id": "a5211431-0a0a-45d4-9958-a9dedb25807d",
   "metadata": {},
   "outputs": [
    {
     "data": {
      "text/plain": [
       "'나는 내년이면 31살이 된다.'"
      ]
     },
     "execution_count": 197,
     "metadata": {},
     "output_type": "execute_result"
    }
   ],
   "source": [
    "f'나는 내년이면 {age+1}살이 된다.'"
   ]
  },
  {
   "cell_type": "code",
   "execution_count": 198,
   "id": "6584d5ac-e298-4066-b764-7df586ddfb9a",
   "metadata": {},
   "outputs": [
    {
     "data": {
      "text/plain": [
       "'나의 이름은 홍길동입니다. 나이는 30입니다.'"
      ]
     },
     "execution_count": 198,
     "metadata": {},
     "output_type": "execute_result"
    }
   ],
   "source": [
    "d = {'name':'홍길동', 'age':30}\n",
    "f\"나의 이름은 {d['name']}입니다. 나이는 {d['age']}입니다.\""
   ]
  },
  {
   "cell_type": "code",
   "execution_count": 199,
   "id": "aa09ee88-07ca-435c-8589-5df82bf795e5",
   "metadata": {},
   "outputs": [
    {
     "data": {
      "text/plain": [
       "'hi        '"
      ]
     },
     "execution_count": 199,
     "metadata": {},
     "output_type": "execute_result"
    }
   ],
   "source": [
    "f'{\"hi\":<10}'"
   ]
  },
  {
   "cell_type": "code",
   "execution_count": 200,
   "id": "e97cc4b9-e742-4037-914b-ab65b98263e5",
   "metadata": {},
   "outputs": [
    {
     "data": {
      "text/plain": [
       "'        hi'"
      ]
     },
     "execution_count": 200,
     "metadata": {},
     "output_type": "execute_result"
    }
   ],
   "source": [
    "f'{\"hi\":>10}'"
   ]
  },
  {
   "cell_type": "code",
   "execution_count": 201,
   "id": "71707b3c-bfdd-4f2a-b49f-da149ef80934",
   "metadata": {},
   "outputs": [
    {
     "data": {
      "text/plain": [
       "'    hi    '"
      ]
     },
     "execution_count": 201,
     "metadata": {},
     "output_type": "execute_result"
    }
   ],
   "source": [
    "f'{\"hi\":^10}'"
   ]
  },
  {
   "cell_type": "code",
   "execution_count": 202,
   "id": "d7e4bfc4-f6c7-483e-a06b-3ab7a877d93f",
   "metadata": {},
   "outputs": [
    {
     "data": {
      "text/plain": [
       "'====hi===='"
      ]
     },
     "execution_count": 202,
     "metadata": {},
     "output_type": "execute_result"
    }
   ],
   "source": [
    "f'{\"hi\":=^10}'"
   ]
  },
  {
   "cell_type": "code",
   "execution_count": 203,
   "id": "a1d20db2-ea4d-4ac3-8cb2-9f41c27beb11",
   "metadata": {},
   "outputs": [
    {
     "data": {
      "text/plain": [
       "'hi!!!!!!!!'"
      ]
     },
     "execution_count": 203,
     "metadata": {},
     "output_type": "execute_result"
    }
   ],
   "source": [
    "f'{\"hi\":!<10}'"
   ]
  },
  {
   "cell_type": "code",
   "execution_count": 204,
   "id": "c82d04b6-20e2-4e84-b340-7724f9835ddb",
   "metadata": {},
   "outputs": [
    {
     "data": {
      "text/plain": [
       "'3.4213'"
      ]
     },
     "execution_count": 204,
     "metadata": {},
     "output_type": "execute_result"
    }
   ],
   "source": [
    "y = 3.42134234\n",
    "f'{y:0.4f}'"
   ]
  },
  {
   "cell_type": "code",
   "execution_count": 205,
   "id": "b0084703-07bb-4518-92b8-47c44f61d26b",
   "metadata": {},
   "outputs": [
    {
     "data": {
      "text/plain": [
       "'    3.4213'"
      ]
     },
     "execution_count": 205,
     "metadata": {},
     "output_type": "execute_result"
    }
   ],
   "source": [
    "f'{y:10.4f}'"
   ]
  },
  {
   "cell_type": "markdown",
   "id": "ddc40ce2-17a8-4d30-8308-41fbe9cb2841",
   "metadata": {},
   "source": [
    "# 문자열 관련 함수들"
   ]
  },
  {
   "cell_type": "markdown",
   "id": "74091517-cd2d-4e93-9538-0c40d637e8e3",
   "metadata": {},
   "source": [
    "### 문자 개수 세기 - count"
   ]
  },
  {
   "cell_type": "code",
   "execution_count": 206,
   "id": "a7e173d4-b43d-4e14-a863-c45667231272",
   "metadata": {},
   "outputs": [
    {
     "data": {
      "text/plain": [
       "2"
      ]
     },
     "execution_count": 206,
     "metadata": {},
     "output_type": "execute_result"
    }
   ],
   "source": [
    "a = \"hobby\"\n",
    "a.count('b')"
   ]
  },
  {
   "cell_type": "markdown",
   "id": "6c9d99cf-87d8-4c97-bd04-1a4f470b6b0b",
   "metadata": {},
   "source": [
    "### 위치 알려주기1 - find"
   ]
  },
  {
   "cell_type": "code",
   "execution_count": 207,
   "id": "1b9095e1-4428-48b5-9ec5-b123b2f8e050",
   "metadata": {},
   "outputs": [
    {
     "data": {
      "text/plain": [
       "14"
      ]
     },
     "execution_count": 207,
     "metadata": {},
     "output_type": "execute_result"
    }
   ],
   "source": [
    "a = \"Python is the best choice\"\n",
    "a.find('b')"
   ]
  },
  {
   "cell_type": "code",
   "execution_count": 208,
   "id": "58739479-054f-4c38-91dd-6b6cd76d0b25",
   "metadata": {},
   "outputs": [
    {
     "data": {
      "text/plain": [
       "-1"
      ]
     },
     "execution_count": 208,
     "metadata": {},
     "output_type": "execute_result"
    }
   ],
   "source": [
    "a.find('k')"
   ]
  },
  {
   "cell_type": "markdown",
   "id": "69e6380a-b335-4440-a0f8-ac2c51c85962",
   "metadata": {},
   "source": [
    "### 위치 알려주기2 - index"
   ]
  },
  {
   "cell_type": "code",
   "execution_count": 209,
   "id": "3325341d-d828-4f9e-ad7e-088fcd5b8604",
   "metadata": {},
   "outputs": [
    {
     "data": {
      "text/plain": [
       "8"
      ]
     },
     "execution_count": 209,
     "metadata": {},
     "output_type": "execute_result"
    }
   ],
   "source": [
    "a = \"Life is too short\"\n",
    "a.index('t')"
   ]
  },
  {
   "cell_type": "code",
   "execution_count": 210,
   "id": "e68bc73f-bf8e-4cdd-ada4-49341312e4b2",
   "metadata": {},
   "outputs": [
    {
     "ename": "ValueError",
     "evalue": "substring not found",
     "output_type": "error",
     "traceback": [
      "\u001b[1;31m---------------------------------------------------------------------------\u001b[0m",
      "\u001b[1;31mValueError\u001b[0m                                Traceback (most recent call last)",
      "Cell \u001b[1;32mIn[210], line 1\u001b[0m\n\u001b[1;32m----> 1\u001b[0m a\u001b[38;5;241m.\u001b[39mindex(\u001b[38;5;124m'\u001b[39m\u001b[38;5;124mk\u001b[39m\u001b[38;5;124m'\u001b[39m)\n",
      "\u001b[1;31mValueError\u001b[0m: substring not found"
     ]
    }
   ],
   "source": [
    "a.index('k')"
   ]
  },
  {
   "cell_type": "markdown",
   "id": "9076ae56-2a6f-4a74-86a3-2196b4623c48",
   "metadata": {},
   "source": [
    "### 문자열 삽입 - join"
   ]
  },
  {
   "cell_type": "code",
   "execution_count": 211,
   "id": "e7a4740b-30af-46a8-97f8-f8e4a8f9bb62",
   "metadata": {},
   "outputs": [
    {
     "data": {
      "text/plain": [
       "'a,b,c,d'"
      ]
     },
     "execution_count": 211,
     "metadata": {},
     "output_type": "execute_result"
    }
   ],
   "source": [
    "\",\".join('abcd')"
   ]
  },
  {
   "cell_type": "code",
   "execution_count": 212,
   "id": "aea7d427-0aa6-4f0b-8364-fd8edbffe61b",
   "metadata": {},
   "outputs": [
    {
     "data": {
      "text/plain": [
       "'a,b,c,d'"
      ]
     },
     "execution_count": 212,
     "metadata": {},
     "output_type": "execute_result"
    }
   ],
   "source": [
    "\",\".join(['a','b','c','d'])"
   ]
  },
  {
   "cell_type": "markdown",
   "id": "673aaac6-908d-411d-a1ba-680fb0bb7357",
   "metadata": {},
   "source": [
    "### 소문자를 대문자로 바꾸기 - upper"
   ]
  },
  {
   "cell_type": "code",
   "execution_count": 213,
   "id": "44c83430-f4de-496a-b4fe-3c2ca1549bed",
   "metadata": {},
   "outputs": [
    {
     "data": {
      "text/plain": [
       "'HI'"
      ]
     },
     "execution_count": 213,
     "metadata": {},
     "output_type": "execute_result"
    }
   ],
   "source": [
    "a = 'hi'\n",
    "a.upper()"
   ]
  },
  {
   "cell_type": "markdown",
   "id": "c83c79e9-e5ed-459a-bbc6-e168d5b07bac",
   "metadata": {},
   "source": [
    "### 대문자를 소문자로 바꾸기 - lower"
   ]
  },
  {
   "cell_type": "code",
   "execution_count": 214,
   "id": "a1f9b2cf-b5af-4063-91e6-c91d48fdc787",
   "metadata": {},
   "outputs": [
    {
     "data": {
      "text/plain": [
       "'hi'"
      ]
     },
     "execution_count": 214,
     "metadata": {},
     "output_type": "execute_result"
    }
   ],
   "source": [
    "a = \"HI\"\n",
    "a.lower()"
   ]
  },
  {
   "cell_type": "markdown",
   "id": "3538ef7e-6505-46e8-ae94-1a10a4fae821",
   "metadata": {},
   "source": [
    "### 왼쪽 공백 지우기 - lstrip"
   ]
  },
  {
   "cell_type": "code",
   "execution_count": 215,
   "id": "1a26cb08-1d2a-47c0-acc1-441b8d547005",
   "metadata": {},
   "outputs": [
    {
     "data": {
      "text/plain": [
       "'hi '"
      ]
     },
     "execution_count": 215,
     "metadata": {},
     "output_type": "execute_result"
    }
   ],
   "source": [
    "a = \" hi \"\n",
    "a.lstrip()"
   ]
  },
  {
   "cell_type": "markdown",
   "id": "373148b0-0110-4bbe-8836-58a5f297174d",
   "metadata": {},
   "source": [
    "### 오른쪽 공백 지우기 - rstrip"
   ]
  },
  {
   "cell_type": "code",
   "execution_count": 216,
   "id": "d375c170-4cc8-439f-8fd4-2eedcd262685",
   "metadata": {},
   "outputs": [
    {
     "data": {
      "text/plain": [
       "' hi'"
      ]
     },
     "execution_count": 216,
     "metadata": {},
     "output_type": "execute_result"
    }
   ],
   "source": [
    "a = \" hi \"\n",
    "a.rstrip()"
   ]
  },
  {
   "cell_type": "markdown",
   "id": "73ebfeaa-7baf-4ad6-aa86-8a01b3b85706",
   "metadata": {},
   "source": [
    "### 양쪽 공백 지우기 - strip"
   ]
  },
  {
   "cell_type": "code",
   "execution_count": 217,
   "id": "202387cc-791f-409e-908b-4332a36a1674",
   "metadata": {},
   "outputs": [
    {
     "data": {
      "text/plain": [
       "'hi'"
      ]
     },
     "execution_count": 217,
     "metadata": {},
     "output_type": "execute_result"
    }
   ],
   "source": [
    "a = \" hi \"\n",
    "a.strip()"
   ]
  },
  {
   "cell_type": "markdown",
   "id": "0740fede-b2e5-434f-b2c7-92d83149ffdf",
   "metadata": {},
   "source": [
    "### 문자열 바꾸기 - replace"
   ]
  },
  {
   "cell_type": "code",
   "execution_count": 218,
   "id": "6404712a-64a5-46dd-8a5f-832fb6393070",
   "metadata": {},
   "outputs": [
    {
     "data": {
      "text/plain": [
       "'Your leg is too short'"
      ]
     },
     "execution_count": 218,
     "metadata": {},
     "output_type": "execute_result"
    }
   ],
   "source": [
    "a = \"Life is too short\"\n",
    "a.replace(\"Life\",\"Your leg\")"
   ]
  },
  {
   "cell_type": "markdown",
   "id": "2af7e20c-7fb5-41f9-bdb8-5ee33a05b454",
   "metadata": {},
   "source": [
    "### 문자열 나누기 - split"
   ]
  },
  {
   "cell_type": "code",
   "execution_count": 219,
   "id": "9a605499-e01f-4a1b-8b60-946ef4077da4",
   "metadata": {},
   "outputs": [
    {
     "data": {
      "text/plain": [
       "['Life', 'is', 'too', 'short']"
      ]
     },
     "execution_count": 219,
     "metadata": {},
     "output_type": "execute_result"
    }
   ],
   "source": [
    "a = \"Life is too short\"\n",
    "a.split()"
   ]
  },
  {
   "cell_type": "code",
   "execution_count": 220,
   "id": "0e739549-4987-4db8-a725-fcf3ab3ab373",
   "metadata": {},
   "outputs": [
    {
     "data": {
      "text/plain": [
       "['a', 'b', 'c', 'd']"
      ]
     },
     "execution_count": 220,
     "metadata": {},
     "output_type": "execute_result"
    }
   ],
   "source": [
    "b = \"a:b:c:d\"\n",
    "b.split(':')"
   ]
  },
  {
   "cell_type": "markdown",
   "id": "be71df75-703f-4476-8597-51507863c4ce",
   "metadata": {},
   "source": [
    "### ** 착각하기 쉬운 문자열 함수"
   ]
  },
  {
   "cell_type": "code",
   "execution_count": 221,
   "id": "874281df-f9f3-4438-9276-03d41be31034",
   "metadata": {},
   "outputs": [
    {
     "data": {
      "text/plain": [
       "'HI'"
      ]
     },
     "execution_count": 221,
     "metadata": {},
     "output_type": "execute_result"
    }
   ],
   "source": [
    "a = \"hi\"\n",
    "a.upper()"
   ]
  },
  {
   "cell_type": "code",
   "execution_count": 222,
   "id": "8b0c9576-1970-4ca4-8032-b17b4db82188",
   "metadata": {},
   "outputs": [
    {
     "data": {
      "text/plain": [
       "'hi'"
      ]
     },
     "execution_count": 222,
     "metadata": {},
     "output_type": "execute_result"
    }
   ],
   "source": [
    "a"
   ]
  },
  {
   "cell_type": "code",
   "execution_count": 223,
   "id": "f458acfe-0223-4430-b2bb-0741a7adb05c",
   "metadata": {},
   "outputs": [
    {
     "data": {
      "text/plain": [
       "'HI'"
      ]
     },
     "execution_count": 223,
     "metadata": {},
     "output_type": "execute_result"
    }
   ],
   "source": [
    "a = a.upper() # 문자열은 immutable자료형 -> a값을 바꾸려면 대입문 사용\n",
    "a"
   ]
  }
 ],
 "metadata": {
  "kernelspec": {
   "display_name": "Python 3 (ipykernel)",
   "language": "python",
   "name": "python3"
  },
  "language_info": {
   "codemirror_mode": {
    "name": "ipython",
    "version": 3
   },
   "file_extension": ".py",
   "mimetype": "text/x-python",
   "name": "python",
   "nbconvert_exporter": "python",
   "pygments_lexer": "ipython3",
   "version": "3.12.4"
  }
 },
 "nbformat": 4,
 "nbformat_minor": 5
}
