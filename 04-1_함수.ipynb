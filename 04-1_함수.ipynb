{
 "cells": [
  {
   "cell_type": "markdown",
   "id": "876badef-2384-48bf-a0a0-489a7201d1ed",
   "metadata": {},
   "source": [
    "# 파이썬 함수의 구조"
   ]
  },
  {
   "cell_type": "code",
   "execution_count": 1,
   "id": "d8f1152e-1cbe-4909-b18c-b3f22725d463",
   "metadata": {},
   "outputs": [],
   "source": [
    "# 함수 정의\n",
    "def add(a,b):\n",
    "    return a + b"
   ]
  },
  {
   "cell_type": "code",
   "execution_count": 2,
   "id": "94e7f381-da6d-40f1-9ee9-8cb0a172d778",
   "metadata": {},
   "outputs": [
    {
     "data": {
      "text/plain": [
       "7"
      ]
     },
     "execution_count": 2,
     "metadata": {},
     "output_type": "execute_result"
    }
   ],
   "source": [
    "# 함수 \n",
    "a = 3\n",
    "b = 4\n",
    "c = add(a,b)  # add(3, 4)의 리턴값을 c에 대입\n",
    "c"
   ]
  },
  {
   "cell_type": "markdown",
   "id": "53a77d79-78e0-439a-ac5a-0e996d341b9a",
   "metadata": {},
   "source": [
    "# 매개변수(parameter)와 인수(arguments)"
   ]
  },
  {
   "cell_type": "code",
   "execution_count": 3,
   "id": "9b0ddd97-cc67-4388-9138-e73c30c0f7de",
   "metadata": {},
   "outputs": [
    {
     "data": {
      "text/plain": [
       "7"
      ]
     },
     "execution_count": 3,
     "metadata": {},
     "output_type": "execute_result"
    }
   ],
   "source": [
    "def add(a,b):  # a, b는 매개변수\n",
    "    return a+b\n",
    "\n",
    "add(3,4)  # 3, 4는 인수"
   ]
  },
  {
   "cell_type": "markdown",
   "id": "4822300d-cd3f-47b5-afa1-e8543feef721",
   "metadata": {},
   "source": [
    "# 입력값과 리턴값에 따른 함수의 형태\n",
    "### 1. 입력값이 있고 리턴값이 있는 함수"
   ]
  },
  {
   "cell_type": "code",
   "execution_count": 4,
   "id": "be4d0a1a-150d-4d61-9d9c-fe1077d980f9",
   "metadata": {},
   "outputs": [],
   "source": [
    "def add(a, b): \n",
    "    result = a + b \n",
    "    return result"
   ]
  },
  {
   "cell_type": "code",
   "execution_count": 5,
   "id": "83581b33-3a12-440b-92f8-fa5914d94ea7",
   "metadata": {},
   "outputs": [
    {
     "data": {
      "text/plain": [
       "7"
      ]
     },
     "execution_count": 5,
     "metadata": {},
     "output_type": "execute_result"
    }
   ],
   "source": [
    "add(3,4)"
   ]
  },
  {
   "cell_type": "markdown",
   "id": "3ba32572-c799-4fab-9e18-408f346485f6",
   "metadata": {},
   "source": [
    "### 2. 입력값이 없는 함수"
   ]
  },
  {
   "cell_type": "code",
   "execution_count": 6,
   "id": "3b331ed9-85b9-4f0b-b850-2deae9d9a628",
   "metadata": {},
   "outputs": [],
   "source": [
    "def say():\n",
    "    return 'Hi'"
   ]
  },
  {
   "cell_type": "code",
   "execution_count": 7,
   "id": "61f89919-fa3f-4935-95a4-e91b226abc2f",
   "metadata": {},
   "outputs": [
    {
     "name": "stdout",
     "output_type": "stream",
     "text": [
      "Hi\n"
     ]
    }
   ],
   "source": [
    "a = say()\n",
    "print(a)"
   ]
  },
  {
   "cell_type": "markdown",
   "id": "a01e7c3b-474b-4f1c-95ec-e321b0af1925",
   "metadata": {},
   "source": [
    "### 3. 리턴값이 없는 함수"
   ]
  },
  {
   "cell_type": "code",
   "execution_count": 8,
   "id": "3a508066-fdcd-448b-b752-aab85b7b75d0",
   "metadata": {},
   "outputs": [],
   "source": [
    "def add(a, b):\n",
    "    print(\"%d, %d의 합은 %d입니다.\" % (a, b, a+b))"
   ]
  },
  {
   "cell_type": "code",
   "execution_count": 9,
   "id": "21bc4180-51b7-422b-a7d9-268e9080670b",
   "metadata": {},
   "outputs": [
    {
     "name": "stdout",
     "output_type": "stream",
     "text": [
      "3, 4의 합은 7입니다.\n"
     ]
    }
   ],
   "source": [
    "add(3,4)"
   ]
  },
  {
   "cell_type": "code",
   "execution_count": 10,
   "id": "f55213e4-e76e-4534-8659-3d184ce85320",
   "metadata": {},
   "outputs": [
    {
     "name": "stdout",
     "output_type": "stream",
     "text": [
      "3, 4의 합은 7입니다.\n",
      "None\n"
     ]
    }
   ],
   "source": [
    "# None을 리턴한다는 것은 리턴값이 없다는 것\n",
    "print(add(3,4))"
   ]
  },
  {
   "cell_type": "markdown",
   "id": "ed011041-7a02-46a4-b0e9-61dd2ac610fa",
   "metadata": {},
   "source": [
    "### 4. 입력값도, 리턴값도 없는 함수"
   ]
  },
  {
   "cell_type": "code",
   "execution_count": 11,
   "id": "86713aa2-55ec-42e0-aabc-dfc9cff1de65",
   "metadata": {},
   "outputs": [],
   "source": [
    "def say():\n",
    "    print('Hi')"
   ]
  },
  {
   "cell_type": "code",
   "execution_count": 12,
   "id": "ca8811c4-265f-4630-a35a-470bda95bcd7",
   "metadata": {},
   "outputs": [
    {
     "name": "stdout",
     "output_type": "stream",
     "text": [
      "Hi\n"
     ]
    }
   ],
   "source": [
    "say()"
   ]
  },
  {
   "cell_type": "markdown",
   "id": "d2c6ae48-4a73-4910-95d3-c5d1b5f75d94",
   "metadata": {},
   "source": [
    "# 매개변수를 지정하여 호출하기"
   ]
  },
  {
   "cell_type": "code",
   "execution_count": 13,
   "id": "23d23f32-fee0-4fdf-9a22-42b62d9e3a48",
   "metadata": {},
   "outputs": [],
   "source": [
    "def sub(a,b):\n",
    "    return a - b"
   ]
  },
  {
   "cell_type": "code",
   "execution_count": 14,
   "id": "9e2a9d2b-1f55-4fa0-9246-d4c4a18df3a5",
   "metadata": {},
   "outputs": [
    {
     "name": "stdout",
     "output_type": "stream",
     "text": [
      "4\n"
     ]
    }
   ],
   "source": [
    "result = sub(a=7, b=3)  # a에 7, b에 3을 전달\n",
    "print(result)"
   ]
  },
  {
   "cell_type": "code",
   "execution_count": 15,
   "id": "4c0c74d1-b017-4ef7-b3db-756ef6685a42",
   "metadata": {},
   "outputs": [
    {
     "name": "stdout",
     "output_type": "stream",
     "text": [
      "-2\n"
     ]
    }
   ],
   "source": [
    "# 매개변수를 지정하면 다음과 같이 순서에 상관없이 사용\n",
    "result = sub(b=5, a=3)\n",
    "print(result)"
   ]
  },
  {
   "cell_type": "markdown",
   "id": "7df24b6d-ee7f-482c-bba3-abeca812403a",
   "metadata": {},
   "source": [
    "# 입력값이 몇 개가 될지 모를 때는 어떻게 해야 할까?\n",
    "괄호 안의 매개변수 부분이 *매개변수로\n",
    "\n",
    "### 여러 개의 입력값을 받는 함수 만들기"
   ]
  },
  {
   "cell_type": "code",
   "execution_count": 16,
   "id": "9d203e13-b8d2-4949-ad79-737b0b57eacb",
   "metadata": {},
   "outputs": [],
   "source": [
    "def add_many(*args):\n",
    "    result = 0\n",
    "    for i in args:\n",
    "        result += i\n",
    "    return result"
   ]
  },
  {
   "cell_type": "code",
   "execution_count": 17,
   "id": "dbc15025-7406-49f6-8be9-b0cd8935bae1",
   "metadata": {},
   "outputs": [
    {
     "name": "stdout",
     "output_type": "stream",
     "text": [
      "6\n"
     ]
    }
   ],
   "source": [
    "result = add_many(1,2,3)\n",
    "print(result)"
   ]
  },
  {
   "cell_type": "code",
   "execution_count": 18,
   "id": "74fecc82-6946-4f35-bdee-31c98c30d286",
   "metadata": {},
   "outputs": [
    {
     "name": "stdout",
     "output_type": "stream",
     "text": [
      "55\n"
     ]
    }
   ],
   "source": [
    "result = add_many(1,2,3,4,5,6,7,8,9,10)\n",
    "print(result)"
   ]
  },
  {
   "cell_type": "code",
   "execution_count": 19,
   "id": "d8b2414c-73e2-483f-8aa1-f74c851ceb09",
   "metadata": {},
   "outputs": [],
   "source": [
    "def add_mul(choice, *args):\n",
    "    if choice == 'add':\n",
    "        result = 0\n",
    "        for i in args:\n",
    "            result += i\n",
    "    elif choice == 'mul':\n",
    "        result = 1\n",
    "        for i in args:\n",
    "            result *= i\n",
    "    return result"
   ]
  },
  {
   "cell_type": "code",
   "execution_count": 20,
   "id": "36197c0d-c29a-4971-bb9f-375f386d9751",
   "metadata": {},
   "outputs": [
    {
     "name": "stdout",
     "output_type": "stream",
     "text": [
      "15\n"
     ]
    }
   ],
   "source": [
    "result = add_mul('add',1,2,3,4,5)\n",
    "print(result)"
   ]
  },
  {
   "cell_type": "code",
   "execution_count": 21,
   "id": "fc429205-f36d-49ef-9b21-118d535b9bca",
   "metadata": {},
   "outputs": [
    {
     "name": "stdout",
     "output_type": "stream",
     "text": [
      "120\n"
     ]
    }
   ],
   "source": [
    "result = add_mul('mul',1,2,3,4,5)\n",
    "print(result)"
   ]
  },
  {
   "cell_type": "markdown",
   "id": "804eaf62-2fed-49db-a068-00642f4c3aa5",
   "metadata": {},
   "source": [
    "### 키워드 매개변수, kwargs"
   ]
  },
  {
   "cell_type": "code",
   "execution_count": 22,
   "id": "39d9cc22-c8f2-4c9c-b7dd-998931e588fc",
   "metadata": {},
   "outputs": [],
   "source": [
    "def print_kwargs(**kwargs):\n",
    "    print(kwargs)"
   ]
  },
  {
   "cell_type": "code",
   "execution_count": 23,
   "id": "87697197-e2b4-4808-8986-c33e587b2020",
   "metadata": {},
   "outputs": [
    {
     "name": "stdout",
     "output_type": "stream",
     "text": [
      "{'a': 1}\n"
     ]
    }
   ],
   "source": [
    "print_kwargs(a=1)"
   ]
  },
  {
   "cell_type": "code",
   "execution_count": 24,
   "id": "e235bcee-032e-45bd-a886-57322253fd46",
   "metadata": {},
   "outputs": [
    {
     "name": "stdout",
     "output_type": "stream",
     "text": [
      "{'name': 'foo', 'age': 3}\n"
     ]
    }
   ],
   "source": [
    "print_kwargs(name='foo', age=3)"
   ]
  },
  {
   "cell_type": "markdown",
   "id": "cb0e4e24-576d-4aba-b7aa-1676789e2bcf",
   "metadata": {},
   "source": [
    "# 함수의 리턴값은 언제나 하나이다"
   ]
  },
  {
   "cell_type": "code",
   "execution_count": 25,
   "id": "039c044f-c051-4bed-b144-0af678e9086d",
   "metadata": {},
   "outputs": [],
   "source": [
    "def add_and_mul(a,b):\n",
    "    return a+b, a*b"
   ]
  },
  {
   "cell_type": "code",
   "execution_count": 26,
   "id": "dfcf7f7b-b4c3-4169-93c5-4137cc303f0b",
   "metadata": {},
   "outputs": [
    {
     "name": "stdout",
     "output_type": "stream",
     "text": [
      "(7, 12)\n"
     ]
    }
   ],
   "source": [
    "result = add_and_mul(3,4)\n",
    "print(result)  # 결괏값으로 (7, 12)라는 튜플 값을 가지게 됨"
   ]
  },
  {
   "cell_type": "code",
   "execution_count": 27,
   "id": "40bfc15f-9175-4831-9055-e7a3f3051385",
   "metadata": {},
   "outputs": [
    {
     "name": "stdout",
     "output_type": "stream",
     "text": [
      "7\n",
      "12\n"
     ]
    }
   ],
   "source": [
    "# 하나의 튜플 값을 2개의 값으로 분리하여 받고 싶다면\n",
    "result1, result2 = add_and_mul(3,4)\n",
    "print(result1)\n",
    "print(result2)"
   ]
  },
  {
   "cell_type": "code",
   "execution_count": 28,
   "id": "5506cdb5-b792-45df-ad7c-447aebf6739c",
   "metadata": {},
   "outputs": [],
   "source": [
    "def add_and_mul(a,b):\n",
    "    return a+b  # 함수는 return 문을 만나는 순간, 리턴값을 돌려 주고 함수를 빠져나가게 된다.\n",
    "    return a*b"
   ]
  },
  {
   "cell_type": "code",
   "execution_count": 29,
   "id": "a9cc0120-091b-40ab-b516-b8b0f36a7bdb",
   "metadata": {},
   "outputs": [
    {
     "name": "stdout",
     "output_type": "stream",
     "text": [
      "7\n"
     ]
    }
   ],
   "source": [
    "result = add_and_mul(3,4)\n",
    "print(result)"
   ]
  },
  {
   "cell_type": "markdown",
   "id": "5449a99c-0eec-4569-be98-1c8ae32616c1",
   "metadata": {},
   "source": [
    "### ** return의 또 다른 쓰임새"
   ]
  },
  {
   "cell_type": "code",
   "execution_count": 30,
   "id": "b6d585e5-afa4-4e5a-a6af-120f420835b8",
   "metadata": {},
   "outputs": [],
   "source": [
    "def say_nick(nick):\n",
    "    if nick == '바보': return\n",
    "    print(\"나의 별명은 %s 입니다.\" % nick)"
   ]
  },
  {
   "cell_type": "code",
   "execution_count": 31,
   "id": "7f29db1e-bd33-431d-87bc-8d42d828b321",
   "metadata": {},
   "outputs": [
    {
     "name": "stdout",
     "output_type": "stream",
     "text": [
      "나의 별명은 야호 입니다.\n"
     ]
    }
   ],
   "source": [
    "say_nick('야호')"
   ]
  },
  {
   "cell_type": "code",
   "execution_count": 32,
   "id": "7c39331a-fa9f-4674-b6cf-77c9bf161c98",
   "metadata": {},
   "outputs": [],
   "source": [
    "say_nick('바보')"
   ]
  }
 ],
 "metadata": {
  "kernelspec": {
   "display_name": "Python 3 (ipykernel)",
   "language": "python",
   "name": "python3"
  },
  "language_info": {
   "codemirror_mode": {
    "name": "ipython",
    "version": 3
   },
   "file_extension": ".py",
   "mimetype": "text/x-python",
   "name": "python",
   "nbconvert_exporter": "python",
   "pygments_lexer": "ipython3",
   "version": "3.12.4"
  }
 },
 "nbformat": 4,
 "nbformat_minor": 5
}
