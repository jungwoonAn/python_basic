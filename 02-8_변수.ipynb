{
 "cells": [
  {
   "cell_type": "markdown",
   "id": "0d9604ff-4fec-44b3-b927-805d68b2e5f1",
   "metadata": {},
   "source": [
    "# 변수란?"
   ]
  },
  {
   "cell_type": "code",
   "execution_count": 1,
   "id": "597af4d9-f818-4b14-be8e-e9efb43e9a16",
   "metadata": {},
   "outputs": [],
   "source": [
    "a = [1,2,3]"
   ]
  },
  {
   "cell_type": "code",
   "execution_count": 2,
   "id": "a830f293-0626-452a-bb95-14dfc3512a46",
   "metadata": {},
   "outputs": [
    {
     "data": {
      "text/plain": [
       "1778815225920"
      ]
     },
     "execution_count": 2,
     "metadata": {},
     "output_type": "execute_result"
    }
   ],
   "source": [
    "# a 변수가 가리키는 메모리의 주소 값\n",
    "id(a)"
   ]
  },
  {
   "cell_type": "markdown",
   "id": "a4c48017-5892-46f3-9e1a-4510a2fccc5b",
   "metadata": {},
   "source": [
    "# 리스트를 복사하고자 할 때"
   ]
  },
  {
   "cell_type": "code",
   "execution_count": 3,
   "id": "b26e15ad-9c09-4eec-ad4e-d97dd629b39c",
   "metadata": {},
   "outputs": [],
   "source": [
    "a = [1,2,3]\n",
    "b = a"
   ]
  },
  {
   "cell_type": "code",
   "execution_count": 4,
   "id": "7a4b3dc8-ff6e-486d-af78-7a036a4bcc82",
   "metadata": {},
   "outputs": [
    {
     "data": {
      "text/plain": [
       "1778815337600"
      ]
     },
     "execution_count": 4,
     "metadata": {},
     "output_type": "execute_result"
    }
   ],
   "source": [
    "id(a)"
   ]
  },
  {
   "cell_type": "code",
   "execution_count": 5,
   "id": "8202691a-e0f9-4fcc-a3ce-45e8cf2583e4",
   "metadata": {},
   "outputs": [
    {
     "data": {
      "text/plain": [
       "1778815337600"
      ]
     },
     "execution_count": 5,
     "metadata": {},
     "output_type": "execute_result"
    }
   ],
   "source": [
    "id(b)"
   ]
  },
  {
   "cell_type": "code",
   "execution_count": 6,
   "id": "be5eed34-7534-46e6-a641-be5b0130d98f",
   "metadata": {},
   "outputs": [
    {
     "data": {
      "text/plain": [
       "True"
      ]
     },
     "execution_count": 6,
     "metadata": {},
     "output_type": "execute_result"
    }
   ],
   "source": [
    "a is b  # a와 b가 가리키는 객체가 같을까?"
   ]
  },
  {
   "cell_type": "code",
   "execution_count": 7,
   "id": "00534786-2af3-4170-92d8-7e608715052b",
   "metadata": {},
   "outputs": [
    {
     "data": {
      "text/plain": [
       "[1, 4, 3]"
      ]
     },
     "execution_count": 7,
     "metadata": {},
     "output_type": "execute_result"
    }
   ],
   "source": [
    "a[1] = 4\n",
    "a"
   ]
  },
  {
   "cell_type": "code",
   "execution_count": 8,
   "id": "ff5f8584-5c55-4c6a-8637-bf06769a2dbd",
   "metadata": {},
   "outputs": [
    {
     "data": {
      "text/plain": [
       "[1, 4, 3]"
      ]
     },
     "execution_count": 8,
     "metadata": {},
     "output_type": "execute_result"
    }
   ],
   "source": [
    "b"
   ]
  },
  {
   "cell_type": "markdown",
   "id": "594c47d9-709d-48d2-8069-fc8fe273918a",
   "metadata": {},
   "source": [
    "### ** a 변수의 값을 가져오면서 a와는 다른 주소를 가리키도록 만들 수는 없을까?"
   ]
  },
  {
   "cell_type": "markdown",
   "id": "0cf10da7-63be-4e43-affb-5a4a11b6f089",
   "metadata": {},
   "source": [
    "### 1. [:] 이용하기"
   ]
  },
  {
   "cell_type": "code",
   "execution_count": 9,
   "id": "6dcc2fd8-7cf6-463a-a617-466cc2a57bd9",
   "metadata": {},
   "outputs": [
    {
     "data": {
      "text/plain": [
       "[1, 4, 3]"
      ]
     },
     "execution_count": 9,
     "metadata": {},
     "output_type": "execute_result"
    }
   ],
   "source": [
    "a = [1,2,3]\n",
    "b = a[:]\n",
    "a[1] = 4\n",
    "a"
   ]
  },
  {
   "cell_type": "code",
   "execution_count": 10,
   "id": "264b7a0e-1b02-4f0b-9adf-fc602398a44f",
   "metadata": {},
   "outputs": [
    {
     "data": {
      "text/plain": [
       "[1, 2, 3]"
      ]
     },
     "execution_count": 10,
     "metadata": {},
     "output_type": "execute_result"
    }
   ],
   "source": [
    "b"
   ]
  },
  {
   "cell_type": "markdown",
   "id": "fb8afa51-4ee5-4570-96f2-529b58846066",
   "metadata": {},
   "source": [
    "### 2. copy 모듈 이용하기"
   ]
  },
  {
   "cell_type": "code",
   "execution_count": 11,
   "id": "289887ca-3fc1-4fc3-958d-6b187378f0af",
   "metadata": {},
   "outputs": [],
   "source": [
    "from copy import copy\n",
    "\n",
    "a = [1,2,3]\n",
    "b = copy(a)"
   ]
  },
  {
   "cell_type": "code",
   "execution_count": 12,
   "id": "6b83dba1-fba6-4022-8d83-c9308dffc51c",
   "metadata": {},
   "outputs": [
    {
     "data": {
      "text/plain": [
       "False"
      ]
     },
     "execution_count": 12,
     "metadata": {},
     "output_type": "execute_result"
    }
   ],
   "source": [
    "b is a"
   ]
  },
  {
   "cell_type": "markdown",
   "id": "72503c6d-2225-4f5a-b3d2-8afd7eb91f51",
   "metadata": {},
   "source": [
    "### ** copy 함수 사용하기"
   ]
  },
  {
   "cell_type": "code",
   "execution_count": 13,
   "id": "433f19a5-48fa-4602-946c-574604ab930f",
   "metadata": {},
   "outputs": [
    {
     "data": {
      "text/plain": [
       "False"
      ]
     },
     "execution_count": 13,
     "metadata": {},
     "output_type": "execute_result"
    }
   ],
   "source": [
    "a = [1,2,3]\n",
    "b = a.copy()\n",
    "b is a"
   ]
  },
  {
   "cell_type": "markdown",
   "id": "45739888-66d7-48fa-bec0-a46b96c703bd",
   "metadata": {},
   "source": [
    "# 변수를 만드는 여러 가지 방법"
   ]
  },
  {
   "cell_type": "code",
   "execution_count": 14,
   "id": "6156c7d4-6537-46a1-8c91-1adbcbefe149",
   "metadata": {},
   "outputs": [
    {
     "name": "stdout",
     "output_type": "stream",
     "text": [
      "python\n",
      "life\n"
     ]
    }
   ],
   "source": [
    "# 튜플로 a, b에 값을 대입\n",
    "a, b = ('python', 'life')\n",
    "print(a)\n",
    "print(b)"
   ]
  },
  {
   "cell_type": "code",
   "execution_count": 15,
   "id": "64d6170c-aefd-4023-ba4c-5396d68dfbb2",
   "metadata": {},
   "outputs": [
    {
     "name": "stdout",
     "output_type": "stream",
     "text": [
      "python\n",
      "life\n"
     ]
    }
   ],
   "source": [
    "(a, b) = 'python', 'life'\n",
    "print(a)\n",
    "print(b)"
   ]
  },
  {
   "cell_type": "code",
   "execution_count": 16,
   "id": "878637b3-cecd-4148-98c1-8df4212d3645",
   "metadata": {},
   "outputs": [
    {
     "name": "stdout",
     "output_type": "stream",
     "text": [
      "python\n",
      "life\n"
     ]
    }
   ],
   "source": [
    "# 리스트로 변수 만들기\n",
    "[a, b] = ['python', 'life']\n",
    "print(a)\n",
    "print(b)"
   ]
  },
  {
   "cell_type": "code",
   "execution_count": 17,
   "id": "9162c49c-4779-4152-b4f0-9c70772d35df",
   "metadata": {},
   "outputs": [
    {
     "name": "stdout",
     "output_type": "stream",
     "text": [
      "python\n",
      "python\n"
     ]
    }
   ],
   "source": [
    "# 여러 개의 변수에 같은 값을 대입\n",
    "a = b = 'python'\n",
    "print(a)\n",
    "print(b)"
   ]
  },
  {
   "cell_type": "markdown",
   "id": "c94f82eb-04ed-48d0-8af9-186604a131bc",
   "metadata": {},
   "source": [
    "### * 두 변수의 값 변경(파이썬에서만 가능)"
   ]
  },
  {
   "cell_type": "code",
   "execution_count": 18,
   "id": "af098eb6-f334-4f94-ad59-7a8a608b7976",
   "metadata": {},
   "outputs": [
    {
     "name": "stdout",
     "output_type": "stream",
     "text": [
      "5\n",
      "3\n"
     ]
    }
   ],
   "source": [
    "a = 3\n",
    "b = 5\n",
    "a, b = b, a\n",
    "print(a)\n",
    "print(b)"
   ]
  }
 ],
 "metadata": {
  "kernelspec": {
   "display_name": "Python 3 (ipykernel)",
   "language": "python",
   "name": "python3"
  },
  "language_info": {
   "codemirror_mode": {
    "name": "ipython",
    "version": 3
   },
   "file_extension": ".py",
   "mimetype": "text/x-python",
   "name": "python",
   "nbconvert_exporter": "python",
   "pygments_lexer": "ipython3",
   "version": "3.12.4"
  }
 },
 "nbformat": 4,
 "nbformat_minor": 5
}
