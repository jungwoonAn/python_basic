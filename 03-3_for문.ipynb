{
 "cells": [
  {
   "cell_type": "markdown",
   "id": "1e7ccae4-dc85-4c78-9040-459e2c1b92c0",
   "metadata": {},
   "source": [
    "# 예제를 통해 for 문 이해하기"
   ]
  },
  {
   "cell_type": "markdown",
   "id": "f5ca1b92-a228-4c61-8bee-0f0097d4793f",
   "metadata": {},
   "source": [
    "### 1. 전형적인 for 문"
   ]
  },
  {
   "cell_type": "code",
   "execution_count": 1,
   "id": "3ce85143-8af3-441b-87a4-e518f8a614e2",
   "metadata": {},
   "outputs": [
    {
     "name": "stdout",
     "output_type": "stream",
     "text": [
      "one\n",
      "two\n",
      "three\n"
     ]
    }
   ],
   "source": [
    "test_list = ['one','two','three']\n",
    "\n",
    "for i in test_list:\n",
    "    print(i)"
   ]
  },
  {
   "cell_type": "markdown",
   "id": "355d3eba-70f3-4428-a15d-c7234df3e940",
   "metadata": {},
   "source": [
    "### 2. 다양한 for 문의 사용"
   ]
  },
  {
   "cell_type": "code",
   "execution_count": 2,
   "id": "547c3fc5-8a2c-4723-93e8-f7de424097fc",
   "metadata": {},
   "outputs": [
    {
     "name": "stdout",
     "output_type": "stream",
     "text": [
      "3\n",
      "7\n",
      "11\n"
     ]
    }
   ],
   "source": [
    "a = [(1,2), (3,4), (5,6)]\n",
    "\n",
    "for (first, second) in a:\n",
    "    print(first + second)"
   ]
  },
  {
   "cell_type": "markdown",
   "id": "e0477a74-e1b0-4a6d-ab59-f2ac53a8c6a0",
   "metadata": {},
   "source": [
    "### 3. for 문의 응용"
   ]
  },
  {
   "cell_type": "code",
   "execution_count": 3,
   "id": "b6f2a819-d3db-4a13-849f-847f09b8f91a",
   "metadata": {},
   "outputs": [
    {
     "name": "stdout",
     "output_type": "stream",
     "text": [
      "1번 학생은 합격입니다.\n",
      "2번 학생은 불합격입니다.\n",
      "3번 학생은 합격입니다.\n",
      "4번 학생은 불합격입니다.\n",
      "5번 학생은 합격입니다.\n"
     ]
    }
   ],
   "source": [
    "# 총 5명의 학생이 시험을 보았는데 시험 점수가 60점 이상이면 합격이고 그렇지 않으면 불합격이다.\n",
    "# 합격인지, 불합격인지 결과를 보여 주시오.\n",
    "scores = [90,25,67,45,80]\n",
    "num = 0  # 학생에게 붙여 줄 번호\n",
    "\n",
    "for score in scores:\n",
    "    num += 1\n",
    "    if score >= 60:\n",
    "        print(\"%d번 학생은 합격입니다.\" % num)\n",
    "    else:\n",
    "        print(\"%d번 학생은 불합격입니다.\" % num)"
   ]
  },
  {
   "cell_type": "markdown",
   "id": "33759bca-dd1b-4cc3-b779-5e0209696f76",
   "metadata": {},
   "source": [
    "# for 문과 continue 문"
   ]
  },
  {
   "cell_type": "code",
   "execution_count": 4,
   "id": "0c6f1087-d853-4087-885f-ef8ab5722410",
   "metadata": {},
   "outputs": [
    {
     "name": "stdout",
     "output_type": "stream",
     "text": [
      "1번 학생은 합격입니다.\n",
      "3번 학생은 합격입니다.\n",
      "5번 학생은 합격입니다.\n"
     ]
    }
   ],
   "source": [
    "scores = [90,25,67,45,80]\n",
    "num = 0\n",
    "\n",
    "for score in scores:\n",
    "    num += 1\n",
    "    if score < 60: continue\n",
    "    print(\"%d번 학생은 합격입니다.\" % num)        "
   ]
  },
  {
   "cell_type": "markdown",
   "id": "cdf55acd-6d29-46b1-ae25-371571a5e343",
   "metadata": {},
   "source": [
    "# for 문과 함께 자주 사용하는 range 함수\n",
    "숫자 리스트를 자동으로 만들어 주는 range 함수"
   ]
  },
  {
   "cell_type": "code",
   "execution_count": 5,
   "id": "e8cf8f1e-7e03-48e6-91b5-234e9d31a279",
   "metadata": {},
   "outputs": [
    {
     "data": {
      "text/plain": [
       "range(0, 10)"
      ]
     },
     "execution_count": 5,
     "metadata": {},
     "output_type": "execute_result"
    }
   ],
   "source": [
    "a = range(10)\n",
    "a"
   ]
  },
  {
   "cell_type": "code",
   "execution_count": 6,
   "id": "4d06d037-e471-4c00-8681-4c0b03155a14",
   "metadata": {},
   "outputs": [
    {
     "data": {
      "text/plain": [
       "range(1, 11)"
      ]
     },
     "execution_count": 6,
     "metadata": {},
     "output_type": "execute_result"
    }
   ],
   "source": [
    "a = range(1,11)  # range(시작_숫자, 끝_숫자)\n",
    "a"
   ]
  },
  {
   "cell_type": "markdown",
   "id": "0f58eed2-6e5d-4bb2-8121-a4aba0455440",
   "metadata": {},
   "source": [
    "### range 함수의 예시"
   ]
  },
  {
   "cell_type": "code",
   "execution_count": 7,
   "id": "8a8fce87-eb30-478a-ba33-4d7440ec9bc4",
   "metadata": {},
   "outputs": [
    {
     "name": "stdout",
     "output_type": "stream",
     "text": [
      "55\n"
     ]
    }
   ],
   "source": [
    "add = 0\n",
    "\n",
    "for i in range(1,11):\n",
    "    add = add+i\n",
    "\n",
    "print(add)"
   ]
  },
  {
   "cell_type": "code",
   "execution_count": 8,
   "id": "984eb3df-d954-4586-a66f-28c72d2ba73b",
   "metadata": {},
   "outputs": [
    {
     "name": "stdout",
     "output_type": "stream",
     "text": [
      "1번 학생은 합격입니다.\n",
      "3번 학생은 합격입니다.\n",
      "5번 학생은 합격입니다.\n"
     ]
    }
   ],
   "source": [
    "scores = [90,25,67,45,80]\n",
    "\n",
    "for i in range(0, len(scores)):\n",
    "    if scores[i] < 60: continue\n",
    "    print(\"%d번 학생은 합격입니다.\" % (i+1))"
   ]
  },
  {
   "cell_type": "markdown",
   "id": "6bb5eaf9-5eb3-4410-b079-9675d1492c75",
   "metadata": {},
   "source": [
    "### for와 range를 이용한 구구단"
   ]
  },
  {
   "cell_type": "code",
   "execution_count": 9,
   "id": "f2450c56-03c6-4ebd-81b9-3a795fe28620",
   "metadata": {},
   "outputs": [
    {
     "name": "stdout",
     "output_type": "stream",
     "text": [
      "2 4 6 8 10 12 14 16 18 \n",
      "3 6 9 12 15 18 21 24 27 \n",
      "4 8 12 16 20 24 28 32 36 \n",
      "5 10 15 20 25 30 35 40 45 \n",
      "6 12 18 24 30 36 42 48 54 \n",
      "7 14 21 28 35 42 49 56 63 \n",
      "8 16 24 32 40 48 56 64 72 \n",
      "9 18 27 36 45 54 63 72 81 \n"
     ]
    }
   ],
   "source": [
    "for i in range(2,10):\n",
    "    for j in range(1,10):\n",
    "        print(i*j, end=' ')\n",
    "    print()"
   ]
  },
  {
   "cell_type": "markdown",
   "id": "60780308-484d-4555-b9c0-26480812abac",
   "metadata": {},
   "source": [
    "# 리스트 컴프리헨션 사용하기\n",
    "리스트 안에 for 문을 포함하는 리스트 컴프리헨션(list comprehension)"
   ]
  },
  {
   "cell_type": "code",
   "execution_count": 10,
   "id": "c17d6df1-92d7-4155-8214-7a5f5b714aa8",
   "metadata": {},
   "outputs": [
    {
     "name": "stdout",
     "output_type": "stream",
     "text": [
      "[3, 6, 9, 12]\n"
     ]
    }
   ],
   "source": [
    "a = [1,2,3,4]\n",
    "result = []\n",
    "\n",
    "for num in a:\n",
    "    result.append(num*3)\n",
    "\n",
    "print(result)"
   ]
  },
  {
   "cell_type": "code",
   "execution_count": 11,
   "id": "e041bf15-3689-42f4-83ca-11fdf202a6fa",
   "metadata": {},
   "outputs": [
    {
     "name": "stdout",
     "output_type": "stream",
     "text": [
      "[3, 6, 9, 12]\n"
     ]
    }
   ],
   "source": [
    "# 리스트 컴프리헨션을 사용\n",
    "a = [1,2,3,4]\n",
    "result = [num*3 for num in a]\n",
    "print(result)"
   ]
  },
  {
   "cell_type": "code",
   "execution_count": 12,
   "id": "fd9c13ef-27f3-4021-a234-cf5b7c3d244d",
   "metadata": {},
   "outputs": [
    {
     "name": "stdout",
     "output_type": "stream",
     "text": [
      "[6, 12]\n"
     ]
    }
   ],
   "source": [
    "# [1, 2, 3, 4] 중에서 짝수에만 3을 곱하여 담기\n",
    "a = [1,2,3,4]\n",
    "result = [num*3 for num in a if num%2 == 0]\n",
    "print(result)"
   ]
  },
  {
   "cell_type": "code",
   "execution_count": 13,
   "id": "05f73088-4ba6-4d44-a2a0-186b53c04b2b",
   "metadata": {},
   "outputs": [
    {
     "name": "stdout",
     "output_type": "stream",
     "text": [
      "[2, 4, 6, 8, 10, 12, 14, 16, 18, 3, 6, 9, 12, 15, 18, 21, 24, 27, 4, 8, 12, 16, 20, 24, 28, 32, 36, 5, 10, 15, 20, 25, 30, 35, 40, 45, 6, 12, 18, 24, 30, 36, 42, 48, 54, 7, 14, 21, 28, 35, 42, 49, 56, 63, 8, 16, 24, 32, 40, 48, 56, 64, 72, 9, 18, 27, 36, 45, 54, 63, 72, 81]\n"
     ]
    }
   ],
   "source": [
    "# 구구단 리스트 컴프리헨션\n",
    "result = [x*y for x in range(2,10)\n",
    "              for y in range(1,10)]\n",
    "print(result)"
   ]
  }
 ],
 "metadata": {
  "kernelspec": {
   "display_name": "Python 3 (ipykernel)",
   "language": "python",
   "name": "python3"
  },
  "language_info": {
   "codemirror_mode": {
    "name": "ipython",
    "version": 3
   },
   "file_extension": ".py",
   "mimetype": "text/x-python",
   "name": "python",
   "nbconvert_exporter": "python",
   "pygments_lexer": "ipython3",
   "version": "3.12.4"
  }
 },
 "nbformat": 4,
 "nbformat_minor": 5
}
